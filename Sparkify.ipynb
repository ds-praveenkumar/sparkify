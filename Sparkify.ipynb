{
 "cells": [
  {
   "cell_type": "markdown",
   "metadata": {},
   "source": [
    "# Sparkify Project Workspace\n",
    "This workspace contains a tiny subset (128MB) of the full dataset available (12GB). Feel free to use this workspace to build your project, or to explore a smaller subset with Spark before deploying your cluster on the cloud. Instructions for setting up your Spark cluster is included in the last lesson of the Extracurricular Spark Course content.\n",
    "\n",
    "You can follow the steps below to guide your data analysis and model building portion of this project."
   ]
  },
  {
   "cell_type": "markdown",
   "metadata": {},
   "source": [
    "# Business Understanding\n",
    "\n",
    "The dataset seems to belong to some digital music streaming Platforms. Whenever a user interacts with the music streaming service the logs get generated like timestamp and the activity page(i.e logOut, like, logIn etc). There are basically types of user 1. free -tier and 2. subscription-based. so based on the activity of the user we need to figure out which user is likely to churn out. So, some kind of discounts can be rolled out to those specific users."
   ]
  },
  {
   "cell_type": "markdown",
   "metadata": {},
   "source": [
    "# Data Understanding\n",
    "\n",
    "the datat is contained in a file `mini_sparkify_event_data.json` \n",
    "Data description :\n",
    "* artist: string name of artist\n",
    "* auth : String authencation levels\n",
    "* firstName: string first name of user\n",
    "* gender: string Gender of user\n",
    "* itemInSession: long log count in the session\n",
    "* lastName: string last name of the user\n",
    "* length: double length of the song\n",
    "* level: string type of subscription\n",
    "* location: string location of user\n",
    "* method: string tupe of request\n",
    "* page: string type of interaction\n",
    "* registration: long registration timestamp\n",
    "* sessionId: long session id of the user\n",
    "* song: string name of song\n",
    "* status: long http status code\n",
    "* ts: long timestamp\n",
    "* userAgent: string agent used by user for straeming service\n",
    "* userId: string inique identifier of  the user\n"
   ]
  },
  {
   "cell_type": "code",
   "execution_count": 130,
   "metadata": {},
   "outputs": [],
   "source": [
    "# import libraries\n",
    "from pyspark.sql import SparkSession,Window\n",
    "from pyspark.sql.functions import avg, col, concat, desc, explode, lit, min, max, split, udf, count, when, isnull, collect_list,dayofmonth\n",
    "from pyspark.sql.types import *\n",
    "from pyspark.ml.feature import VectorAssembler, StandardScaler\n",
    "from pyspark.storagelevel import StorageLevel\n",
    "from pyspark.sql.functions import *\n",
    "from pyspark.ml.classification import LogisticRegression, DecisionTreeClassifier,GBTClassifier\n",
    "from pyspark.ml.evaluation import BinaryClassificationEvaluator,MulticlassClassificationEvaluator\n",
    "from pyspark.ml.tuning import CrossValidator, ParamGridBuilder\n",
    "from pyspark.sql import functions as f\n",
    "\n",
    "import seaborn as sns\n",
    "import matplotlib.pyplot as plt\n",
    "\n",
    "from datetime import datetime\n",
    "\n",
    "import re\n",
    "from functools import reduce\n",
    "\n",
    "import pandas as pd\n",
    "%matplotlib inline"
   ]
  },
  {
   "cell_type": "code",
   "execution_count": 2,
   "metadata": {},
   "outputs": [],
   "source": [
    "pd.set_option('display.max_columns', None)  \n",
    "pd.set_option('display.expand_frame_repr', False)\n",
    "pd.set_option('max_colwidth', -1)"
   ]
  },
  {
   "cell_type": "code",
   "execution_count": 3,
   "metadata": {},
   "outputs": [],
   "source": [
    "# create a Spark session\n",
    "sc =  SparkSession \\\n",
    "    .builder \\\n",
    "    .appName(\"Sparkify\") \\\n",
    "    .getOrCreate()"
   ]
  },
  {
   "cell_type": "markdown",
   "metadata": {},
   "source": [
    "# Load and Clean Dataset\n",
    "In this workspace, the mini-dataset file is `mini_sparkify_event_data.json`. Load and clean the dataset, checking for invalid or missing data - for example, records without userids or sessionids. "
   ]
  },
  {
   "cell_type": "code",
   "execution_count": 4,
   "metadata": {},
   "outputs": [
    {
     "name": "stdout",
     "output_type": "stream",
     "text": [
      "root\n",
      " |-- artist: string (nullable = true)\n",
      " |-- auth: string (nullable = true)\n",
      " |-- firstName: string (nullable = true)\n",
      " |-- gender: string (nullable = true)\n",
      " |-- itemInSession: long (nullable = true)\n",
      " |-- lastName: string (nullable = true)\n",
      " |-- length: double (nullable = true)\n",
      " |-- level: string (nullable = true)\n",
      " |-- location: string (nullable = true)\n",
      " |-- method: string (nullable = true)\n",
      " |-- page: string (nullable = true)\n",
      " |-- registration: long (nullable = true)\n",
      " |-- sessionId: long (nullable = true)\n",
      " |-- song: string (nullable = true)\n",
      " |-- status: long (nullable = true)\n",
      " |-- ts: long (nullable = true)\n",
      " |-- userAgent: string (nullable = true)\n",
      " |-- userId: string (nullable = true)\n",
      "\n"
     ]
    }
   ],
   "source": [
    "# Read dataset\n",
    "filename = 'mini_sparkify_event_data.json'\n",
    "df = sc.read.json(filename)\n",
    "df.printSchema()"
   ]
  },
  {
   "cell_type": "code",
   "execution_count": 5,
   "metadata": {},
   "outputs": [
    {
     "data": {
      "text/html": [
       "<div>\n",
       "<style scoped>\n",
       "    .dataframe tbody tr th:only-of-type {\n",
       "        vertical-align: middle;\n",
       "    }\n",
       "\n",
       "    .dataframe tbody tr th {\n",
       "        vertical-align: top;\n",
       "    }\n",
       "\n",
       "    .dataframe thead th {\n",
       "        text-align: right;\n",
       "    }\n",
       "</style>\n",
       "<table border=\"1\" class=\"dataframe\">\n",
       "  <thead>\n",
       "    <tr style=\"text-align: right;\">\n",
       "      <th></th>\n",
       "      <th>artist</th>\n",
       "      <th>auth</th>\n",
       "      <th>firstName</th>\n",
       "      <th>gender</th>\n",
       "      <th>itemInSession</th>\n",
       "      <th>lastName</th>\n",
       "      <th>length</th>\n",
       "      <th>level</th>\n",
       "      <th>location</th>\n",
       "      <th>method</th>\n",
       "      <th>page</th>\n",
       "      <th>registration</th>\n",
       "      <th>sessionId</th>\n",
       "      <th>song</th>\n",
       "      <th>status</th>\n",
       "      <th>ts</th>\n",
       "      <th>userAgent</th>\n",
       "      <th>userId</th>\n",
       "    </tr>\n",
       "  </thead>\n",
       "  <tbody>\n",
       "    <tr>\n",
       "      <th>0</th>\n",
       "      <td>Martha Tilston</td>\n",
       "      <td>Logged In</td>\n",
       "      <td>Colin</td>\n",
       "      <td>M</td>\n",
       "      <td>50</td>\n",
       "      <td>Freeman</td>\n",
       "      <td>277.89016</td>\n",
       "      <td>paid</td>\n",
       "      <td>Bakersfield, CA</td>\n",
       "      <td>PUT</td>\n",
       "      <td>NextSong</td>\n",
       "      <td>1.538173e+12</td>\n",
       "      <td>29</td>\n",
       "      <td>Rockpools</td>\n",
       "      <td>200</td>\n",
       "      <td>1538352117000</td>\n",
       "      <td>Mozilla/5.0 (Windows NT 6.1; WOW64; rv:31.0) Gecko/20100101 Firefox/31.0</td>\n",
       "      <td>30</td>\n",
       "    </tr>\n",
       "    <tr>\n",
       "      <th>1</th>\n",
       "      <td>Five Iron Frenzy</td>\n",
       "      <td>Logged In</td>\n",
       "      <td>Micah</td>\n",
       "      <td>M</td>\n",
       "      <td>79</td>\n",
       "      <td>Long</td>\n",
       "      <td>236.09424</td>\n",
       "      <td>free</td>\n",
       "      <td>Boston-Cambridge-Newton, MA-NH</td>\n",
       "      <td>PUT</td>\n",
       "      <td>NextSong</td>\n",
       "      <td>1.538332e+12</td>\n",
       "      <td>8</td>\n",
       "      <td>Canada</td>\n",
       "      <td>200</td>\n",
       "      <td>1538352180000</td>\n",
       "      <td>\"Mozilla/5.0 (Windows NT 6.1; WOW64) AppleWebKit/537.36 (KHTML, like Gecko) Chrome/37.0.2062.103 Safari/537.36\"</td>\n",
       "      <td>9</td>\n",
       "    </tr>\n",
       "    <tr>\n",
       "      <th>2</th>\n",
       "      <td>Adam Lambert</td>\n",
       "      <td>Logged In</td>\n",
       "      <td>Colin</td>\n",
       "      <td>M</td>\n",
       "      <td>51</td>\n",
       "      <td>Freeman</td>\n",
       "      <td>282.82730</td>\n",
       "      <td>paid</td>\n",
       "      <td>Bakersfield, CA</td>\n",
       "      <td>PUT</td>\n",
       "      <td>NextSong</td>\n",
       "      <td>1.538173e+12</td>\n",
       "      <td>29</td>\n",
       "      <td>Time For Miracles</td>\n",
       "      <td>200</td>\n",
       "      <td>1538352394000</td>\n",
       "      <td>Mozilla/5.0 (Windows NT 6.1; WOW64; rv:31.0) Gecko/20100101 Firefox/31.0</td>\n",
       "      <td>30</td>\n",
       "    </tr>\n",
       "    <tr>\n",
       "      <th>3</th>\n",
       "      <td>Enigma</td>\n",
       "      <td>Logged In</td>\n",
       "      <td>Micah</td>\n",
       "      <td>M</td>\n",
       "      <td>80</td>\n",
       "      <td>Long</td>\n",
       "      <td>262.71302</td>\n",
       "      <td>free</td>\n",
       "      <td>Boston-Cambridge-Newton, MA-NH</td>\n",
       "      <td>PUT</td>\n",
       "      <td>NextSong</td>\n",
       "      <td>1.538332e+12</td>\n",
       "      <td>8</td>\n",
       "      <td>Knocking On Forbidden Doors</td>\n",
       "      <td>200</td>\n",
       "      <td>1538352416000</td>\n",
       "      <td>\"Mozilla/5.0 (Windows NT 6.1; WOW64) AppleWebKit/537.36 (KHTML, like Gecko) Chrome/37.0.2062.103 Safari/537.36\"</td>\n",
       "      <td>9</td>\n",
       "    </tr>\n",
       "    <tr>\n",
       "      <th>4</th>\n",
       "      <td>Daft Punk</td>\n",
       "      <td>Logged In</td>\n",
       "      <td>Colin</td>\n",
       "      <td>M</td>\n",
       "      <td>52</td>\n",
       "      <td>Freeman</td>\n",
       "      <td>223.60771</td>\n",
       "      <td>paid</td>\n",
       "      <td>Bakersfield, CA</td>\n",
       "      <td>PUT</td>\n",
       "      <td>NextSong</td>\n",
       "      <td>1.538173e+12</td>\n",
       "      <td>29</td>\n",
       "      <td>Harder Better Faster Stronger</td>\n",
       "      <td>200</td>\n",
       "      <td>1538352676000</td>\n",
       "      <td>Mozilla/5.0 (Windows NT 6.1; WOW64; rv:31.0) Gecko/20100101 Firefox/31.0</td>\n",
       "      <td>30</td>\n",
       "    </tr>\n",
       "  </tbody>\n",
       "</table>\n",
       "</div>"
      ],
      "text/plain": [
       "             artist       auth firstName gender  itemInSession lastName     length level                        location method      page  registration  sessionId                           song  status             ts                                                                                                        userAgent userId\n",
       "0  Martha Tilston    Logged In  Colin     M      50             Freeman  277.89016  paid  Bakersfield, CA                 PUT    NextSong  1.538173e+12  29         Rockpools                      200     1538352117000  Mozilla/5.0 (Windows NT 6.1; WOW64; rv:31.0) Gecko/20100101 Firefox/31.0                                         30   \n",
       "1  Five Iron Frenzy  Logged In  Micah     M      79             Long     236.09424  free  Boston-Cambridge-Newton, MA-NH  PUT    NextSong  1.538332e+12  8          Canada                         200     1538352180000  \"Mozilla/5.0 (Windows NT 6.1; WOW64) AppleWebKit/537.36 (KHTML, like Gecko) Chrome/37.0.2062.103 Safari/537.36\"  9    \n",
       "2  Adam Lambert      Logged In  Colin     M      51             Freeman  282.82730  paid  Bakersfield, CA                 PUT    NextSong  1.538173e+12  29         Time For Miracles              200     1538352394000  Mozilla/5.0 (Windows NT 6.1; WOW64; rv:31.0) Gecko/20100101 Firefox/31.0                                         30   \n",
       "3  Enigma            Logged In  Micah     M      80             Long     262.71302  free  Boston-Cambridge-Newton, MA-NH  PUT    NextSong  1.538332e+12  8          Knocking On Forbidden Doors    200     1538352416000  \"Mozilla/5.0 (Windows NT 6.1; WOW64) AppleWebKit/537.36 (KHTML, like Gecko) Chrome/37.0.2062.103 Safari/537.36\"  9    \n",
       "4  Daft Punk         Logged In  Colin     M      52             Freeman  223.60771  paid  Bakersfield, CA                 PUT    NextSong  1.538173e+12  29         Harder Better Faster Stronger  200     1538352676000  Mozilla/5.0 (Windows NT 6.1; WOW64; rv:31.0) Gecko/20100101 Firefox/31.0                                         30   "
      ]
     },
     "execution_count": 5,
     "metadata": {},
     "output_type": "execute_result"
    }
   ],
   "source": [
    "def show_df(df):\n",
    "    \"\"\"\n",
    "        ARGS:\n",
    "            - spark Dataframe\n",
    "        RETURNS:\n",
    "            - Prints dataframe\n",
    "    \"\"\"\n",
    "    return df.toPandas().head()\n",
    "show_df(df)"
   ]
  },
  {
   "cell_type": "code",
   "execution_count": 6,
   "metadata": {},
   "outputs": [
    {
     "name": "stdout",
     "output_type": "stream",
     "text": [
      "row count: 286500, column count: 18\n"
     ]
    }
   ],
   "source": [
    "def df_dimentions(df):\n",
    "    \"\"\"\n",
    "        Prints number of Rows and Columns\n",
    "        ARGS:\n",
    "            - Dataframe\n",
    "    \"\"\"\n",
    "    print(f\"row count: {df.count()}, column count: {len(df.columns)}\")\n",
    "df_dimentions(df)"
   ]
  },
  {
   "cell_type": "code",
   "execution_count": 8,
   "metadata": {},
   "outputs": [
    {
     "data": {
      "text/html": [
       "<div>\n",
       "<style scoped>\n",
       "    .dataframe tbody tr th:only-of-type {\n",
       "        vertical-align: middle;\n",
       "    }\n",
       "\n",
       "    .dataframe tbody tr th {\n",
       "        vertical-align: top;\n",
       "    }\n",
       "\n",
       "    .dataframe thead th {\n",
       "        text-align: right;\n",
       "    }\n",
       "</style>\n",
       "<table border=\"1\" class=\"dataframe\">\n",
       "  <thead>\n",
       "    <tr style=\"text-align: right;\">\n",
       "      <th></th>\n",
       "      <th>artist</th>\n",
       "      <th>auth</th>\n",
       "      <th>firstName</th>\n",
       "      <th>gender</th>\n",
       "      <th>itemInSession</th>\n",
       "      <th>lastName</th>\n",
       "      <th>length</th>\n",
       "      <th>level</th>\n",
       "      <th>location</th>\n",
       "      <th>method</th>\n",
       "      <th>page</th>\n",
       "      <th>registration</th>\n",
       "      <th>sessionId</th>\n",
       "      <th>song</th>\n",
       "      <th>status</th>\n",
       "      <th>ts</th>\n",
       "      <th>userAgent</th>\n",
       "      <th>userId</th>\n",
       "    </tr>\n",
       "  </thead>\n",
       "  <tbody>\n",
       "    <tr>\n",
       "      <th>0</th>\n",
       "      <td>MarthaTilston</td>\n",
       "      <td>LoggedIn</td>\n",
       "      <td>Colin</td>\n",
       "      <td>M</td>\n",
       "      <td>50</td>\n",
       "      <td>Freeman</td>\n",
       "      <td>277.89016</td>\n",
       "      <td>paid</td>\n",
       "      <td>Bakersfield,CA</td>\n",
       "      <td>PUT</td>\n",
       "      <td>NextSong</td>\n",
       "      <td>1.538173e+12</td>\n",
       "      <td>29</td>\n",
       "      <td>Rockpools</td>\n",
       "      <td>200</td>\n",
       "      <td>1538352117000</td>\n",
       "      <td>Mozilla50WindowsNT61WOW64rv310Gecko20100101Firefox310</td>\n",
       "      <td>30</td>\n",
       "    </tr>\n",
       "    <tr>\n",
       "      <th>1</th>\n",
       "      <td>FiveIronFrenzy</td>\n",
       "      <td>LoggedIn</td>\n",
       "      <td>Micah</td>\n",
       "      <td>M</td>\n",
       "      <td>79</td>\n",
       "      <td>Long</td>\n",
       "      <td>236.09424</td>\n",
       "      <td>free</td>\n",
       "      <td>Boston-Cambridge-Newton,MA-NH</td>\n",
       "      <td>PUT</td>\n",
       "      <td>NextSong</td>\n",
       "      <td>1.538332e+12</td>\n",
       "      <td>8</td>\n",
       "      <td>Canada</td>\n",
       "      <td>200</td>\n",
       "      <td>1538352180000</td>\n",
       "      <td>Mozilla50WindowsNT61WOW64AppleWebKit53736KHTML,likeGeckoChrome3702062103Safari53736</td>\n",
       "      <td>9</td>\n",
       "    </tr>\n",
       "    <tr>\n",
       "      <th>2</th>\n",
       "      <td>AdamLambert</td>\n",
       "      <td>LoggedIn</td>\n",
       "      <td>Colin</td>\n",
       "      <td>M</td>\n",
       "      <td>51</td>\n",
       "      <td>Freeman</td>\n",
       "      <td>282.82730</td>\n",
       "      <td>paid</td>\n",
       "      <td>Bakersfield,CA</td>\n",
       "      <td>PUT</td>\n",
       "      <td>NextSong</td>\n",
       "      <td>1.538173e+12</td>\n",
       "      <td>29</td>\n",
       "      <td>TimeForMiracles</td>\n",
       "      <td>200</td>\n",
       "      <td>1538352394000</td>\n",
       "      <td>Mozilla50WindowsNT61WOW64rv310Gecko20100101Firefox310</td>\n",
       "      <td>30</td>\n",
       "    </tr>\n",
       "    <tr>\n",
       "      <th>3</th>\n",
       "      <td>Enigma</td>\n",
       "      <td>LoggedIn</td>\n",
       "      <td>Micah</td>\n",
       "      <td>M</td>\n",
       "      <td>80</td>\n",
       "      <td>Long</td>\n",
       "      <td>262.71302</td>\n",
       "      <td>free</td>\n",
       "      <td>Boston-Cambridge-Newton,MA-NH</td>\n",
       "      <td>PUT</td>\n",
       "      <td>NextSong</td>\n",
       "      <td>1.538332e+12</td>\n",
       "      <td>8</td>\n",
       "      <td>KnockingOnForbiddenDoors</td>\n",
       "      <td>200</td>\n",
       "      <td>1538352416000</td>\n",
       "      <td>Mozilla50WindowsNT61WOW64AppleWebKit53736KHTML,likeGeckoChrome3702062103Safari53736</td>\n",
       "      <td>9</td>\n",
       "    </tr>\n",
       "    <tr>\n",
       "      <th>4</th>\n",
       "      <td>DaftPunk</td>\n",
       "      <td>LoggedIn</td>\n",
       "      <td>Colin</td>\n",
       "      <td>M</td>\n",
       "      <td>52</td>\n",
       "      <td>Freeman</td>\n",
       "      <td>223.60771</td>\n",
       "      <td>paid</td>\n",
       "      <td>Bakersfield,CA</td>\n",
       "      <td>PUT</td>\n",
       "      <td>NextSong</td>\n",
       "      <td>1.538173e+12</td>\n",
       "      <td>29</td>\n",
       "      <td>HarderBetterFasterStronger</td>\n",
       "      <td>200</td>\n",
       "      <td>1538352676000</td>\n",
       "      <td>Mozilla50WindowsNT61WOW64rv310Gecko20100101Firefox310</td>\n",
       "      <td>30</td>\n",
       "    </tr>\n",
       "  </tbody>\n",
       "</table>\n",
       "</div>"
      ],
      "text/plain": [
       "           artist      auth firstName gender  itemInSession lastName     length level                       location method      page  registration  sessionId                        song  status             ts                                                                            userAgent userId\n",
       "0  MarthaTilston   LoggedIn  Colin     M      50             Freeman  277.89016  paid  Bakersfield,CA                 PUT    NextSong  1.538173e+12  29         Rockpools                   200     1538352117000  Mozilla50WindowsNT61WOW64rv310Gecko20100101Firefox310                                30   \n",
       "1  FiveIronFrenzy  LoggedIn  Micah     M      79             Long     236.09424  free  Boston-Cambridge-Newton,MA-NH  PUT    NextSong  1.538332e+12  8          Canada                      200     1538352180000  Mozilla50WindowsNT61WOW64AppleWebKit53736KHTML,likeGeckoChrome3702062103Safari53736  9    \n",
       "2  AdamLambert     LoggedIn  Colin     M      51             Freeman  282.82730  paid  Bakersfield,CA                 PUT    NextSong  1.538173e+12  29         TimeForMiracles             200     1538352394000  Mozilla50WindowsNT61WOW64rv310Gecko20100101Firefox310                                30   \n",
       "3  Enigma          LoggedIn  Micah     M      80             Long     262.71302  free  Boston-Cambridge-Newton,MA-NH  PUT    NextSong  1.538332e+12  8          KnockingOnForbiddenDoors    200     1538352416000  Mozilla50WindowsNT61WOW64AppleWebKit53736KHTML,likeGeckoChrome3702062103Safari53736  9    \n",
       "4  DaftPunk        LoggedIn  Colin     M      52             Freeman  223.60771  paid  Bakersfield,CA                 PUT    NextSong  1.538173e+12  29         HarderBetterFasterStronger  200     1538352676000  Mozilla50WindowsNT61WOW64rv310Gecko20100101Firefox310                                30   "
      ]
     },
     "execution_count": 8,
     "metadata": {},
     "output_type": "execute_result"
    }
   ],
   "source": [
    "## remove special characters from column\n",
    "def remove_special_chars(df):\n",
    "    \"\"\"\n",
    "        removes special characters from data\n",
    "        ARGS:\n",
    "            - Dataframe\n",
    "        RETURNS:\n",
    "            - clear Dataframe\n",
    "    \"\"\"\n",
    "    for field in df.schema.fields:\n",
    "        if field.dataType == StringType():\n",
    "            df = df.withColumn(field.name,regexp_replace(field.name,'[^a-zA-Z0-9\\,\\-]',''))\n",
    "    \n",
    "    return df\n",
    "#df = remove_special_chars(df)\n",
    "show_df(df)"
   ]
  },
  {
   "cell_type": "code",
   "execution_count": 7,
   "metadata": {},
   "outputs": [],
   "source": [
    "def convert_unixtimestamp(df,ts_col):\n",
    "    \"\"\"\n",
    "        converts unix timestamp to date time\n",
    "        ARGS:\n",
    "            - df: Dataframe with Unixtimestamp\n",
    "            - ts: unixtimestamp column name\n",
    "        RETURNS:\n",
    "            - dataframe with new datetime column\n",
    "    \"\"\"\n",
    "   \n",
    "    df = df.withColumn(\"dateTime\",from_unixtime(col(ts_col).cast(LongType())/1000).cast(TimestampType()))\n",
    "    df = df.withColumn(\"month\",month(col('dateTime')))\n",
    "    df = df.withColumn(\"dayOfMonth\",dayofmonth(col('dateTime')))\n",
    "    df = df.withColumn(\"hour\",hour(col('dateTime')))\n",
    "    df = df.withColumn(\"date\",from_unixtime(col(ts_col)/1000).cast(DateType()))\n",
    "    df = df.withColumn(\"location\",split(col('location'),',').getItem(1))\n",
    "    df = df.filter(col('userId').isNotNull())\n",
    "    return df\n"
   ]
  },
  {
   "cell_type": "code",
   "execution_count": 8,
   "metadata": {},
   "outputs": [],
   "source": [
    "# create time series columns\n",
    "df = convert_unixtimestamp(df,'ts')"
   ]
  },
  {
   "cell_type": "code",
   "execution_count": 9,
   "metadata": {},
   "outputs": [
    {
     "name": "stdout",
     "output_type": "stream",
     "text": [
      "root\n",
      " |-- artist: string (nullable = true)\n",
      " |-- auth: string (nullable = true)\n",
      " |-- firstName: string (nullable = true)\n",
      " |-- gender: string (nullable = true)\n",
      " |-- itemInSession: long (nullable = true)\n",
      " |-- lastName: string (nullable = true)\n",
      " |-- length: double (nullable = true)\n",
      " |-- level: string (nullable = true)\n",
      " |-- location: string (nullable = true)\n",
      " |-- method: string (nullable = true)\n",
      " |-- page: string (nullable = true)\n",
      " |-- registration: long (nullable = true)\n",
      " |-- sessionId: long (nullable = true)\n",
      " |-- song: string (nullable = true)\n",
      " |-- status: long (nullable = true)\n",
      " |-- ts: long (nullable = true)\n",
      " |-- userAgent: string (nullable = true)\n",
      " |-- userId: string (nullable = true)\n",
      " |-- dateTime: timestamp (nullable = true)\n",
      " |-- month: integer (nullable = true)\n",
      " |-- dayOfMonth: integer (nullable = true)\n",
      " |-- hour: integer (nullable = true)\n",
      " |-- date: date (nullable = true)\n",
      "\n"
     ]
    }
   ],
   "source": [
    "df.printSchema()"
   ]
  },
  {
   "cell_type": "code",
   "execution_count": 10,
   "metadata": {},
   "outputs": [
    {
     "data": {
      "text/plain": [
       "0"
      ]
     },
     "execution_count": 10,
     "metadata": {},
     "output_type": "execute_result"
    }
   ],
   "source": [
    "df.filter(col('userId').isNull()).count()"
   ]
  },
  {
   "cell_type": "code",
   "execution_count": 11,
   "metadata": {},
   "outputs": [
    {
     "data": {
      "text/plain": [
       "0"
      ]
     },
     "execution_count": 11,
     "metadata": {},
     "output_type": "execute_result"
    }
   ],
   "source": [
    "# Dropping the missing User's ID rows\n",
    "df = df.filter(df.userId != '')\n",
    "# Check\n",
    "df.filter(df.userId == '').count()"
   ]
  },
  {
   "cell_type": "markdown",
   "metadata": {},
   "source": [
    "# Exploratory Data Analysis\n",
    "When you're working with the full dataset, perform EDA by loading a small subset of the data and doing basic manipulations within Spark. In this workspace, you are already provided a small subset of data you can explore.\n",
    "\n",
    "### Define Churn\n",
    "\n",
    "Once you've done some preliminary analysis, create a column `Churn` to use as the label for your model. I suggest using the `Cancellation Confirmation` events to define your churn, which happen for both paid and free users. As a bonus task, you can also look into the `Downgrade` events.\n",
    "\n",
    "### Explore Data\n",
    "Once you've defined churn, perform some exploratory data analysis to observe the behavior for users who stayed vs users who churned. You can start by exploring aggregates on these two groups of users, observing how much of a specific action they experienced per a certain time unit or number of songs played."
   ]
  },
  {
   "cell_type": "code",
   "execution_count": 12,
   "metadata": {},
   "outputs": [],
   "source": [
    "def bar_plot(df,col1,col2=None,hue=None,labels=None):\n",
    "    \"\"\"\n",
    "        plots using the data \n",
    "        ARGS:\n",
    "            - df: Pandas Dataframe\n",
    "    \"\"\"\n",
    "    plt.figure(figsize=(15,5))\n",
    "    plot = sns.barplot(data=df,x=col1,y=col2,hue=hue)\n",
    "    plot.set_xticklabels(labels)\n",
    "    plt.show()\n",
    "    "
   ]
  },
  {
   "cell_type": "code",
   "execution_count": 13,
   "metadata": {},
   "outputs": [],
   "source": [
    "def distinct_attributes(df,col_name):\n",
    "    \"\"\"\n",
    "        Prints all the distinct attributes/values of a single column\n",
    "        ARGS:\n",
    "            - df: Dataframe\n",
    "            - col_name: Name of the column for distinct attributes\n",
    "        \n",
    "    \"\"\"\n",
    "    print(df.select(col_name).distinct().collect())"
   ]
  },
  {
   "cell_type": "code",
   "execution_count": 14,
   "metadata": {},
   "outputs": [
    {
     "name": "stdout",
     "output_type": "stream",
     "text": [
      "auth\n",
      "[Row(auth='Cancelled'), Row(auth='Logged In')]\n",
      "**************************************************\n",
      "gender\n",
      "[Row(gender='F'), Row(gender='M')]\n",
      "**************************************************\n",
      "level\n",
      "[Row(level='free'), Row(level='paid')]\n",
      "**************************************************\n",
      "location\n",
      "[Row(location=' NE-IA'), Row(location=' PA-NJ'), Row(location=' WA'), Row(location=' DC-VA-MD-WV'), Row(location=' AL'), Row(location=' MI'), Row(location=' MN-WI'), Row(location=' IL-IN-WI'), Row(location=' MD-WV'), Row(location=' NH'), Row(location=' AK'), Row(location=' AR'), Row(location=' AZ'), Row(location=' MA-NH'), Row(location=' WV'), Row(location=' TN-MS-AR'), Row(location=' MO-IL'), Row(location=' TN'), Row(location=' NY'), Row(location=' MD'), Row(location=' OH'), Row(location=' FL'), Row(location=' IL'), Row(location=' IL-MO'), Row(location=' LA'), Row(location=' CA'), Row(location=' NY-NJ-PA'), Row(location=' UT'), Row(location=' TX'), Row(location=' SC'), Row(location=' MO-KS'), Row(location=' OR-WA'), Row(location=' UT-ID'), Row(location=' OK'), Row(location=' NV'), Row(location=' IA'), Row(location=' VA-NC'), Row(location=' RI-MA'), Row(location=' PA'), Row(location=' OR'), Row(location=' GA-AL'), Row(location=' KY-IN'), Row(location=' CT'), Row(location=' TN-VA'), Row(location=' OH-KY-IN'), Row(location=' SC-NC'), Row(location=' NJ'), Row(location=' GA'), Row(location=' MS'), Row(location=' MT'), Row(location=' CO'), Row(location=' PA-NJ-DE-MD'), Row(location=' VA'), Row(location=' NC-SC'), Row(location=' WI'), Row(location=' KY'), Row(location=' IN'), Row(location=' NC')]\n",
      "**************************************************\n",
      "method\n",
      "[Row(method='PUT'), Row(method='GET')]\n",
      "**************************************************\n",
      "page\n",
      "[Row(page='Cancel'), Row(page='Submit Downgrade'), Row(page='Thumbs Down'), Row(page='Home'), Row(page='Downgrade'), Row(page='Roll Advert'), Row(page='Logout'), Row(page='Save Settings'), Row(page='Cancellation Confirmation'), Row(page='About'), Row(page='Settings'), Row(page='Add to Playlist'), Row(page='Add Friend'), Row(page='NextSong'), Row(page='Thumbs Up'), Row(page='Help'), Row(page='Upgrade'), Row(page='Error'), Row(page='Submit Upgrade')]\n",
      "**************************************************\n"
     ]
    }
   ],
   "source": [
    "def categorical_columns(df):\n",
    "    \"\"\"\n",
    "        prints distinct values of categorical columns\n",
    "        ARGS:\n",
    "            - df: Dataframe\n",
    "    \"\"\"\n",
    "    for field in df.schema.fields:\n",
    "        if ((field.dataType == StringType()) and (field.name not in ['userId','lastName','userAgent','firstName','artist','song'] )):\n",
    "            print(field.name)\n",
    "            distinct_attributes(df,field.name)\n",
    "            print(\"*\"*50)\n",
    "categorical_columns(df)"
   ]
  },
  {
   "cell_type": "code",
   "execution_count": 15,
   "metadata": {},
   "outputs": [
    {
     "name": "stdout",
     "output_type": "stream",
     "text": [
      "+------+\n",
      "|userId|\n",
      "+------+\n",
      "|   125|\n",
      "|    51|\n",
      "|    54|\n",
      "|100014|\n",
      "|   101|\n",
      "|    29|\n",
      "|100021|\n",
      "|    87|\n",
      "|    73|\n",
      "|     3|\n",
      "+------+\n",
      "only showing top 10 rows\n",
      "\n"
     ]
    }
   ],
   "source": [
    "#filter pages of type CancellationConfirmation\n",
    "df.filter(df.page==\"Cancellation Confirmation\").select(\"userId\").dropDuplicates().show(10)"
   ]
  },
  {
   "cell_type": "code",
   "execution_count": 16,
   "metadata": {},
   "outputs": [
    {
     "data": {
      "text/html": [
       "<div>\n",
       "<style scoped>\n",
       "    .dataframe tbody tr th:only-of-type {\n",
       "        vertical-align: middle;\n",
       "    }\n",
       "\n",
       "    .dataframe tbody tr th {\n",
       "        vertical-align: top;\n",
       "    }\n",
       "\n",
       "    .dataframe thead th {\n",
       "        text-align: right;\n",
       "    }\n",
       "</style>\n",
       "<table border=\"1\" class=\"dataframe\">\n",
       "  <thead>\n",
       "    <tr style=\"text-align: right;\">\n",
       "      <th></th>\n",
       "      <th>artist</th>\n",
       "      <th>auth</th>\n",
       "      <th>firstName</th>\n",
       "      <th>gender</th>\n",
       "      <th>itemInSession</th>\n",
       "      <th>lastName</th>\n",
       "      <th>length</th>\n",
       "      <th>level</th>\n",
       "      <th>location</th>\n",
       "      <th>method</th>\n",
       "      <th>page</th>\n",
       "      <th>registration</th>\n",
       "      <th>sessionId</th>\n",
       "      <th>song</th>\n",
       "      <th>status</th>\n",
       "      <th>ts</th>\n",
       "      <th>userAgent</th>\n",
       "      <th>userId</th>\n",
       "      <th>dateTime</th>\n",
       "      <th>month</th>\n",
       "      <th>dayOfMonth</th>\n",
       "      <th>hour</th>\n",
       "      <th>date</th>\n",
       "      <th>label</th>\n",
       "    </tr>\n",
       "  </thead>\n",
       "  <tbody>\n",
       "    <tr>\n",
       "      <th>0</th>\n",
       "      <td>Sleeping With Sirens</td>\n",
       "      <td>Logged In</td>\n",
       "      <td>Darianna</td>\n",
       "      <td>F</td>\n",
       "      <td>0</td>\n",
       "      <td>Carpenter</td>\n",
       "      <td>202.97098</td>\n",
       "      <td>free</td>\n",
       "      <td>CT</td>\n",
       "      <td>PUT</td>\n",
       "      <td>NextSong</td>\n",
       "      <td>1538016340000</td>\n",
       "      <td>31</td>\n",
       "      <td>Captain Tyin Knots VS Mr Walkway (No Way)</td>\n",
       "      <td>200</td>\n",
       "      <td>1539003534000</td>\n",
       "      <td>\"Mozilla/5.0 (iPhone; CPU iPhone OS 7_1_2 like Mac OS X) AppleWebKit/537.51.2 (KHTML, like Gecko) Version/7.0 Mobile/11D257 Safari/9537.53\"</td>\n",
       "      <td>100010</td>\n",
       "      <td>2018-10-08 18:28:54</td>\n",
       "      <td>10</td>\n",
       "      <td>8</td>\n",
       "      <td>18</td>\n",
       "      <td>2018-10-08</td>\n",
       "      <td>0</td>\n",
       "    </tr>\n",
       "    <tr>\n",
       "      <th>1</th>\n",
       "      <td>Francesca Battistelli</td>\n",
       "      <td>Logged In</td>\n",
       "      <td>Darianna</td>\n",
       "      <td>F</td>\n",
       "      <td>1</td>\n",
       "      <td>Carpenter</td>\n",
       "      <td>196.54485</td>\n",
       "      <td>free</td>\n",
       "      <td>CT</td>\n",
       "      <td>PUT</td>\n",
       "      <td>NextSong</td>\n",
       "      <td>1538016340000</td>\n",
       "      <td>31</td>\n",
       "      <td>Beautiful_ Beautiful (Album)</td>\n",
       "      <td>200</td>\n",
       "      <td>1539003736000</td>\n",
       "      <td>\"Mozilla/5.0 (iPhone; CPU iPhone OS 7_1_2 like Mac OS X) AppleWebKit/537.51.2 (KHTML, like Gecko) Version/7.0 Mobile/11D257 Safari/9537.53\"</td>\n",
       "      <td>100010</td>\n",
       "      <td>2018-10-08 18:32:16</td>\n",
       "      <td>10</td>\n",
       "      <td>8</td>\n",
       "      <td>18</td>\n",
       "      <td>2018-10-08</td>\n",
       "      <td>0</td>\n",
       "    </tr>\n",
       "    <tr>\n",
       "      <th>2</th>\n",
       "      <td>Brutha</td>\n",
       "      <td>Logged In</td>\n",
       "      <td>Darianna</td>\n",
       "      <td>F</td>\n",
       "      <td>2</td>\n",
       "      <td>Carpenter</td>\n",
       "      <td>263.13098</td>\n",
       "      <td>free</td>\n",
       "      <td>CT</td>\n",
       "      <td>PUT</td>\n",
       "      <td>NextSong</td>\n",
       "      <td>1538016340000</td>\n",
       "      <td>31</td>\n",
       "      <td>She's Gone</td>\n",
       "      <td>200</td>\n",
       "      <td>1539003932000</td>\n",
       "      <td>\"Mozilla/5.0 (iPhone; CPU iPhone OS 7_1_2 like Mac OS X) AppleWebKit/537.51.2 (KHTML, like Gecko) Version/7.0 Mobile/11D257 Safari/9537.53\"</td>\n",
       "      <td>100010</td>\n",
       "      <td>2018-10-08 18:35:32</td>\n",
       "      <td>10</td>\n",
       "      <td>8</td>\n",
       "      <td>18</td>\n",
       "      <td>2018-10-08</td>\n",
       "      <td>0</td>\n",
       "    </tr>\n",
       "    <tr>\n",
       "      <th>3</th>\n",
       "      <td>None</td>\n",
       "      <td>Logged In</td>\n",
       "      <td>Darianna</td>\n",
       "      <td>F</td>\n",
       "      <td>3</td>\n",
       "      <td>Carpenter</td>\n",
       "      <td>NaN</td>\n",
       "      <td>free</td>\n",
       "      <td>CT</td>\n",
       "      <td>PUT</td>\n",
       "      <td>Thumbs Up</td>\n",
       "      <td>1538016340000</td>\n",
       "      <td>31</td>\n",
       "      <td>None</td>\n",
       "      <td>307</td>\n",
       "      <td>1539003933000</td>\n",
       "      <td>\"Mozilla/5.0 (iPhone; CPU iPhone OS 7_1_2 like Mac OS X) AppleWebKit/537.51.2 (KHTML, like Gecko) Version/7.0 Mobile/11D257 Safari/9537.53\"</td>\n",
       "      <td>100010</td>\n",
       "      <td>2018-10-08 18:35:33</td>\n",
       "      <td>10</td>\n",
       "      <td>8</td>\n",
       "      <td>18</td>\n",
       "      <td>2018-10-08</td>\n",
       "      <td>0</td>\n",
       "    </tr>\n",
       "    <tr>\n",
       "      <th>4</th>\n",
       "      <td>Josh Ritter</td>\n",
       "      <td>Logged In</td>\n",
       "      <td>Darianna</td>\n",
       "      <td>F</td>\n",
       "      <td>4</td>\n",
       "      <td>Carpenter</td>\n",
       "      <td>316.23791</td>\n",
       "      <td>free</td>\n",
       "      <td>CT</td>\n",
       "      <td>PUT</td>\n",
       "      <td>NextSong</td>\n",
       "      <td>1538016340000</td>\n",
       "      <td>31</td>\n",
       "      <td>Folk Bloodbath</td>\n",
       "      <td>200</td>\n",
       "      <td>1539004195000</td>\n",
       "      <td>\"Mozilla/5.0 (iPhone; CPU iPhone OS 7_1_2 like Mac OS X) AppleWebKit/537.51.2 (KHTML, like Gecko) Version/7.0 Mobile/11D257 Safari/9537.53\"</td>\n",
       "      <td>100010</td>\n",
       "      <td>2018-10-08 18:39:55</td>\n",
       "      <td>10</td>\n",
       "      <td>8</td>\n",
       "      <td>18</td>\n",
       "      <td>2018-10-08</td>\n",
       "      <td>0</td>\n",
       "    </tr>\n",
       "  </tbody>\n",
       "</table>\n",
       "</div>"
      ],
      "text/plain": [
       "                  artist       auth firstName gender  itemInSession   lastName     length level location method       page   registration  sessionId                                       song  status             ts                                                                                                                                    userAgent  userId            dateTime  month  dayOfMonth  hour        date  label\n",
       "0  Sleeping With Sirens   Logged In  Darianna  F      0              Carpenter  202.97098  free   CT      PUT    NextSong   1538016340000  31         Captain Tyin Knots VS Mr Walkway (No Way)  200     1539003534000  \"Mozilla/5.0 (iPhone; CPU iPhone OS 7_1_2 like Mac OS X) AppleWebKit/537.51.2 (KHTML, like Gecko) Version/7.0 Mobile/11D257 Safari/9537.53\"  100010 2018-10-08 18:28:54  10     8           18    2018-10-08  0    \n",
       "1  Francesca Battistelli  Logged In  Darianna  F      1              Carpenter  196.54485  free   CT      PUT    NextSong   1538016340000  31         Beautiful_ Beautiful (Album)               200     1539003736000  \"Mozilla/5.0 (iPhone; CPU iPhone OS 7_1_2 like Mac OS X) AppleWebKit/537.51.2 (KHTML, like Gecko) Version/7.0 Mobile/11D257 Safari/9537.53\"  100010 2018-10-08 18:32:16  10     8           18    2018-10-08  0    \n",
       "2  Brutha                 Logged In  Darianna  F      2              Carpenter  263.13098  free   CT      PUT    NextSong   1538016340000  31         She's Gone                                 200     1539003932000  \"Mozilla/5.0 (iPhone; CPU iPhone OS 7_1_2 like Mac OS X) AppleWebKit/537.51.2 (KHTML, like Gecko) Version/7.0 Mobile/11D257 Safari/9537.53\"  100010 2018-10-08 18:35:32  10     8           18    2018-10-08  0    \n",
       "3  None                   Logged In  Darianna  F      3              Carpenter NaN         free   CT      PUT    Thumbs Up  1538016340000  31         None                                       307     1539003933000  \"Mozilla/5.0 (iPhone; CPU iPhone OS 7_1_2 like Mac OS X) AppleWebKit/537.51.2 (KHTML, like Gecko) Version/7.0 Mobile/11D257 Safari/9537.53\"  100010 2018-10-08 18:35:33  10     8           18    2018-10-08  0    \n",
       "4  Josh Ritter            Logged In  Darianna  F      4              Carpenter  316.23791  free   CT      PUT    NextSong   1538016340000  31         Folk Bloodbath                             200     1539004195000  \"Mozilla/5.0 (iPhone; CPU iPhone OS 7_1_2 like Mac OS X) AppleWebKit/537.51.2 (KHTML, like Gecko) Version/7.0 Mobile/11D257 Safari/9537.53\"  100010 2018-10-08 18:39:55  10     8           18    2018-10-08  0    "
      ]
     },
     "execution_count": 16,
     "metadata": {},
     "output_type": "execute_result"
    }
   ],
   "source": [
    "def create_label(df):\n",
    "    \"\"\"\n",
    "        Create label columns containing 1,0 for cancellation page and auth is cancled\n",
    "        ARGS:\n",
    "            - df: Dataframe \n",
    "        RETURNS:\n",
    "            - Dataframe with labeled columns\n",
    "    \"\"\"\n",
    "    \n",
    "    flag_cancelation_event = udf(lambda x: 1 if x == \"Cancellation Confirmation\" else 0, IntegerType())\n",
    "    # apply to the dataframe\n",
    "    df = df.withColumn(\"label\", flag_cancelation_event(\"page\"))\n",
    "    #Define window bounds\n",
    "    windowval = Window.partitionBy(\"userId\").rangeBetween(Window.unboundedPreceding, Window.unboundedFollowing)\n",
    "    # Applying the window\n",
    "    df = df.withColumn(\"label\", sum(\"label\").over(windowval))\n",
    "    return df\n",
    "# Create Label as churn Column\n",
    "df = create_label(df)\n",
    "show_df(df)"
   ]
  },
  {
   "cell_type": "code",
   "execution_count": 17,
   "metadata": {},
   "outputs": [
    {
     "data": {
      "text/plain": [
       "225"
      ]
     },
     "execution_count": 17,
     "metadata": {},
     "output_type": "execute_result"
    }
   ],
   "source": [
    "# Number of users in Dataset\n",
    "df.select('userId').dropDuplicates().count()"
   ]
  },
  {
   "cell_type": "code",
   "execution_count": 18,
   "metadata": {},
   "outputs": [],
   "source": [
    "# create dataframe for plotting count of different labels of all the users\n",
    "label_df = df.dropDuplicates(['userId']).groupby(['label']).count()\n",
    "label_df = label_df.toPandas()"
   ]
  },
  {
   "cell_type": "code",
   "execution_count": 19,
   "metadata": {},
   "outputs": [
    {
     "data": {
      "image/png": "[encoded data removed]",
      "text/plain": [
       "<Figure size 1080x360 with 1 Axes>"
      ]
     },
     "metadata": {
      "needs_background": "light"
     },
     "output_type": "display_data"
    }
   ],
   "source": [
    "# the data set is highly imbalanced\n",
    "bar_plot(label_df,'label','count',labels=['active','cancelled'])"
   ]
  },
  {
   "cell_type": "code",
   "execution_count": 93,
   "metadata": {},
   "outputs": [],
   "source": [
    "# types of user churn by gender\n",
    "gender_df = df.dropDuplicates(['userId', 'gender']).groupby(['label', 'gender']).count()\n",
    "gender_df = gender_df.toPandas()"
   ]
  },
  {
   "cell_type": "code",
   "execution_count": 94,
   "metadata": {},
   "outputs": [
    {
     "data": {
      "image/png": "[encoded data removed]",
      "text/plain": [
       "<Figure size 1080x360 with 1 Axes>"
      ]
     },
     "metadata": {
      "needs_background": "light"
     },
     "output_type": "display_data"
    }
   ],
   "source": [
    "bar_plot(gender_df,'label','count','gender',labels=['active','cancelled'])"
   ]
  },
  {
   "cell_type": "code",
   "execution_count": 95,
   "metadata": {},
   "outputs": [],
   "source": [
    "# User status by paid level\n",
    "paid_df = df.dropDuplicates(['userId', 'level']).groupby(['label', 'level']).count()\n",
    "paid_df = paid_df.toPandas()"
   ]
  },
  {
   "cell_type": "code",
   "execution_count": 96,
   "metadata": {},
   "outputs": [
    {
     "data": {
      "image/png": "[encoded data removed]",
      "text/plain": [
       "<Figure size 1080x360 with 1 Axes>"
      ]
     },
     "metadata": {
      "needs_background": "light"
     },
     "output_type": "display_data"
    }
   ],
   "source": [
    "bar_plot(paid_df,'label','count','level',labels=['active','cancelled'])"
   ]
  },
  {
   "cell_type": "markdown",
   "metadata": {},
   "source": [
    "* free users are more likely to cancel subscription "
   ]
  },
  {
   "cell_type": "code",
   "execution_count": 97,
   "metadata": {},
   "outputs": [
    {
     "data": {
      "text/html": [
       "<div>\n",
       "<style scoped>\n",
       "    .dataframe tbody tr th:only-of-type {\n",
       "        vertical-align: middle;\n",
       "    }\n",
       "\n",
       "    .dataframe tbody tr th {\n",
       "        vertical-align: top;\n",
       "    }\n",
       "\n",
       "    .dataframe thead th {\n",
       "        text-align: right;\n",
       "    }\n",
       "</style>\n",
       "<table border=\"1\" class=\"dataframe\">\n",
       "  <thead>\n",
       "    <tr style=\"text-align: right;\">\n",
       "      <th></th>\n",
       "      <th>location</th>\n",
       "      <th>count</th>\n",
       "    </tr>\n",
       "  </thead>\n",
       "  <tbody>\n",
       "    <tr>\n",
       "      <th>0</th>\n",
       "      <td>NE-IA</td>\n",
       "      <td>187</td>\n",
       "    </tr>\n",
       "    <tr>\n",
       "      <th>1</th>\n",
       "      <td>PA-NJ</td>\n",
       "      <td>815</td>\n",
       "    </tr>\n",
       "    <tr>\n",
       "      <th>2</th>\n",
       "      <td>WA</td>\n",
       "      <td>3772</td>\n",
       "    </tr>\n",
       "    <tr>\n",
       "      <th>3</th>\n",
       "      <td>DC-VA-MD-WV</td>\n",
       "      <td>3090</td>\n",
       "    </tr>\n",
       "    <tr>\n",
       "      <th>4</th>\n",
       "      <td>AL</td>\n",
       "      <td>2857</td>\n",
       "    </tr>\n",
       "  </tbody>\n",
       "</table>\n",
       "</div>"
      ],
      "text/plain": [
       "       location  count\n",
       "0   NE-IA        187  \n",
       "1   PA-NJ        815  \n",
       "2   WA           3772 \n",
       "3   DC-VA-MD-WV  3090 \n",
       "4   AL           2857 "
      ]
     },
     "execution_count": 97,
     "metadata": {},
     "output_type": "execute_result"
    }
   ],
   "source": [
    "# count of user location wise \n",
    "location_df = df.dropDuplicates().groupBy(['location']).agg(count('location').alias('count'))\n",
    "location_df = location_df.toPandas()\n",
    "location_df.head()"
   ]
  },
  {
   "cell_type": "code",
   "execution_count": 92,
   "metadata": {},
   "outputs": [
    {
     "data": {
      "image/png": "[encoded data removed]",
      "text/plain": [
       "<Figure size 1440x360 with 1 Axes>"
      ]
     },
     "metadata": {
      "needs_background": "light"
     },
     "output_type": "display_data"
    }
   ],
   "source": [
    "#plot to 10 location\n",
    "plt.figure(figsize=(20,5))\n",
    "sns.barplot(data=location_df.sort_values(by='count',ascending=False).head(10),x='location',y='count')\n",
    "plt.title('User count by location')\n",
    "plt.show()"
   ]
  },
  {
   "cell_type": "markdown",
   "metadata": {},
   "source": [
    "* CA , NY, TX, MA, FL, NC has top 5 locations based on user"
   ]
  },
  {
   "cell_type": "code",
   "execution_count": 93,
   "metadata": {},
   "outputs": [],
   "source": [
    "active_df = df.drop_duplicates().groupby(['auth']).agg(count('auth').alias('count'))\n",
    "active_df = active_df.toPandas()"
   ]
  },
  {
   "cell_type": "code",
   "execution_count": 94,
   "metadata": {},
   "outputs": [
    {
     "name": "stdout",
     "output_type": "stream",
     "text": [
      "count based on type of auth\n"
     ]
    },
    {
     "data": {
      "image/png": "[encoded data removed]",
      "text/plain": [
       "<Figure size 432x288 with 1 Axes>"
      ]
     },
     "metadata": {
      "needs_background": "light"
     },
     "output_type": "display_data"
    }
   ],
   "source": [
    "sns.barplot(x='auth',y='count',data=active_df)\n",
    "print('count based on type of auth')"
   ]
  },
  {
   "cell_type": "markdown",
   "metadata": {},
   "source": [
    "* most of the data belonged to LoggedIn user"
   ]
  },
  {
   "cell_type": "code",
   "execution_count": 95,
   "metadata": {},
   "outputs": [
    {
     "data": {
      "text/html": [
       "<div>\n",
       "<style scoped>\n",
       "    .dataframe tbody tr th:only-of-type {\n",
       "        vertical-align: middle;\n",
       "    }\n",
       "\n",
       "    .dataframe tbody tr th {\n",
       "        vertical-align: top;\n",
       "    }\n",
       "\n",
       "    .dataframe thead th {\n",
       "        text-align: right;\n",
       "    }\n",
       "</style>\n",
       "<table border=\"1\" class=\"dataframe\">\n",
       "  <thead>\n",
       "    <tr style=\"text-align: right;\">\n",
       "      <th></th>\n",
       "      <th>page</th>\n",
       "      <th>userCount</th>\n",
       "    </tr>\n",
       "  </thead>\n",
       "  <tbody>\n",
       "    <tr>\n",
       "      <th>13</th>\n",
       "      <td>NextSong</td>\n",
       "      <td>228108</td>\n",
       "    </tr>\n",
       "    <tr>\n",
       "      <th>14</th>\n",
       "      <td>Thumbs Up</td>\n",
       "      <td>12551</td>\n",
       "    </tr>\n",
       "    <tr>\n",
       "      <th>3</th>\n",
       "      <td>Home</td>\n",
       "      <td>10082</td>\n",
       "    </tr>\n",
       "    <tr>\n",
       "      <th>11</th>\n",
       "      <td>Add to Playlist</td>\n",
       "      <td>6526</td>\n",
       "    </tr>\n",
       "    <tr>\n",
       "      <th>12</th>\n",
       "      <td>Add Friend</td>\n",
       "      <td>4277</td>\n",
       "    </tr>\n",
       "    <tr>\n",
       "      <th>5</th>\n",
       "      <td>Roll Advert</td>\n",
       "      <td>3933</td>\n",
       "    </tr>\n",
       "    <tr>\n",
       "      <th>6</th>\n",
       "      <td>Logout</td>\n",
       "      <td>3226</td>\n",
       "    </tr>\n",
       "    <tr>\n",
       "      <th>2</th>\n",
       "      <td>Thumbs Down</td>\n",
       "      <td>2546</td>\n",
       "    </tr>\n",
       "    <tr>\n",
       "      <th>4</th>\n",
       "      <td>Downgrade</td>\n",
       "      <td>2055</td>\n",
       "    </tr>\n",
       "    <tr>\n",
       "      <th>10</th>\n",
       "      <td>Settings</td>\n",
       "      <td>1514</td>\n",
       "    </tr>\n",
       "    <tr>\n",
       "      <th>15</th>\n",
       "      <td>Help</td>\n",
       "      <td>1454</td>\n",
       "    </tr>\n",
       "    <tr>\n",
       "      <th>16</th>\n",
       "      <td>Upgrade</td>\n",
       "      <td>499</td>\n",
       "    </tr>\n",
       "    <tr>\n",
       "      <th>9</th>\n",
       "      <td>About</td>\n",
       "      <td>495</td>\n",
       "    </tr>\n",
       "    <tr>\n",
       "      <th>7</th>\n",
       "      <td>Save Settings</td>\n",
       "      <td>310</td>\n",
       "    </tr>\n",
       "    <tr>\n",
       "      <th>17</th>\n",
       "      <td>Error</td>\n",
       "      <td>252</td>\n",
       "    </tr>\n",
       "    <tr>\n",
       "      <th>18</th>\n",
       "      <td>Submit Upgrade</td>\n",
       "      <td>159</td>\n",
       "    </tr>\n",
       "    <tr>\n",
       "      <th>1</th>\n",
       "      <td>Submit Downgrade</td>\n",
       "      <td>63</td>\n",
       "    </tr>\n",
       "    <tr>\n",
       "      <th>8</th>\n",
       "      <td>Cancellation Confirmation</td>\n",
       "      <td>52</td>\n",
       "    </tr>\n",
       "    <tr>\n",
       "      <th>0</th>\n",
       "      <td>Cancel</td>\n",
       "      <td>52</td>\n",
       "    </tr>\n",
       "  </tbody>\n",
       "</table>\n",
       "</div>"
      ],
      "text/plain": [
       "                         page  userCount\n",
       "13  NextSong                   228108   \n",
       "14  Thumbs Up                  12551    \n",
       "3   Home                       10082    \n",
       "11  Add to Playlist            6526     \n",
       "12  Add Friend                 4277     \n",
       "5   Roll Advert                3933     \n",
       "6   Logout                     3226     \n",
       "2   Thumbs Down                2546     \n",
       "4   Downgrade                  2055     \n",
       "10  Settings                   1514     \n",
       "15  Help                       1454     \n",
       "16  Upgrade                    499      \n",
       "9   About                      495      \n",
       "7   Save Settings              310      \n",
       "17  Error                      252      \n",
       "18  Submit Upgrade             159      \n",
       "1   Submit Downgrade           63       \n",
       "8   Cancellation Confirmation  52       \n",
       "0   Cancel                     52       "
      ]
     },
     "execution_count": 95,
     "metadata": {},
     "output_type": "execute_result"
    }
   ],
   "source": [
    "# user by  page\n",
    "user_page_df = df.groupBy(['page']).agg(count('userId').alias('userCount')).drop('NextSong')\n",
    "user_page_df = user_page_df.toPandas().sort_values(by='userCount',ascending=False) \n",
    "user_page_df                       "
   ]
  },
  {
   "cell_type": "code",
   "execution_count": 96,
   "metadata": {},
   "outputs": [
    {
     "data": {
      "image/png": "[encoded data removed]",
      "text/plain": [
       "<Figure size 1080x360 with 1 Axes>"
      ]
     },
     "metadata": {
      "needs_background": "light"
     },
     "output_type": "display_data"
    }
   ],
   "source": [
    "plt.figure(figsize=(15,5))\n",
    "sns.barplot(x='page',y='userCount',data=user_page_df.head(3))\n",
    "plt.title('page Top 3 page access by user')\n",
    "plt.show()"
   ]
  },
  {
   "cell_type": "markdown",
   "metadata": {},
   "source": [
    "* NextSong Page was the most used page which is quite obvious in music streaming app"
   ]
  },
  {
   "cell_type": "code",
   "execution_count": 32,
   "metadata": {},
   "outputs": [],
   "source": [
    "def count_missings(spark_df,sort=True):\n",
    "    \"\"\"\n",
    "        Counts number of nulls and nans in each column\n",
    "        ARGS:\n",
    "            - spark_df: RDD dataframe \n",
    "    \"\"\"\n",
    "    df = spark_df.select([f.count(f.when(f.isnan(c) | f.isnull(c), c)).alias(c) for (c,c_type) in spark_df.dtypes if c_type not in ('timestamp', 'string', 'date')]).toPandas()\n",
    "\n",
    "    if len(df) == 0:\n",
    "        print(\"There are no any missing values!\")\n",
    "        return None\n",
    "\n",
    "    if sort:\n",
    "        return df.rename(index={0: 'missing_value_count'}).T.sort_values(\"missing_value_count\",ascending=False)\n",
    "\n",
    "    return df"
   ]
  },
  {
   "cell_type": "code",
   "execution_count": 33,
   "metadata": {},
   "outputs": [
    {
     "data": {
      "text/html": [
       "<div>\n",
       "<style scoped>\n",
       "    .dataframe tbody tr th:only-of-type {\n",
       "        vertical-align: middle;\n",
       "    }\n",
       "\n",
       "    .dataframe tbody tr th {\n",
       "        vertical-align: top;\n",
       "    }\n",
       "\n",
       "    .dataframe thead th {\n",
       "        text-align: right;\n",
       "    }\n",
       "</style>\n",
       "<table border=\"1\" class=\"dataframe\">\n",
       "  <thead>\n",
       "    <tr style=\"text-align: right;\">\n",
       "      <th></th>\n",
       "      <th>missing_value_count</th>\n",
       "    </tr>\n",
       "  </thead>\n",
       "  <tbody>\n",
       "    <tr>\n",
       "      <th>length</th>\n",
       "      <td>50046</td>\n",
       "    </tr>\n",
       "    <tr>\n",
       "      <th>itemInSession</th>\n",
       "      <td>0</td>\n",
       "    </tr>\n",
       "    <tr>\n",
       "      <th>registration</th>\n",
       "      <td>0</td>\n",
       "    </tr>\n",
       "    <tr>\n",
       "      <th>sessionId</th>\n",
       "      <td>0</td>\n",
       "    </tr>\n",
       "    <tr>\n",
       "      <th>status</th>\n",
       "      <td>0</td>\n",
       "    </tr>\n",
       "    <tr>\n",
       "      <th>ts</th>\n",
       "      <td>0</td>\n",
       "    </tr>\n",
       "    <tr>\n",
       "      <th>month</th>\n",
       "      <td>0</td>\n",
       "    </tr>\n",
       "    <tr>\n",
       "      <th>dayOfMonth</th>\n",
       "      <td>0</td>\n",
       "    </tr>\n",
       "    <tr>\n",
       "      <th>hour</th>\n",
       "      <td>0</td>\n",
       "    </tr>\n",
       "    <tr>\n",
       "      <th>label</th>\n",
       "      <td>0</td>\n",
       "    </tr>\n",
       "  </tbody>\n",
       "</table>\n",
       "</div>"
      ],
      "text/plain": [
       "               missing_value_count\n",
       "length         50046              \n",
       "itemInSession  0                  \n",
       "registration   0                  \n",
       "sessionId      0                  \n",
       "status         0                  \n",
       "ts             0                  \n",
       "month          0                  \n",
       "dayOfMonth     0                  \n",
       "hour           0                  \n",
       "label          0                  "
      ]
     },
     "execution_count": 33,
     "metadata": {},
     "output_type": "execute_result"
    }
   ],
   "source": [
    "count_missings(df)"
   ]
  },
  {
   "cell_type": "code",
   "execution_count": 57,
   "metadata": {},
   "outputs": [],
   "source": [
    "def plot_spark_df(df,col_name):\n",
    "    \"\"\"\n",
    "        Plots histogram for from spark dataframe\n",
    "        ARGS:\n",
    "            - df: Spark dataframe\n",
    "    \"\"\"\n",
    "    pd_df = df.toPandas()\n",
    "    plt.figure(figsize=(15,5))\n",
    "    sns.barplot(x=col_name,data=pd_df)"
   ]
  },
  {
   "cell_type": "code",
   "execution_count": 22,
   "metadata": {},
   "outputs": [
    {
     "data": {
      "text/html": [
       "<div>\n",
       "<style scoped>\n",
       "    .dataframe tbody tr th:only-of-type {\n",
       "        vertical-align: middle;\n",
       "    }\n",
       "\n",
       "    .dataframe tbody tr th {\n",
       "        vertical-align: top;\n",
       "    }\n",
       "\n",
       "    .dataframe thead th {\n",
       "        text-align: right;\n",
       "    }\n",
       "</style>\n",
       "<table border=\"1\" class=\"dataframe\">\n",
       "  <thead>\n",
       "    <tr style=\"text-align: right;\">\n",
       "      <th></th>\n",
       "      <th>artist</th>\n",
       "      <th>auth</th>\n",
       "      <th>firstName</th>\n",
       "      <th>gender</th>\n",
       "      <th>itemInSession</th>\n",
       "      <th>lastName</th>\n",
       "      <th>length</th>\n",
       "      <th>level</th>\n",
       "      <th>location</th>\n",
       "      <th>method</th>\n",
       "      <th>page</th>\n",
       "      <th>registration</th>\n",
       "      <th>sessionId</th>\n",
       "      <th>song</th>\n",
       "      <th>status</th>\n",
       "      <th>ts</th>\n",
       "      <th>userAgent</th>\n",
       "      <th>userId</th>\n",
       "      <th>dateTime</th>\n",
       "      <th>month</th>\n",
       "      <th>dayOfMonth</th>\n",
       "      <th>hour</th>\n",
       "      <th>date</th>\n",
       "      <th>label</th>\n",
       "      <th>weekDay</th>\n",
       "    </tr>\n",
       "  </thead>\n",
       "  <tbody>\n",
       "    <tr>\n",
       "      <th>0</th>\n",
       "      <td>Sleeping With Sirens</td>\n",
       "      <td>Logged In</td>\n",
       "      <td>Darianna</td>\n",
       "      <td>F</td>\n",
       "      <td>0</td>\n",
       "      <td>Carpenter</td>\n",
       "      <td>202.97098</td>\n",
       "      <td>free</td>\n",
       "      <td>CT</td>\n",
       "      <td>PUT</td>\n",
       "      <td>NextSong</td>\n",
       "      <td>1538016340000</td>\n",
       "      <td>31</td>\n",
       "      <td>Captain Tyin Knots VS Mr Walkway (No Way)</td>\n",
       "      <td>200</td>\n",
       "      <td>1539003534000</td>\n",
       "      <td>\"Mozilla/5.0 (iPhone; CPU iPhone OS 7_1_2 like Mac OS X) AppleWebKit/537.51.2 (KHTML, like Gecko) Version/7.0 Mobile/11D257 Safari/9537.53\"</td>\n",
       "      <td>100010</td>\n",
       "      <td>2018-10-08 18:28:54</td>\n",
       "      <td>10</td>\n",
       "      <td>8</td>\n",
       "      <td>18</td>\n",
       "      <td>2018-10-08</td>\n",
       "      <td>0</td>\n",
       "      <td>1</td>\n",
       "    </tr>\n",
       "    <tr>\n",
       "      <th>1</th>\n",
       "      <td>Francesca Battistelli</td>\n",
       "      <td>Logged In</td>\n",
       "      <td>Darianna</td>\n",
       "      <td>F</td>\n",
       "      <td>1</td>\n",
       "      <td>Carpenter</td>\n",
       "      <td>196.54485</td>\n",
       "      <td>free</td>\n",
       "      <td>CT</td>\n",
       "      <td>PUT</td>\n",
       "      <td>NextSong</td>\n",
       "      <td>1538016340000</td>\n",
       "      <td>31</td>\n",
       "      <td>Beautiful_ Beautiful (Album)</td>\n",
       "      <td>200</td>\n",
       "      <td>1539003736000</td>\n",
       "      <td>\"Mozilla/5.0 (iPhone; CPU iPhone OS 7_1_2 like Mac OS X) AppleWebKit/537.51.2 (KHTML, like Gecko) Version/7.0 Mobile/11D257 Safari/9537.53\"</td>\n",
       "      <td>100010</td>\n",
       "      <td>2018-10-08 18:32:16</td>\n",
       "      <td>10</td>\n",
       "      <td>8</td>\n",
       "      <td>18</td>\n",
       "      <td>2018-10-08</td>\n",
       "      <td>0</td>\n",
       "      <td>1</td>\n",
       "    </tr>\n",
       "    <tr>\n",
       "      <th>2</th>\n",
       "      <td>Brutha</td>\n",
       "      <td>Logged In</td>\n",
       "      <td>Darianna</td>\n",
       "      <td>F</td>\n",
       "      <td>2</td>\n",
       "      <td>Carpenter</td>\n",
       "      <td>263.13098</td>\n",
       "      <td>free</td>\n",
       "      <td>CT</td>\n",
       "      <td>PUT</td>\n",
       "      <td>NextSong</td>\n",
       "      <td>1538016340000</td>\n",
       "      <td>31</td>\n",
       "      <td>She's Gone</td>\n",
       "      <td>200</td>\n",
       "      <td>1539003932000</td>\n",
       "      <td>\"Mozilla/5.0 (iPhone; CPU iPhone OS 7_1_2 like Mac OS X) AppleWebKit/537.51.2 (KHTML, like Gecko) Version/7.0 Mobile/11D257 Safari/9537.53\"</td>\n",
       "      <td>100010</td>\n",
       "      <td>2018-10-08 18:35:32</td>\n",
       "      <td>10</td>\n",
       "      <td>8</td>\n",
       "      <td>18</td>\n",
       "      <td>2018-10-08</td>\n",
       "      <td>0</td>\n",
       "      <td>1</td>\n",
       "    </tr>\n",
       "    <tr>\n",
       "      <th>3</th>\n",
       "      <td>None</td>\n",
       "      <td>Logged In</td>\n",
       "      <td>Darianna</td>\n",
       "      <td>F</td>\n",
       "      <td>3</td>\n",
       "      <td>Carpenter</td>\n",
       "      <td>NaN</td>\n",
       "      <td>free</td>\n",
       "      <td>CT</td>\n",
       "      <td>PUT</td>\n",
       "      <td>Thumbs Up</td>\n",
       "      <td>1538016340000</td>\n",
       "      <td>31</td>\n",
       "      <td>None</td>\n",
       "      <td>307</td>\n",
       "      <td>1539003933000</td>\n",
       "      <td>\"Mozilla/5.0 (iPhone; CPU iPhone OS 7_1_2 like Mac OS X) AppleWebKit/537.51.2 (KHTML, like Gecko) Version/7.0 Mobile/11D257 Safari/9537.53\"</td>\n",
       "      <td>100010</td>\n",
       "      <td>2018-10-08 18:35:33</td>\n",
       "      <td>10</td>\n",
       "      <td>8</td>\n",
       "      <td>18</td>\n",
       "      <td>2018-10-08</td>\n",
       "      <td>0</td>\n",
       "      <td>1</td>\n",
       "    </tr>\n",
       "    <tr>\n",
       "      <th>4</th>\n",
       "      <td>Josh Ritter</td>\n",
       "      <td>Logged In</td>\n",
       "      <td>Darianna</td>\n",
       "      <td>F</td>\n",
       "      <td>4</td>\n",
       "      <td>Carpenter</td>\n",
       "      <td>316.23791</td>\n",
       "      <td>free</td>\n",
       "      <td>CT</td>\n",
       "      <td>PUT</td>\n",
       "      <td>NextSong</td>\n",
       "      <td>1538016340000</td>\n",
       "      <td>31</td>\n",
       "      <td>Folk Bloodbath</td>\n",
       "      <td>200</td>\n",
       "      <td>1539004195000</td>\n",
       "      <td>\"Mozilla/5.0 (iPhone; CPU iPhone OS 7_1_2 like Mac OS X) AppleWebKit/537.51.2 (KHTML, like Gecko) Version/7.0 Mobile/11D257 Safari/9537.53\"</td>\n",
       "      <td>100010</td>\n",
       "      <td>2018-10-08 18:39:55</td>\n",
       "      <td>10</td>\n",
       "      <td>8</td>\n",
       "      <td>18</td>\n",
       "      <td>2018-10-08</td>\n",
       "      <td>0</td>\n",
       "      <td>1</td>\n",
       "    </tr>\n",
       "  </tbody>\n",
       "</table>\n",
       "</div>"
      ],
      "text/plain": [
       "                  artist       auth firstName gender  itemInSession   lastName     length level location method       page   registration  sessionId                                       song  status             ts                                                                                                                                    userAgent  userId            dateTime  month  dayOfMonth  hour        date  label weekDay\n",
       "0  Sleeping With Sirens   Logged In  Darianna  F      0              Carpenter  202.97098  free   CT      PUT    NextSong   1538016340000  31         Captain Tyin Knots VS Mr Walkway (No Way)  200     1539003534000  \"Mozilla/5.0 (iPhone; CPU iPhone OS 7_1_2 like Mac OS X) AppleWebKit/537.51.2 (KHTML, like Gecko) Version/7.0 Mobile/11D257 Safari/9537.53\"  100010 2018-10-08 18:28:54  10     8           18    2018-10-08  0      1     \n",
       "1  Francesca Battistelli  Logged In  Darianna  F      1              Carpenter  196.54485  free   CT      PUT    NextSong   1538016340000  31         Beautiful_ Beautiful (Album)               200     1539003736000  \"Mozilla/5.0 (iPhone; CPU iPhone OS 7_1_2 like Mac OS X) AppleWebKit/537.51.2 (KHTML, like Gecko) Version/7.0 Mobile/11D257 Safari/9537.53\"  100010 2018-10-08 18:32:16  10     8           18    2018-10-08  0      1     \n",
       "2  Brutha                 Logged In  Darianna  F      2              Carpenter  263.13098  free   CT      PUT    NextSong   1538016340000  31         She's Gone                                 200     1539003932000  \"Mozilla/5.0 (iPhone; CPU iPhone OS 7_1_2 like Mac OS X) AppleWebKit/537.51.2 (KHTML, like Gecko) Version/7.0 Mobile/11D257 Safari/9537.53\"  100010 2018-10-08 18:35:32  10     8           18    2018-10-08  0      1     \n",
       "3  None                   Logged In  Darianna  F      3              Carpenter NaN         free   CT      PUT    Thumbs Up  1538016340000  31         None                                       307     1539003933000  \"Mozilla/5.0 (iPhone; CPU iPhone OS 7_1_2 like Mac OS X) AppleWebKit/537.51.2 (KHTML, like Gecko) Version/7.0 Mobile/11D257 Safari/9537.53\"  100010 2018-10-08 18:35:33  10     8           18    2018-10-08  0      1     \n",
       "4  Josh Ritter            Logged In  Darianna  F      4              Carpenter  316.23791  free   CT      PUT    NextSong   1538016340000  31         Folk Bloodbath                             200     1539004195000  \"Mozilla/5.0 (iPhone; CPU iPhone OS 7_1_2 like Mac OS X) AppleWebKit/537.51.2 (KHTML, like Gecko) Version/7.0 Mobile/11D257 Safari/9537.53\"  100010 2018-10-08 18:39:55  10     8           18    2018-10-08  0      1     "
      ]
     },
     "execution_count": 22,
     "metadata": {},
     "output_type": "execute_result"
    }
   ],
   "source": [
    "# udf to get weekday\n",
    "# reference: https://stackoverflow.com/questions/38928919/how-to-get-the-weekday-from-day-of-month-using-pyspark\n",
    "\n",
    "funcWeekDay =  udf(lambda x: datetime.strptime(x, '%Y-%m-%d').strftime('%w'))     \n",
    "\n",
    "df = df.withColumn('shortdate',col('dateTime').substr(1, 10))\\\n",
    "     .withColumn('weekDay', funcWeekDay(col('shortdate')))\\\n",
    "     .drop('shortdate')\n",
    "show_df(df)"
   ]
  },
  {
   "cell_type": "code",
   "execution_count": 23,
   "metadata": {},
   "outputs": [],
   "source": [
    "# lets see month wise analysis of churned user\n",
    "month1_user_df = df.filter(col('label') == 1).groupby(col('month')).agg(count(col('userId')).alias('churnedUserCount'))\n",
    "month2_user_df = df.filter(col('label') == 0).groupby(col('month')).agg(count(col('userId')).alias('unChurnedUserCount'))\n",
    "month_churn_df = month1_user_df.join(month2_user_df,on='month',how='full').fillna(0).toPandas().melt(id_vars='month')"
   ]
  },
  {
   "cell_type": "code",
   "execution_count": 99,
   "metadata": {},
   "outputs": [
    {
     "data": {
      "image/png": "[encoded data removed]",
      "text/plain": [
       "<Figure size 1080x360 with 1 Axes>"
      ]
     },
     "metadata": {
      "needs_background": "light"
     },
     "output_type": "display_data"
    }
   ],
   "source": [
    "seab = bar_plot(month_churn_df,col2='value',col1='month',hue='variable',labels=['October','November','December'])"
   ]
  },
  {
   "cell_type": "markdown",
   "metadata": {},
   "source": [
    "* churn count is high in October but reduced in November"
   ]
  },
  {
   "cell_type": "code",
   "execution_count": 24,
   "metadata": {},
   "outputs": [
    {
     "data": {
      "text/html": [
       "<div>\n",
       "<style scoped>\n",
       "    .dataframe tbody tr th:only-of-type {\n",
       "        vertical-align: middle;\n",
       "    }\n",
       "\n",
       "    .dataframe tbody tr th {\n",
       "        vertical-align: top;\n",
       "    }\n",
       "\n",
       "    .dataframe thead th {\n",
       "        text-align: right;\n",
       "    }\n",
       "</style>\n",
       "<table border=\"1\" class=\"dataframe\">\n",
       "  <thead>\n",
       "    <tr style=\"text-align: right;\">\n",
       "      <th></th>\n",
       "      <th>weekDay</th>\n",
       "      <th>gender</th>\n",
       "      <th>userCount</th>\n",
       "    </tr>\n",
       "  </thead>\n",
       "  <tbody>\n",
       "    <tr>\n",
       "      <th>0</th>\n",
       "      <td>0</td>\n",
       "      <td>M</td>\n",
       "      <td>9411</td>\n",
       "    </tr>\n",
       "    <tr>\n",
       "      <th>1</th>\n",
       "      <td>4</td>\n",
       "      <td>F</td>\n",
       "      <td>23811</td>\n",
       "    </tr>\n",
       "    <tr>\n",
       "      <th>2</th>\n",
       "      <td>1</td>\n",
       "      <td>M</td>\n",
       "      <td>17570</td>\n",
       "    </tr>\n",
       "    <tr>\n",
       "      <th>3</th>\n",
       "      <td>3</td>\n",
       "      <td>M</td>\n",
       "      <td>20360</td>\n",
       "    </tr>\n",
       "    <tr>\n",
       "      <th>4</th>\n",
       "      <td>6</td>\n",
       "      <td>F</td>\n",
       "      <td>18303</td>\n",
       "    </tr>\n",
       "    <tr>\n",
       "      <th>5</th>\n",
       "      <td>2</td>\n",
       "      <td>F</td>\n",
       "      <td>25374</td>\n",
       "    </tr>\n",
       "    <tr>\n",
       "      <th>6</th>\n",
       "      <td>0</td>\n",
       "      <td>F</td>\n",
       "      <td>13091</td>\n",
       "    </tr>\n",
       "    <tr>\n",
       "      <th>7</th>\n",
       "      <td>2</td>\n",
       "      <td>M</td>\n",
       "      <td>20553</td>\n",
       "    </tr>\n",
       "    <tr>\n",
       "      <th>8</th>\n",
       "      <td>6</td>\n",
       "      <td>M</td>\n",
       "      <td>14651</td>\n",
       "    </tr>\n",
       "    <tr>\n",
       "      <th>9</th>\n",
       "      <td>1</td>\n",
       "      <td>F</td>\n",
       "      <td>18530</td>\n",
       "    </tr>\n",
       "    <tr>\n",
       "      <th>10</th>\n",
       "      <td>5</td>\n",
       "      <td>F</td>\n",
       "      <td>27220</td>\n",
       "    </tr>\n",
       "    <tr>\n",
       "      <th>11</th>\n",
       "      <td>5</td>\n",
       "      <td>M</td>\n",
       "      <td>21547</td>\n",
       "    </tr>\n",
       "    <tr>\n",
       "      <th>12</th>\n",
       "      <td>4</td>\n",
       "      <td>M</td>\n",
       "      <td>19484</td>\n",
       "    </tr>\n",
       "    <tr>\n",
       "      <th>13</th>\n",
       "      <td>3</td>\n",
       "      <td>F</td>\n",
       "      <td>28249</td>\n",
       "    </tr>\n",
       "  </tbody>\n",
       "</table>\n",
       "</div>"
      ],
      "text/plain": [
       "   weekDay gender  userCount\n",
       "0   0       M      9411     \n",
       "1   4       F      23811    \n",
       "2   1       M      17570    \n",
       "3   3       M      20360    \n",
       "4   6       F      18303    \n",
       "5   2       F      25374    \n",
       "6   0       F      13091    \n",
       "7   2       M      20553    \n",
       "8   6       M      14651    \n",
       "9   1       F      18530    \n",
       "10  5       F      27220    \n",
       "11  5       M      21547    \n",
       "12  4       M      19484    \n",
       "13  3       F      28249    "
      ]
     },
     "execution_count": 24,
     "metadata": {},
     "output_type": "execute_result"
    }
   ],
   "source": [
    "weekday_gender_df = df.groupby('weekDay','gender').agg(count('userId').alias('userCount'))\n",
    "weekday_gender_df = weekday_gender_df.toPandas()\n",
    "weekday_gender_df"
   ]
  },
  {
   "cell_type": "code",
   "execution_count": 101,
   "metadata": {},
   "outputs": [
    {
     "data": {
      "image/png": "[encoded data removed]",
      "text/plain": [
       "<Figure size 1080x360 with 1 Axes>"
      ]
     },
     "metadata": {
      "needs_background": "light"
     },
     "output_type": "display_data"
    },
    {
     "name": "stdout",
     "output_type": "stream",
     "text": [
      "                                        daywise churn count of user comparison male vs Female\n"
     ]
    }
   ],
   "source": [
    "labels = ['Sunday','Monday','Tuesday','Wednesday','Thrusday','Friday','Saturday']\n",
    "bar_plot(weekday_gender_df,col1='weekDay',col2='userCount',hue='gender',labels=labels)\n",
    "print(\" \"*40+'daywise churn count of user comparison male vs Female')"
   ]
  },
  {
   "cell_type": "markdown",
   "metadata": {},
   "source": [
    "* churn rate is low on Sunday and Saturday, Females have high Churn rate"
   ]
  },
  {
   "cell_type": "code",
   "execution_count": 102,
   "metadata": {},
   "outputs": [],
   "source": [
    "day_and_gender_df = df.groupby('gender','dayOfMonth').agg(count('userId').alias('userCount'))\n",
    "day_and_gender_df = day_and_gender_df.toPandas()"
   ]
  },
  {
   "cell_type": "code",
   "execution_count": 103,
   "metadata": {},
   "outputs": [
    {
     "ename": "TypeError",
     "evalue": "'NoneType' object is not iterable",
     "output_type": "error",
     "traceback": [
      "\u001b[1;31m---------------------------------------------------------------------------\u001b[0m",
      "\u001b[1;31mTypeError\u001b[0m                                 Traceback (most recent call last)",
      "\u001b[1;32m<ipython-input-103-b135c3e3c529>\u001b[0m in \u001b[0;36m<module>\u001b[1;34m\u001b[0m\n\u001b[1;32m----> 1\u001b[1;33m \u001b[0mbar_plot\u001b[0m\u001b[1;33m(\u001b[0m\u001b[0mday_and_gender_df\u001b[0m\u001b[1;33m,\u001b[0m\u001b[0mcol1\u001b[0m\u001b[1;33m=\u001b[0m\u001b[1;34m'dayOfMonth'\u001b[0m\u001b[1;33m,\u001b[0m\u001b[0mhue\u001b[0m\u001b[1;33m=\u001b[0m\u001b[1;34m'gender'\u001b[0m\u001b[1;33m,\u001b[0m\u001b[0mcol2\u001b[0m\u001b[1;33m=\u001b[0m\u001b[1;34m'userCount'\u001b[0m\u001b[1;33m)\u001b[0m\u001b[1;33m\u001b[0m\u001b[1;33m\u001b[0m\u001b[0m\n\u001b[0m",
      "\u001b[1;32m<ipython-input-79-a1c0eacf3034>\u001b[0m in \u001b[0;36mbar_plot\u001b[1;34m(df, col1, col2, hue, labels)\u001b[0m\n\u001b[0;32m      7\u001b[0m     \u001b[0mplt\u001b[0m\u001b[1;33m.\u001b[0m\u001b[0mfigure\u001b[0m\u001b[1;33m(\u001b[0m\u001b[0mfigsize\u001b[0m\u001b[1;33m=\u001b[0m\u001b[1;33m(\u001b[0m\u001b[1;36m15\u001b[0m\u001b[1;33m,\u001b[0m\u001b[1;36m5\u001b[0m\u001b[1;33m)\u001b[0m\u001b[1;33m)\u001b[0m\u001b[1;33m\u001b[0m\u001b[1;33m\u001b[0m\u001b[0m\n\u001b[0;32m      8\u001b[0m     \u001b[0mplot\u001b[0m \u001b[1;33m=\u001b[0m \u001b[0msns\u001b[0m\u001b[1;33m.\u001b[0m\u001b[0mbarplot\u001b[0m\u001b[1;33m(\u001b[0m\u001b[0mdata\u001b[0m\u001b[1;33m=\u001b[0m\u001b[0mdf\u001b[0m\u001b[1;33m,\u001b[0m\u001b[0mx\u001b[0m\u001b[1;33m=\u001b[0m\u001b[0mcol1\u001b[0m\u001b[1;33m,\u001b[0m\u001b[0my\u001b[0m\u001b[1;33m=\u001b[0m\u001b[0mcol2\u001b[0m\u001b[1;33m,\u001b[0m\u001b[0mhue\u001b[0m\u001b[1;33m=\u001b[0m\u001b[0mhue\u001b[0m\u001b[1;33m)\u001b[0m\u001b[1;33m\u001b[0m\u001b[1;33m\u001b[0m\u001b[0m\n\u001b[1;32m----> 9\u001b[1;33m     \u001b[0mplot\u001b[0m\u001b[1;33m.\u001b[0m\u001b[0mset_xticklabels\u001b[0m\u001b[1;33m(\u001b[0m\u001b[0mlabels\u001b[0m\u001b[1;33m)\u001b[0m\u001b[1;33m\u001b[0m\u001b[1;33m\u001b[0m\u001b[0m\n\u001b[0m\u001b[0;32m     10\u001b[0m     \u001b[0mplt\u001b[0m\u001b[1;33m.\u001b[0m\u001b[0mshow\u001b[0m\u001b[1;33m(\u001b[0m\u001b[1;33m)\u001b[0m\u001b[1;33m\u001b[0m\u001b[1;33m\u001b[0m\u001b[0m\n\u001b[0;32m     11\u001b[0m \u001b[1;33m\u001b[0m\u001b[0m\n",
      "\u001b[1;32m~\\Anaconda3\\lib\\site-packages\\matplotlib\\axes\\_base.py\u001b[0m in \u001b[0;36mset_xticklabels\u001b[1;34m(self, labels, fontdict, minor, **kwargs)\u001b[0m\n\u001b[0;32m   3420\u001b[0m             \u001b[0mkwargs\u001b[0m\u001b[1;33m.\u001b[0m\u001b[0mupdate\u001b[0m\u001b[1;33m(\u001b[0m\u001b[0mfontdict\u001b[0m\u001b[1;33m)\u001b[0m\u001b[1;33m\u001b[0m\u001b[1;33m\u001b[0m\u001b[0m\n\u001b[0;32m   3421\u001b[0m         ret = self.xaxis.set_ticklabels(labels,\n\u001b[1;32m-> 3422\u001b[1;33m                                         minor=minor, **kwargs)\n\u001b[0m\u001b[0;32m   3423\u001b[0m         \u001b[0mself\u001b[0m\u001b[1;33m.\u001b[0m\u001b[0mstale\u001b[0m \u001b[1;33m=\u001b[0m \u001b[1;32mTrue\u001b[0m\u001b[1;33m\u001b[0m\u001b[1;33m\u001b[0m\u001b[0m\n\u001b[0;32m   3424\u001b[0m         \u001b[1;32mreturn\u001b[0m \u001b[0mret\u001b[0m\u001b[1;33m\u001b[0m\u001b[1;33m\u001b[0m\u001b[0m\n",
      "\u001b[1;32m~\\Anaconda3\\lib\\site-packages\\matplotlib\\axis.py\u001b[0m in \u001b[0;36mset_ticklabels\u001b[1;34m(self, ticklabels, minor, *args, **kwargs)\u001b[0m\n\u001b[0;32m   1661\u001b[0m         \"\"\"\n\u001b[0;32m   1662\u001b[0m         \u001b[0mget_labels\u001b[0m \u001b[1;33m=\u001b[0m \u001b[1;33m[\u001b[0m\u001b[1;33m]\u001b[0m\u001b[1;33m\u001b[0m\u001b[1;33m\u001b[0m\u001b[0m\n\u001b[1;32m-> 1663\u001b[1;33m         \u001b[1;32mfor\u001b[0m \u001b[0mt\u001b[0m \u001b[1;32min\u001b[0m \u001b[0mticklabels\u001b[0m\u001b[1;33m:\u001b[0m\u001b[1;33m\u001b[0m\u001b[1;33m\u001b[0m\u001b[0m\n\u001b[0m\u001b[0;32m   1664\u001b[0m             \u001b[1;31m# try calling get_text() to check whether it is Text object\u001b[0m\u001b[1;33m\u001b[0m\u001b[1;33m\u001b[0m\u001b[1;33m\u001b[0m\u001b[0m\n\u001b[0;32m   1665\u001b[0m             \u001b[1;31m# if it is Text, get label content\u001b[0m\u001b[1;33m\u001b[0m\u001b[1;33m\u001b[0m\u001b[1;33m\u001b[0m\u001b[0m\n",
      "\u001b[1;31mTypeError\u001b[0m: 'NoneType' object is not iterable"
     ]
    },
    {
     "data": {
      "image/png": "[encoded data removed]",
      "text/plain": [
       "<Figure size 1080x360 with 1 Axes>"
      ]
     },
     "metadata": {
      "needs_background": "light"
     },
     "output_type": "display_data"
    }
   ],
   "source": [
    "bar_plot(day_and_gender_df,col1='dayOfMonth',hue='gender',col2='userCount')"
   ]
  },
  {
   "cell_type": "markdown",
   "metadata": {},
   "source": [
    "* Churn count is high in the Females for starting days of month. 1st of the month the churn count is high in male. since the dataset contains few months of data concrete results can be drawn. "
   ]
  },
  {
   "cell_type": "code",
   "execution_count": 158,
   "metadata": {},
   "outputs": [
    {
     "data": {
      "text/html": [
       "<div>\n",
       "<style scoped>\n",
       "    .dataframe tbody tr th:only-of-type {\n",
       "        vertical-align: middle;\n",
       "    }\n",
       "\n",
       "    .dataframe tbody tr th {\n",
       "        vertical-align: top;\n",
       "    }\n",
       "\n",
       "    .dataframe thead th {\n",
       "        text-align: right;\n",
       "    }\n",
       "</style>\n",
       "<table border=\"1\" class=\"dataframe\">\n",
       "  <thead>\n",
       "    <tr style=\"text-align: right;\">\n",
       "      <th></th>\n",
       "      <th>label</th>\n",
       "      <th>gender</th>\n",
       "      <th>count</th>\n",
       "    </tr>\n",
       "  </thead>\n",
       "  <tbody>\n",
       "    <tr>\n",
       "      <th>0</th>\n",
       "      <td>0</td>\n",
       "      <td>F</td>\n",
       "      <td>84</td>\n",
       "    </tr>\n",
       "    <tr>\n",
       "      <th>1</th>\n",
       "      <td>1</td>\n",
       "      <td>M</td>\n",
       "      <td>32</td>\n",
       "    </tr>\n",
       "    <tr>\n",
       "      <th>2</th>\n",
       "      <td>1</td>\n",
       "      <td>F</td>\n",
       "      <td>20</td>\n",
       "    </tr>\n",
       "    <tr>\n",
       "      <th>3</th>\n",
       "      <td>0</td>\n",
       "      <td>M</td>\n",
       "      <td>89</td>\n",
       "    </tr>\n",
       "  </tbody>\n",
       "</table>\n",
       "</div>"
      ],
      "text/plain": [
       "   label gender  count\n",
       "0  0      F      84   \n",
       "1  1      M      32   \n",
       "2  1      F      20   \n",
       "3  0      M      89   "
      ]
     },
     "execution_count": 158,
     "metadata": {},
     "output_type": "execute_result"
    }
   ],
   "source": [
    "gender_df.head()"
   ]
  },
  {
   "cell_type": "markdown",
   "metadata": {},
   "source": [
    "# Feature Engineering\n",
    "Once you've familiarized yourself with the data, build out the features you find promising to train your model on. To work with the full dataset, you can follow the following steps.\n",
    "- Write a script to extract the necessary features from the smaller subset of data\n",
    "- Ensure that your script is scalable, using the best practices discussed in Lesson 3\n",
    "- Try your script on the full data set, debugging your script if necessary\n",
    "\n",
    "If you are working in the classroom workspace, you can just extract features based on the small subset of data contained here. Be sure to transfer over this work to the larger dataset when you work on your Spark cluster."
   ]
  },
  {
   "cell_type": "code",
   "execution_count": 20,
   "metadata": {},
   "outputs": [
    {
     "name": "stdout",
     "output_type": "stream",
     "text": [
      "+------+------+\n",
      "|userId|gender|\n",
      "+------+------+\n",
      "|    44|     0|\n",
      "|    46|     0|\n",
      "|    41|     0|\n",
      "+------+------+\n",
      "only showing top 3 rows\n",
      "\n",
      "None\n"
     ]
    },
    {
     "data": {
      "text/html": [
       "<div>\n",
       "<style scoped>\n",
       "    .dataframe tbody tr th:only-of-type {\n",
       "        vertical-align: middle;\n",
       "    }\n",
       "\n",
       "    .dataframe tbody tr th {\n",
       "        vertical-align: top;\n",
       "    }\n",
       "\n",
       "    .dataframe thead th {\n",
       "        text-align: right;\n",
       "    }\n",
       "</style>\n",
       "<table border=\"1\" class=\"dataframe\">\n",
       "  <thead>\n",
       "    <tr style=\"text-align: right;\">\n",
       "      <th></th>\n",
       "      <th>userId</th>\n",
       "      <th>gender</th>\n",
       "    </tr>\n",
       "  </thead>\n",
       "  <tbody>\n",
       "    <tr>\n",
       "      <th>0</th>\n",
       "      <td>44</td>\n",
       "      <td>0</td>\n",
       "    </tr>\n",
       "    <tr>\n",
       "      <th>1</th>\n",
       "      <td>46</td>\n",
       "      <td>0</td>\n",
       "    </tr>\n",
       "    <tr>\n",
       "      <th>2</th>\n",
       "      <td>41</td>\n",
       "      <td>0</td>\n",
       "    </tr>\n",
       "    <tr>\n",
       "      <th>3</th>\n",
       "      <td>72</td>\n",
       "      <td>0</td>\n",
       "    </tr>\n",
       "    <tr>\n",
       "      <th>4</th>\n",
       "      <td>300023</td>\n",
       "      <td>0</td>\n",
       "    </tr>\n",
       "  </tbody>\n",
       "</table>\n",
       "</div>"
      ],
      "text/plain": [
       "   userId  gender\n",
       "0  44      0     \n",
       "1  46      0     \n",
       "2  41      0     \n",
       "3  72      0     \n",
       "4  300023  0     "
      ]
     },
     "execution_count": 20,
     "metadata": {},
     "output_type": "execute_result"
    }
   ],
   "source": [
    "def convert_cat(df,col_name,val):\n",
    "    \"\"\"\n",
    "        encodes categorical column \n",
    "        ARGS:\n",
    "            df: Spark Dataframe\n",
    "            col: Column to be encoded\n",
    "            val: Dictonary for encoding values\n",
    "        RETURNS:\n",
    "            - SparkDataframe Encoded variable\n",
    "    \"\"\"\n",
    "    temp_df = df.select('userId',col_name).dropDuplicates().replace(val,subset=col_name)\n",
    "    temp_df = temp_df.withColumn(col_name,temp_df[col_name].cast(IntegerType()))\n",
    "    print(temp_df.show(3))\n",
    "    return temp_df\n",
    "gender_encoded_df = convert_cat(df,'gender',{'M':'1','F':'0'})\n",
    "show_df(gender_encoded_df)"
   ]
  },
  {
   "cell_type": "code",
   "execution_count": 21,
   "metadata": {},
   "outputs": [],
   "source": [
    "# lets investigate the type of os used by user to access the Song streaming platform\n",
    "# Number of unique platforms\n",
    "dfp = df.toPandas()"
   ]
  },
  {
   "cell_type": "code",
   "execution_count": 22,
   "metadata": {},
   "outputs": [
    {
     "data": {
      "text/plain": [
       "['\"Mozilla/5.0 (iPhone; CPU iPhone OS 7_1_2 like Mac OS X) AppleWebKit/537.51.2 (KHTML, like Gecko) Version/7.0 Mobile/11D257 Safari/9537.53\"',\n",
       " '\"Mozilla/5.0 (Macintosh; Intel Mac OS X 10_9_4) AppleWebKit/537.36 (KHTML, like Gecko) Chrome/36.0.1985.125 Safari/537.36\"',\n",
       " '\"Mozilla/5.0 (Windows NT 6.1; WOW64) AppleWebKit/537.36 (KHTML, like Gecko) Chrome/36.0.1985.143 Safari/537.36\"',\n",
       " '\"Mozilla/5.0 (iPad; CPU OS 7_1_1 like Mac OS X) AppleWebKit/537.51.2 (KHTML, like Gecko) Version/7.0 Mobile/11D201 Safari/9537.53\"']"
      ]
     },
     "execution_count": 22,
     "metadata": {},
     "output_type": "execute_result"
    }
   ],
   "source": [
    "agents = [x.strip() for x  in dfp.userAgent.unique()] \n",
    "[agents[x] for x in [0, 2, 4, 10]]"
   ]
  },
  {
   "cell_type": "code",
   "execution_count": 23,
   "metadata": {},
   "outputs": [
    {
     "data": {
      "text/plain": [
       "['Compatible',\n",
       " 'Ipad',\n",
       " 'Iphone',\n",
       " 'Macintosh',\n",
       " 'Windows nt 5.1',\n",
       " 'Windows nt 6.0',\n",
       " 'Windows nt 6.1',\n",
       " 'Windows nt 6.2',\n",
       " 'Windows nt 6.3',\n",
       " 'X11']"
      ]
     },
     "execution_count": 23,
     "metadata": {},
     "output_type": "execute_result"
    }
   ],
   "source": [
    "# regex to extract platform name\n",
    "import re\n",
    "ex = '\\(([^\\)]*)\\)'\n",
    "\n",
    "# All OSs\n",
    "sorted(list(set([re.findall(\n",
    "    ex, x)[0].split(';')[0].capitalize(\n",
    ") for x  in agents])))"
   ]
  },
  {
   "cell_type": "code",
   "execution_count": 24,
   "metadata": {},
   "outputs": [
    {
     "name": "stdout",
     "output_type": "stream",
     "text": [
      "['Linux', 'Mac', 'Windows'] ['Linux', 'MacOS', 'Windows 7', 'Windows 8.0', 'Windows 8.1', 'Windows Vista', 'Windows XP', 'iPad', 'iPhone']\n"
     ]
    }
   ],
   "source": [
    "# Create mappers for the os\n",
    "mapper_general = {'Compatible': 'Windows',  'Ipad': 'Mac',  'Iphone': 'Mac',  \n",
    "          'Macintosh': 'Mac',  'Windows nt 5.1': 'Windows',  \n",
    "          'Windows nt 6.0': 'Windows',  'Windows nt 6.1': 'Windows',  \n",
    "          'Windows nt 6.2': 'Windows',  'Windows nt 6.3': 'Windows',  \n",
    "          'X11': 'Linux'}\n",
    "mapper_specific = {'Compatible': 'Windows 7',  'Ipad': 'iPad',  'Iphone': 'iPhone',  \n",
    "          'Macintosh': 'MacOS',  'Windows nt 5.1': 'Windows XP',  \n",
    "          'Windows nt 6.0': 'Windows Vista',  'Windows nt 6.1': 'Windows 7',  \n",
    "          'Windows nt 6.2': 'Windows 8.0',  'Windows nt 6.3': 'Windows 8.1',  \n",
    "          'X11': 'Linux'}\n",
    "print(sorted(list(set([mapper_general[re.findall(ex, x)[0].split(';')[0].capitalize()] for x  in agents]))),\n",
    "sorted(list(set([mapper_specific[re.findall(ex, x)[0].split(';')[0].capitalize()] for x  in agents]))))"
   ]
  },
  {
   "cell_type": "code",
   "execution_count": 25,
   "metadata": {},
   "outputs": [],
   "source": [
    "os_general = udf(lambda x: mapper_general[re.findall(ex, x)[0].split(';')[0].capitalize()])\n",
    "df = df.withColumn(\"os_general\", os_general(df.userAgent))\n",
    "\n",
    "os_specific = udf(lambda x: mapper_specific[re.findall(ex, x)[0].split(';')[0].capitalize()])\n",
    "df = df.withColumn(\"os_specific\", os_specific(df.userAgent))"
   ]
  },
  {
   "cell_type": "code",
   "execution_count": 26,
   "metadata": {},
   "outputs": [
    {
     "name": "stdout",
     "output_type": "stream",
     "text": [
      "+------+-------+---------+--------------+--------+----------------+--------------+--------+-------------+------------+\n",
      "|userId|OS_iPad|OS_iPhone|OS_Windows 8.1|OS_Linux|OS_Windows Vista|OS_Windows 8.0|OS_MacOS|OS_Windows XP|OS_Windows 7|\n",
      "+------+-------+---------+--------------+--------+----------------+--------------+--------+-------------+------------+\n",
      "|    30|      0|        0|             0|       0|               0|             0|       0|            0|           1|\n",
      "|     9|      0|        0|             0|       0|               0|             0|       0|            0|           1|\n",
      "|    30|      0|        0|             0|       0|               0|             0|       0|            0|           1|\n",
      "|     9|      0|        0|             0|       0|               0|             0|       0|            0|           1|\n",
      "|    30|      0|        0|             0|       0|               0|             0|       0|            0|           1|\n",
      "|     9|      0|        0|             0|       0|               0|             0|       0|            0|           1|\n",
      "|     9|      0|        0|             0|       0|               0|             0|       0|            0|           1|\n",
      "|    30|      0|        0|             0|       0|               0|             0|       0|            0|           1|\n",
      "|    30|      0|        0|             0|       0|               0|             0|       0|            0|           1|\n",
      "|    30|      0|        0|             0|       0|               0|             0|       0|            0|           1|\n",
      "+------+-------+---------+--------------+--------+----------------+--------------+--------+-------------+------------+\n",
      "only showing top 10 rows\n",
      "\n"
     ]
    }
   ],
   "source": [
    "os_titles =  df.select('os_specific').distinct().rdd.flatMap(lambda x: x).collect()\n",
    "os_expr = [f.when(f.col('os_specific') == osdt, 1).otherwise(0).alias(\"OS_\" + osdt) for osdt in os_titles]\n",
    "os_df = df.select('userId', *os_expr)\n",
    "os_df.show(10)"
   ]
  },
  {
   "cell_type": "code",
   "execution_count": 27,
   "metadata": {},
   "outputs": [
    {
     "name": "stdout",
     "output_type": "stream",
     "text": [
      "root\n",
      " |-- userId: string (nullable = true)\n",
      " |-- OS_iPad: integer (nullable = false)\n",
      " |-- OS_iPhone: integer (nullable = false)\n",
      " |-- OS_Windows 8.1: integer (nullable = false)\n",
      " |-- OS_Linux: integer (nullable = false)\n",
      " |-- OS_Windows Vista: integer (nullable = false)\n",
      " |-- OS_Windows 8.0: integer (nullable = false)\n",
      " |-- OS_MacOS: integer (nullable = false)\n",
      " |-- OS_Windows XP: integer (nullable = false)\n",
      " |-- OS_Windows 7: integer (nullable = false)\n",
      "\n"
     ]
    }
   ],
   "source": [
    "os_df.printSchema()"
   ]
  },
  {
   "cell_type": "code",
   "execution_count": 28,
   "metadata": {},
   "outputs": [
    {
     "name": "stdout",
     "output_type": "stream",
     "text": [
      "+------+-----+\n",
      "|userId|level|\n",
      "+------+-----+\n",
      "|100021|    0|\n",
      "|200021|    0|\n",
      "|200001|    0|\n",
      "+------+-----+\n",
      "only showing top 3 rows\n",
      "\n",
      "None\n"
     ]
    },
    {
     "data": {
      "text/html": [
       "<div>\n",
       "<style scoped>\n",
       "    .dataframe tbody tr th:only-of-type {\n",
       "        vertical-align: middle;\n",
       "    }\n",
       "\n",
       "    .dataframe tbody tr th {\n",
       "        vertical-align: top;\n",
       "    }\n",
       "\n",
       "    .dataframe thead th {\n",
       "        text-align: right;\n",
       "    }\n",
       "</style>\n",
       "<table border=\"1\" class=\"dataframe\">\n",
       "  <thead>\n",
       "    <tr style=\"text-align: right;\">\n",
       "      <th></th>\n",
       "      <th>userId</th>\n",
       "      <th>level</th>\n",
       "    </tr>\n",
       "  </thead>\n",
       "  <tbody>\n",
       "    <tr>\n",
       "      <th>0</th>\n",
       "      <td>100021</td>\n",
       "      <td>0</td>\n",
       "    </tr>\n",
       "    <tr>\n",
       "      <th>1</th>\n",
       "      <td>200021</td>\n",
       "      <td>0</td>\n",
       "    </tr>\n",
       "    <tr>\n",
       "      <th>2</th>\n",
       "      <td>200001</td>\n",
       "      <td>0</td>\n",
       "    </tr>\n",
       "    <tr>\n",
       "      <th>3</th>\n",
       "      <td>6</td>\n",
       "      <td>0</td>\n",
       "    </tr>\n",
       "    <tr>\n",
       "      <th>4</th>\n",
       "      <td>300022</td>\n",
       "      <td>1</td>\n",
       "    </tr>\n",
       "  </tbody>\n",
       "</table>\n",
       "</div>"
      ],
      "text/plain": [
       "   userId  level\n",
       "0  100021  0    \n",
       "1  200021  0    \n",
       "2  200001  0    \n",
       "3  6       0    \n",
       "4  300022  1    "
      ]
     },
     "execution_count": 28,
     "metadata": {},
     "output_type": "execute_result"
    }
   ],
   "source": [
    "# Encoding the level column\n",
    "level_df = convert_cat(df,'level',{'paid':'1','free':'0'})\n",
    "show_df(level_df)"
   ]
  },
  {
   "cell_type": "code",
   "execution_count": 29,
   "metadata": {},
   "outputs": [],
   "source": [
    "# calulate the duration a user spends on Music streaming App\n",
    "def calculate_active_duration(df):\n",
    "    \"\"\"\n",
    "        Calculates number of days a user is active since the day he registerd\n",
    "        ARGS:\n",
    "            - dataframe\n",
    "        REURNS:\n",
    "            - Dataframe with new colum activeDuration\n",
    "    \"\"\"\n",
    "    df = df.withColumn('regDatetime',from_unixtime(col('registration')/1000).cast(DateType()))\n",
    "    user_duration_df = df.groupBy('UserId','regDatetime').agg(max('date').alias('lastInterationDate')) \n",
    "    diff  = (f.unix_timestamp('lastInterationDate')-f.unix_timestamp('regDatetime'))\n",
    "    duration_df = user_duration_df.withColumn('activeDuration',diff/86400)\n",
    "    \n",
    "    df = df.join(duration_df,on='UserId')\n",
    "    return df  "
   ]
  },
  {
   "cell_type": "code",
   "execution_count": 30,
   "metadata": {},
   "outputs": [
    {
     "name": "stdout",
     "output_type": "stream",
     "text": [
      "root\n",
      " |-- userId: string (nullable = true)\n",
      " |-- artist: string (nullable = true)\n",
      " |-- auth: string (nullable = true)\n",
      " |-- firstName: string (nullable = true)\n",
      " |-- gender: string (nullable = true)\n",
      " |-- itemInSession: long (nullable = true)\n",
      " |-- lastName: string (nullable = true)\n",
      " |-- length: double (nullable = true)\n",
      " |-- level: string (nullable = true)\n",
      " |-- location: string (nullable = true)\n",
      " |-- method: string (nullable = true)\n",
      " |-- page: string (nullable = true)\n",
      " |-- registration: long (nullable = true)\n",
      " |-- sessionId: long (nullable = true)\n",
      " |-- song: string (nullable = true)\n",
      " |-- status: long (nullable = true)\n",
      " |-- ts: long (nullable = true)\n",
      " |-- userAgent: string (nullable = true)\n",
      " |-- dateTime: timestamp (nullable = true)\n",
      " |-- month: integer (nullable = true)\n",
      " |-- dayOfMonth: integer (nullable = true)\n",
      " |-- hour: integer (nullable = true)\n",
      " |-- date: date (nullable = true)\n",
      " |-- label: long (nullable = true)\n",
      " |-- os_general: string (nullable = true)\n",
      " |-- os_specific: string (nullable = true)\n",
      " |-- regDatetime: date (nullable = true)\n",
      " |-- regDatetime: date (nullable = true)\n",
      " |-- lastInterationDate: date (nullable = true)\n",
      " |-- activeDuration: double (nullable = true)\n",
      "\n"
     ]
    }
   ],
   "source": [
    "df = calculate_active_duration(df)\n",
    "df.printSchema()"
   ]
  },
  {
   "cell_type": "code",
   "execution_count": 31,
   "metadata": {},
   "outputs": [],
   "source": [
    "def user_session_sum():\n",
    "    \"\"\"\n",
    "        Create a column containing the sum of ItemInSession column\n",
    "        RETURNS:\n",
    "            - Dataframe containing column sumItemInSession \n",
    "    \"\"\"\n",
    "    item_sum_df = df.groupby('userId').agg(sum(col('itemInSession')).alias('sumItemInSession'))\n",
    "    df =  df.join(item_sum_df,on='userId')\n",
    "    return df"
   ]
  },
  {
   "cell_type": "code",
   "execution_count": 32,
   "metadata": {},
   "outputs": [],
   "source": [
    "def user_stats(df):\n",
    "    \"\"\"\n",
    "        Calculate Song length per user per session \n",
    "        ARGS:\n",
    "            - df: SparkDataframe\n",
    "        RETURNS:\n",
    "            - Spark Dataframe with meanHours and stdevHours\n",
    "    \"\"\"\n",
    "    song_length = df.filter(df.page=='NextSong').select('userId', 'sessionId', 'length')\n",
    "    song_length = song_length.withColumn('hours', (song_length.length / 3600))\n",
    "    song_length = song_length.groupBy('userId', 'sessionId').sum('hours')\n",
    "    song_length = song_length.groupBy('userId').agg(\n",
    "                        avg('sum(hours)').alias('meanHours'), \n",
    "                        stddev('sum(hours)').alias('stdevHours')).na.fill(0)\n",
    "    \n",
    "    return song_length"
   ]
  },
  {
   "cell_type": "code",
   "execution_count": 33,
   "metadata": {},
   "outputs": [],
   "source": [
    "def songs_per_session(df):\n",
    "    \"\"\"\n",
    "        number of changing songs\n",
    "        ARGS:\n",
    "            - df: Sparkdataframe\n",
    "        RETURNS:\n",
    "            - pandas dataframe with columns meanSongs, stdevSongs\n",
    "    \"\"\"\n",
    "    song_user_df = df.filter(df.page == 'NextSong').groupBy(\n",
    "                        'userId', 'sessionId').count()\n",
    "    song_user_df = song_user_df.groupBy('userId').agg(\n",
    "                        avg('count').alias('meanSongs'), \n",
    "                        stddev('count').alias('stdevSongs'))\n",
    "    song_user_df = song_user_df.na.fill(0)\n",
    "    \n",
    "    return song_user_df\n"
   ]
  },
  {
   "cell_type": "code",
   "execution_count": 34,
   "metadata": {},
   "outputs": [],
   "source": [
    "def artists_per_user(df):\n",
    "    \"\"\"\n",
    "        creates the number of artists the user liked\n",
    "        ARGS:\n",
    "            - df: Spark dataframe\n",
    "        RETURNS:\n",
    "            - Pandas dataframe with artistLiked\n",
    "    \"\"\"\n",
    "    artists_user_df = df.select('userId', 'artist').dropDuplicates().groupBy('userId').count().withColumnRenamed(\"count\", \"artistLiked\")\n",
    "    \n",
    "    return artists_user_df"
   ]
  },
  {
   "cell_type": "code",
   "execution_count": 35,
   "metadata": {},
   "outputs": [],
   "source": [
    "def session_stats(df):\n",
    "    \"\"\"\n",
    "        creates mean and stdev for session of each user\n",
    "        ARGS:\n",
    "            - df: Dataframe\n",
    "        RESULTS:\n",
    "            - Spark Dataframe with columns for\n",
    "    \"\"\"\n",
    "    session_user_df = df.groupBy('userId').agg(\n",
    "                        avg('activeDuration').alias('meanSession'), \n",
    "                        stddev('activeDuration').alias('stdevSession'))\n",
    "\n",
    "    session_user_df = session_user_df.na.fill(0)\n",
    "    return session_user_df"
   ]
  },
  {
   "cell_type": "markdown",
   "metadata": {},
   "source": [
    "### Descriptive Stasticts for different kinds of pages"
   ]
  },
  {
   "cell_type": "code",
   "execution_count": 36,
   "metadata": {},
   "outputs": [],
   "source": [
    "user_page_distribution = df.groupby('userId').pivot('page').count().na.fill(0)\n",
    "# Drop Cancel and Cancellation Confirmation columns\n",
    "user_page_distribution = user_page_distribution.drop(*['Cancel','Cancellation Confirmation'])"
   ]
  },
  {
   "cell_type": "code",
   "execution_count": 37,
   "metadata": {},
   "outputs": [
    {
     "name": "stdout",
     "output_type": "stream",
     "text": [
      "+------+-----+----------+---------------+---------+-----+----+----+------+--------+-----------+-------------+--------+----------------+--------------+-----------+---------+-------+\n",
      "|userId|About|Add Friend|Add to Playlist|Downgrade|Error|Help|Home|Logout|NextSong|Roll Advert|Save Settings|Settings|Submit Downgrade|Submit Upgrade|Thumbs Down|Thumbs Up|Upgrade|\n",
      "+------+-----+----------+---------------+---------+-----+----+----+------+--------+-----------+-------------+--------+----------------+--------------+-----------+---------+-------+\n",
      "|100010|    1|         4|              7|        0|    0|   2|  11|     5|     275|         52|            0|       0|               0|             0|          5|       17|      2|\n",
      "|200002|    3|         4|              8|        5|    0|   2|  20|     5|     387|          7|            0|       3|               0|             1|          6|       21|      2|\n",
      "|   125|    0|         0|              0|        0|    0|   0|   0|     0|       8|          1|            0|       0|               0|             0|          0|        0|      0|\n",
      "|   124|    7|        74|            118|       41|    6|  23| 176|    59|    4079|          4|            6|      20|               0|             0|         41|      171|      0|\n",
      "|    51|    2|        28|             52|       23|    1|  12|  75|    24|    2111|          0|            1|      12|               0|             0|         21|      100|      0|\n",
      "|     7|    0|         1|              5|        0|    1|   1|  10|     3|     150|         16|            1|       3|               0|             0|          1|        7|      2|\n",
      "|    15|    2|        31|             59|       28|    2|   8|  93|    27|    1914|          1|            2|      16|               0|             0|         14|       81|      0|\n",
      "|    54|    5|        33|             72|       39|    1|  17| 129|    36|    2841|         47|            3|      17|               1|             1|         29|      163|      1|\n",
      "|   155|    2|        11|             24|       12|    3|   9|  30|    14|     820|          8|            0|       5|               0|             1|          3|       58|      2|\n",
      "|100014|    0|         6|              7|        3|    0|   2|   7|     3|     257|          2|            0|       1|               0|             0|          3|       17|      0|\n",
      "|   132|    4|        41|             38|       19|    3|  16|  83|    34|    1928|          2|            4|      17|               0|             1|         17|       96|      1|\n",
      "|   154|    0|         3|              1|        0|    0|   1|   6|     2|      84|         10|            0|       0|               0|             0|          0|       11|      0|\n",
      "|   101|    2|        29|             61|       22|    3|  12|  74|    24|    1797|          8|            2|       9|               0|             1|         16|       86|      1|\n",
      "|    11|    7|         6|             20|        5|    1|   3|  37|    14|     647|         39|            2|       6|               1|             2|          9|       40|      9|\n",
      "|   138|    8|        41|             67|       21|    1|  13|  71|    18|    2070|         17|            4|      17|               0|             1|         24|       95|      1|\n",
      "|300017|    3|        63|            113|       25|    5|  27| 151|    41|    3632|         11|            3|      23|               0|             0|         28|      303|      0|\n",
      "|100021|    1|         7|              7|        0|    2|   0|  15|     7|     230|         30|            0|       0|               0|             0|          5|       11|      2|\n",
      "|    29|    2|        47|             89|       18|    0|  28| 121|    41|    3028|         22|            4|      19|               0|             1|         22|      154|      5|\n",
      "|    69|    3|        12|             33|        9|    4|   7|  49|    10|    1125|          3|            1|       3|               0|             1|          9|       72|      1|\n",
      "|   112|    1|         7|              7|        0|    0|   1|  16|     3|     215|         21|            3|       4|               0|             0|          3|        9|      2|\n",
      "+------+-----+----------+---------------+---------+-----+----+----+------+--------+-----------+-------------+--------+----------------+--------------+-----------+---------+-------+\n",
      "only showing top 20 rows\n",
      "\n"
     ]
    }
   ],
   "source": [
    "user_page_distribution.show()"
   ]
  },
  {
   "cell_type": "code",
   "execution_count": 38,
   "metadata": {},
   "outputs": [
    {
     "data": {
      "text/plain": [
       "['About',\n",
       " 'Add Friend',\n",
       " 'Add to Playlist',\n",
       " 'Downgrade',\n",
       " 'Error',\n",
       " 'Help',\n",
       " 'Home',\n",
       " 'Logout',\n",
       " 'NextSong',\n",
       " 'Roll Advert',\n",
       " 'Save Settings',\n",
       " 'Settings',\n",
       " 'Submit Downgrade',\n",
       " 'Submit Upgrade',\n",
       " 'Thumbs Down',\n",
       " 'Thumbs Up',\n",
       " 'Upgrade']"
      ]
     },
     "execution_count": 38,
     "metadata": {},
     "output_type": "execute_result"
    }
   ],
   "source": [
    "# the columns to be summed\n",
    "pages_cols = user_page_distribution.columns[1:]\n",
    "pages_cols"
   ]
  },
  {
   "cell_type": "code",
   "execution_count": 39,
   "metadata": {},
   "outputs": [],
   "source": [
    "# refs: https://stackoverflow.com/questions/31955309/add-column-sum-as-new-column-in-pyspark-dataframe\n",
    "\n",
    "def column_add(a,b):\n",
    "     return  a.__add__(b)\n",
    "\n",
    "new_df = user_page_distribution.withColumn('total', \n",
    "         reduce(column_add, ( user_page_distribution[col] for col in pages_cols ) ))"
   ]
  },
  {
   "cell_type": "code",
   "execution_count": 40,
   "metadata": {},
   "outputs": [],
   "source": [
    "for col in pages_cols:\n",
    "    new_df = new_df.withColumn(f'norm_{col}', new_df[col] / new_df['total'] * 100.)"
   ]
  },
  {
   "cell_type": "code",
   "execution_count": 41,
   "metadata": {},
   "outputs": [],
   "source": [
    "new_df = new_df.drop('total')"
   ]
  },
  {
   "cell_type": "code",
   "execution_count": 42,
   "metadata": {},
   "outputs": [],
   "source": [
    "new_df = new_df.drop(*pages_cols)"
   ]
  },
  {
   "cell_type": "code",
   "execution_count": 43,
   "metadata": {},
   "outputs": [],
   "source": [
    "# Rename the normalized columns back\n",
    "oldColumns = new_df.columns\n",
    "newColumns = ['userId'] + pages_cols\n",
    "user_page_distribution = reduce(lambda new_df, idx: new_df.withColumnRenamed(oldColumns[idx], newColumns[idx]), range(len(oldColumns)), new_df)"
   ]
  },
  {
   "cell_type": "code",
   "execution_count": 44,
   "metadata": {},
   "outputs": [
    {
     "data": {
      "text/html": [
       "<div>\n",
       "<style scoped>\n",
       "    .dataframe tbody tr th:only-of-type {\n",
       "        vertical-align: middle;\n",
       "    }\n",
       "\n",
       "    .dataframe tbody tr th {\n",
       "        vertical-align: top;\n",
       "    }\n",
       "\n",
       "    .dataframe thead th {\n",
       "        text-align: right;\n",
       "    }\n",
       "</style>\n",
       "<table border=\"1\" class=\"dataframe\">\n",
       "  <thead>\n",
       "    <tr style=\"text-align: right;\">\n",
       "      <th></th>\n",
       "      <th>userId</th>\n",
       "      <th>About</th>\n",
       "      <th>Add Friend</th>\n",
       "      <th>Add to Playlist</th>\n",
       "      <th>Downgrade</th>\n",
       "      <th>Error</th>\n",
       "      <th>Help</th>\n",
       "      <th>Home</th>\n",
       "      <th>Logout</th>\n",
       "      <th>NextSong</th>\n",
       "      <th>Roll Advert</th>\n",
       "      <th>Save Settings</th>\n",
       "      <th>Settings</th>\n",
       "      <th>Submit Downgrade</th>\n",
       "      <th>Submit Upgrade</th>\n",
       "      <th>Thumbs Down</th>\n",
       "      <th>Thumbs Up</th>\n",
       "      <th>Upgrade</th>\n",
       "    </tr>\n",
       "  </thead>\n",
       "  <tbody>\n",
       "    <tr>\n",
       "      <th>0</th>\n",
       "      <td>100010</td>\n",
       "      <td>0.262467</td>\n",
       "      <td>1.049869</td>\n",
       "      <td>1.837270</td>\n",
       "      <td>0.000000</td>\n",
       "      <td>0.000000</td>\n",
       "      <td>0.524934</td>\n",
       "      <td>2.887139</td>\n",
       "      <td>1.312336</td>\n",
       "      <td>72.178478</td>\n",
       "      <td>13.648294</td>\n",
       "      <td>0.000000</td>\n",
       "      <td>0.000000</td>\n",
       "      <td>0.000000</td>\n",
       "      <td>0.000000</td>\n",
       "      <td>1.312336</td>\n",
       "      <td>4.461942</td>\n",
       "      <td>0.524934</td>\n",
       "    </tr>\n",
       "    <tr>\n",
       "      <th>1</th>\n",
       "      <td>200002</td>\n",
       "      <td>0.632911</td>\n",
       "      <td>0.843882</td>\n",
       "      <td>1.687764</td>\n",
       "      <td>1.054852</td>\n",
       "      <td>0.000000</td>\n",
       "      <td>0.421941</td>\n",
       "      <td>4.219409</td>\n",
       "      <td>1.054852</td>\n",
       "      <td>81.645570</td>\n",
       "      <td>1.476793</td>\n",
       "      <td>0.000000</td>\n",
       "      <td>0.632911</td>\n",
       "      <td>0.000000</td>\n",
       "      <td>0.210970</td>\n",
       "      <td>1.265823</td>\n",
       "      <td>4.430380</td>\n",
       "      <td>0.421941</td>\n",
       "    </tr>\n",
       "    <tr>\n",
       "      <th>2</th>\n",
       "      <td>125</td>\n",
       "      <td>0.000000</td>\n",
       "      <td>0.000000</td>\n",
       "      <td>0.000000</td>\n",
       "      <td>0.000000</td>\n",
       "      <td>0.000000</td>\n",
       "      <td>0.000000</td>\n",
       "      <td>0.000000</td>\n",
       "      <td>0.000000</td>\n",
       "      <td>88.888889</td>\n",
       "      <td>11.111111</td>\n",
       "      <td>0.000000</td>\n",
       "      <td>0.000000</td>\n",
       "      <td>0.000000</td>\n",
       "      <td>0.000000</td>\n",
       "      <td>0.000000</td>\n",
       "      <td>0.000000</td>\n",
       "      <td>0.000000</td>\n",
       "    </tr>\n",
       "    <tr>\n",
       "      <th>3</th>\n",
       "      <td>124</td>\n",
       "      <td>0.145078</td>\n",
       "      <td>1.533679</td>\n",
       "      <td>2.445596</td>\n",
       "      <td>0.849741</td>\n",
       "      <td>0.124352</td>\n",
       "      <td>0.476684</td>\n",
       "      <td>3.647668</td>\n",
       "      <td>1.222798</td>\n",
       "      <td>84.538860</td>\n",
       "      <td>0.082902</td>\n",
       "      <td>0.124352</td>\n",
       "      <td>0.414508</td>\n",
       "      <td>0.000000</td>\n",
       "      <td>0.000000</td>\n",
       "      <td>0.849741</td>\n",
       "      <td>3.544041</td>\n",
       "      <td>0.000000</td>\n",
       "    </tr>\n",
       "    <tr>\n",
       "      <th>4</th>\n",
       "      <td>51</td>\n",
       "      <td>0.081235</td>\n",
       "      <td>1.137287</td>\n",
       "      <td>2.112104</td>\n",
       "      <td>0.934200</td>\n",
       "      <td>0.040617</td>\n",
       "      <td>0.487409</td>\n",
       "      <td>3.046304</td>\n",
       "      <td>0.974817</td>\n",
       "      <td>85.743298</td>\n",
       "      <td>0.000000</td>\n",
       "      <td>0.040617</td>\n",
       "      <td>0.487409</td>\n",
       "      <td>0.000000</td>\n",
       "      <td>0.000000</td>\n",
       "      <td>0.852965</td>\n",
       "      <td>4.061738</td>\n",
       "      <td>0.000000</td>\n",
       "    </tr>\n",
       "    <tr>\n",
       "      <th>5</th>\n",
       "      <td>7</td>\n",
       "      <td>0.000000</td>\n",
       "      <td>0.497512</td>\n",
       "      <td>2.487562</td>\n",
       "      <td>0.000000</td>\n",
       "      <td>0.497512</td>\n",
       "      <td>0.497512</td>\n",
       "      <td>4.975124</td>\n",
       "      <td>1.492537</td>\n",
       "      <td>74.626866</td>\n",
       "      <td>7.960199</td>\n",
       "      <td>0.497512</td>\n",
       "      <td>1.492537</td>\n",
       "      <td>0.000000</td>\n",
       "      <td>0.000000</td>\n",
       "      <td>0.497512</td>\n",
       "      <td>3.482587</td>\n",
       "      <td>0.995025</td>\n",
       "    </tr>\n",
       "    <tr>\n",
       "      <th>6</th>\n",
       "      <td>15</td>\n",
       "      <td>0.087796</td>\n",
       "      <td>1.360843</td>\n",
       "      <td>2.589991</td>\n",
       "      <td>1.229148</td>\n",
       "      <td>0.087796</td>\n",
       "      <td>0.351185</td>\n",
       "      <td>4.082529</td>\n",
       "      <td>1.185250</td>\n",
       "      <td>84.021071</td>\n",
       "      <td>0.043898</td>\n",
       "      <td>0.087796</td>\n",
       "      <td>0.702371</td>\n",
       "      <td>0.000000</td>\n",
       "      <td>0.000000</td>\n",
       "      <td>0.614574</td>\n",
       "      <td>3.555751</td>\n",
       "      <td>0.000000</td>\n",
       "    </tr>\n",
       "    <tr>\n",
       "      <th>7</th>\n",
       "      <td>54</td>\n",
       "      <td>0.145560</td>\n",
       "      <td>0.960699</td>\n",
       "      <td>2.096070</td>\n",
       "      <td>1.135371</td>\n",
       "      <td>0.029112</td>\n",
       "      <td>0.494905</td>\n",
       "      <td>3.755459</td>\n",
       "      <td>1.048035</td>\n",
       "      <td>82.707424</td>\n",
       "      <td>1.368268</td>\n",
       "      <td>0.087336</td>\n",
       "      <td>0.494905</td>\n",
       "      <td>0.029112</td>\n",
       "      <td>0.029112</td>\n",
       "      <td>0.844250</td>\n",
       "      <td>4.745269</td>\n",
       "      <td>0.029112</td>\n",
       "    </tr>\n",
       "    <tr>\n",
       "      <th>8</th>\n",
       "      <td>155</td>\n",
       "      <td>0.199601</td>\n",
       "      <td>1.097804</td>\n",
       "      <td>2.395210</td>\n",
       "      <td>1.197605</td>\n",
       "      <td>0.299401</td>\n",
       "      <td>0.898204</td>\n",
       "      <td>2.994012</td>\n",
       "      <td>1.397206</td>\n",
       "      <td>81.836327</td>\n",
       "      <td>0.798403</td>\n",
       "      <td>0.000000</td>\n",
       "      <td>0.499002</td>\n",
       "      <td>0.000000</td>\n",
       "      <td>0.099800</td>\n",
       "      <td>0.299401</td>\n",
       "      <td>5.788423</td>\n",
       "      <td>0.199601</td>\n",
       "    </tr>\n",
       "    <tr>\n",
       "      <th>9</th>\n",
       "      <td>100014</td>\n",
       "      <td>0.000000</td>\n",
       "      <td>1.948052</td>\n",
       "      <td>2.272727</td>\n",
       "      <td>0.974026</td>\n",
       "      <td>0.000000</td>\n",
       "      <td>0.649351</td>\n",
       "      <td>2.272727</td>\n",
       "      <td>0.974026</td>\n",
       "      <td>83.441558</td>\n",
       "      <td>0.649351</td>\n",
       "      <td>0.000000</td>\n",
       "      <td>0.324675</td>\n",
       "      <td>0.000000</td>\n",
       "      <td>0.000000</td>\n",
       "      <td>0.974026</td>\n",
       "      <td>5.519481</td>\n",
       "      <td>0.000000</td>\n",
       "    </tr>\n",
       "  </tbody>\n",
       "</table>\n",
       "</div>"
      ],
      "text/plain": [
       "   userId     About  Add Friend  Add to Playlist  Downgrade     Error      Help      Home    Logout   NextSong  Roll Advert  Save Settings  Settings  Submit Downgrade  Submit Upgrade  Thumbs Down  Thumbs Up   Upgrade\n",
       "0  100010  0.262467  1.049869    1.837270         0.000000   0.000000  0.524934  2.887139  1.312336  72.178478  13.648294    0.000000       0.000000  0.000000          0.000000        1.312336     4.461942   0.524934\n",
       "1  200002  0.632911  0.843882    1.687764         1.054852   0.000000  0.421941  4.219409  1.054852  81.645570  1.476793     0.000000       0.632911  0.000000          0.210970        1.265823     4.430380   0.421941\n",
       "2  125     0.000000  0.000000    0.000000         0.000000   0.000000  0.000000  0.000000  0.000000  88.888889  11.111111    0.000000       0.000000  0.000000          0.000000        0.000000     0.000000   0.000000\n",
       "3  124     0.145078  1.533679    2.445596         0.849741   0.124352  0.476684  3.647668  1.222798  84.538860  0.082902     0.124352       0.414508  0.000000          0.000000        0.849741     3.544041   0.000000\n",
       "4  51      0.081235  1.137287    2.112104         0.934200   0.040617  0.487409  3.046304  0.974817  85.743298  0.000000     0.040617       0.487409  0.000000          0.000000        0.852965     4.061738   0.000000\n",
       "5  7       0.000000  0.497512    2.487562         0.000000   0.497512  0.497512  4.975124  1.492537  74.626866  7.960199     0.497512       1.492537  0.000000          0.000000        0.497512     3.482587   0.995025\n",
       "6  15      0.087796  1.360843    2.589991         1.229148   0.087796  0.351185  4.082529  1.185250  84.021071  0.043898     0.087796       0.702371  0.000000          0.000000        0.614574     3.555751   0.000000\n",
       "7  54      0.145560  0.960699    2.096070         1.135371   0.029112  0.494905  3.755459  1.048035  82.707424  1.368268     0.087336       0.494905  0.029112          0.029112        0.844250     4.745269   0.029112\n",
       "8  155     0.199601  1.097804    2.395210         1.197605   0.299401  0.898204  2.994012  1.397206  81.836327  0.798403     0.000000       0.499002  0.000000          0.099800        0.299401     5.788423   0.199601\n",
       "9  100014  0.000000  1.948052    2.272727         0.974026   0.000000  0.649351  2.272727  0.974026  83.441558  0.649351     0.000000       0.324675  0.000000          0.000000        0.974026     5.519481   0.000000"
      ]
     },
     "execution_count": 44,
     "metadata": {},
     "output_type": "execute_result"
    }
   ],
   "source": [
    "del new_df\n",
    "user_page_distribution.toPandas().head(10)"
   ]
  },
  {
   "cell_type": "code",
   "execution_count": 45,
   "metadata": {},
   "outputs": [],
   "source": [
    "# lets rename columns\n",
    "def rename_columns(df):\n",
    "    \"\"\"\n",
    "        Replace space in columnName to _\n",
    "        ARGS:\n",
    "            - df: Spark dataframe\n",
    "    \"\"\"\n",
    "    for col in df.schema.fields:\n",
    "        df = df.withColumnRenamed(col.name,col.name.replace(' ', '_'))\n",
    "        df = df.withColumnRenamed(col.name,col.name.replace('.', ''))\n",
    "    return df\n"
   ]
  },
  {
   "cell_type": "code",
   "execution_count": 46,
   "metadata": {},
   "outputs": [
    {
     "data": {
      "text/html": [
       "<div>\n",
       "<style scoped>\n",
       "    .dataframe tbody tr th:only-of-type {\n",
       "        vertical-align: middle;\n",
       "    }\n",
       "\n",
       "    .dataframe tbody tr th {\n",
       "        vertical-align: top;\n",
       "    }\n",
       "\n",
       "    .dataframe thead th {\n",
       "        text-align: right;\n",
       "    }\n",
       "</style>\n",
       "<table border=\"1\" class=\"dataframe\">\n",
       "  <thead>\n",
       "    <tr style=\"text-align: right;\">\n",
       "      <th></th>\n",
       "      <th>userId</th>\n",
       "      <th>About</th>\n",
       "      <th>Add Friend</th>\n",
       "      <th>Add to Playlist</th>\n",
       "      <th>Downgrade</th>\n",
       "      <th>Error</th>\n",
       "      <th>Help</th>\n",
       "      <th>Home</th>\n",
       "      <th>Logout</th>\n",
       "      <th>NextSong</th>\n",
       "      <th>Roll Advert</th>\n",
       "      <th>Save Settings</th>\n",
       "      <th>Settings</th>\n",
       "      <th>Submit Downgrade</th>\n",
       "      <th>Submit Upgrade</th>\n",
       "      <th>Thumbs Down</th>\n",
       "      <th>Thumbs Up</th>\n",
       "      <th>Upgrade</th>\n",
       "    </tr>\n",
       "  </thead>\n",
       "  <tbody>\n",
       "    <tr>\n",
       "      <th>0</th>\n",
       "      <td>100010</td>\n",
       "      <td>0.262467</td>\n",
       "      <td>1.049869</td>\n",
       "      <td>1.837270</td>\n",
       "      <td>0.000000</td>\n",
       "      <td>0.000000</td>\n",
       "      <td>0.524934</td>\n",
       "      <td>2.887139</td>\n",
       "      <td>1.312336</td>\n",
       "      <td>72.178478</td>\n",
       "      <td>13.648294</td>\n",
       "      <td>0.000000</td>\n",
       "      <td>0.000000</td>\n",
       "      <td>0.0</td>\n",
       "      <td>0.00000</td>\n",
       "      <td>1.312336</td>\n",
       "      <td>4.461942</td>\n",
       "      <td>0.524934</td>\n",
       "    </tr>\n",
       "    <tr>\n",
       "      <th>1</th>\n",
       "      <td>200002</td>\n",
       "      <td>0.632911</td>\n",
       "      <td>0.843882</td>\n",
       "      <td>1.687764</td>\n",
       "      <td>1.054852</td>\n",
       "      <td>0.000000</td>\n",
       "      <td>0.421941</td>\n",
       "      <td>4.219409</td>\n",
       "      <td>1.054852</td>\n",
       "      <td>81.645570</td>\n",
       "      <td>1.476793</td>\n",
       "      <td>0.000000</td>\n",
       "      <td>0.632911</td>\n",
       "      <td>0.0</td>\n",
       "      <td>0.21097</td>\n",
       "      <td>1.265823</td>\n",
       "      <td>4.430380</td>\n",
       "      <td>0.421941</td>\n",
       "    </tr>\n",
       "    <tr>\n",
       "      <th>2</th>\n",
       "      <td>125</td>\n",
       "      <td>0.000000</td>\n",
       "      <td>0.000000</td>\n",
       "      <td>0.000000</td>\n",
       "      <td>0.000000</td>\n",
       "      <td>0.000000</td>\n",
       "      <td>0.000000</td>\n",
       "      <td>0.000000</td>\n",
       "      <td>0.000000</td>\n",
       "      <td>88.888889</td>\n",
       "      <td>11.111111</td>\n",
       "      <td>0.000000</td>\n",
       "      <td>0.000000</td>\n",
       "      <td>0.0</td>\n",
       "      <td>0.00000</td>\n",
       "      <td>0.000000</td>\n",
       "      <td>0.000000</td>\n",
       "      <td>0.000000</td>\n",
       "    </tr>\n",
       "    <tr>\n",
       "      <th>3</th>\n",
       "      <td>124</td>\n",
       "      <td>0.145078</td>\n",
       "      <td>1.533679</td>\n",
       "      <td>2.445596</td>\n",
       "      <td>0.849741</td>\n",
       "      <td>0.124352</td>\n",
       "      <td>0.476684</td>\n",
       "      <td>3.647668</td>\n",
       "      <td>1.222798</td>\n",
       "      <td>84.538860</td>\n",
       "      <td>0.082902</td>\n",
       "      <td>0.124352</td>\n",
       "      <td>0.414508</td>\n",
       "      <td>0.0</td>\n",
       "      <td>0.00000</td>\n",
       "      <td>0.849741</td>\n",
       "      <td>3.544041</td>\n",
       "      <td>0.000000</td>\n",
       "    </tr>\n",
       "    <tr>\n",
       "      <th>4</th>\n",
       "      <td>51</td>\n",
       "      <td>0.081235</td>\n",
       "      <td>1.137287</td>\n",
       "      <td>2.112104</td>\n",
       "      <td>0.934200</td>\n",
       "      <td>0.040617</td>\n",
       "      <td>0.487409</td>\n",
       "      <td>3.046304</td>\n",
       "      <td>0.974817</td>\n",
       "      <td>85.743298</td>\n",
       "      <td>0.000000</td>\n",
       "      <td>0.040617</td>\n",
       "      <td>0.487409</td>\n",
       "      <td>0.0</td>\n",
       "      <td>0.00000</td>\n",
       "      <td>0.852965</td>\n",
       "      <td>4.061738</td>\n",
       "      <td>0.000000</td>\n",
       "    </tr>\n",
       "  </tbody>\n",
       "</table>\n",
       "</div>"
      ],
      "text/plain": [
       "   userId     About  Add Friend  Add to Playlist  Downgrade     Error      Help      Home    Logout   NextSong  Roll Advert  Save Settings  Settings  Submit Downgrade  Submit Upgrade  Thumbs Down  Thumbs Up   Upgrade\n",
       "0  100010  0.262467  1.049869    1.837270         0.000000   0.000000  0.524934  2.887139  1.312336  72.178478  13.648294    0.000000       0.000000  0.0               0.00000         1.312336     4.461942   0.524934\n",
       "1  200002  0.632911  0.843882    1.687764         1.054852   0.000000  0.421941  4.219409  1.054852  81.645570  1.476793     0.000000       0.632911  0.0               0.21097         1.265823     4.430380   0.421941\n",
       "2  125     0.000000  0.000000    0.000000         0.000000   0.000000  0.000000  0.000000  0.000000  88.888889  11.111111    0.000000       0.000000  0.0               0.00000         0.000000     0.000000   0.000000\n",
       "3  124     0.145078  1.533679    2.445596         0.849741   0.124352  0.476684  3.647668  1.222798  84.538860  0.082902     0.124352       0.414508  0.0               0.00000         0.849741     3.544041   0.000000\n",
       "4  51      0.081235  1.137287    2.112104         0.934200   0.040617  0.487409  3.046304  0.974817  85.743298  0.000000     0.040617       0.487409  0.0               0.00000         0.852965     4.061738   0.000000"
      ]
     },
     "execution_count": 46,
     "metadata": {},
     "output_type": "execute_result"
    }
   ],
   "source": [
    "rename_columns(user_page_distribution)\n",
    "show_df(user_page_distribution)"
   ]
  },
  {
   "cell_type": "markdown",
   "metadata": {},
   "source": [
    "### Remove unwanted column"
   ]
  },
  {
   "cell_type": "code",
   "execution_count": 49,
   "metadata": {},
   "outputs": [],
   "source": [
    "def drop_columns(df,col_list):\n",
    "    \"\"\"\n",
    "        Removes unwanted column from Spark Dataframe\n",
    "        ARGS:\n",
    "            - df: Spark data frame\n",
    "    \"\"\"\n",
    "    for col_name in col_list:\n",
    "        df = df.drop(col_name)\n",
    "    "
   ]
  },
  {
   "cell_type": "markdown",
   "metadata": {},
   "source": [
    "## Join all features\n"
   ]
  },
  {
   "cell_type": "code",
   "execution_count": 47,
   "metadata": {},
   "outputs": [
    {
     "data": {
      "text/plain": [
       "DataFrame[userId: string, gender: int]"
      ]
     },
     "execution_count": 47,
     "metadata": {},
     "output_type": "execute_result"
    }
   ],
   "source": [
    "user_stats_df = user_stats(df)\n",
    "artists_per_user_df = artists_per_user(df)\n",
    "songs_per_session_df = songs_per_session(df)\n",
    "session_stats_df = session_stats(df)\n",
    "churn_df = create_label(df)\n",
    "churn_df = churn_df.select('userId','label').drop_duplicates()\n",
    "label_df = churn_df\n",
    "os_df\n",
    "level_df\n",
    "user_page_distribution\n",
    "gender_encoded_df"
   ]
  },
  {
   "cell_type": "code",
   "execution_count": 48,
   "metadata": {},
   "outputs": [],
   "source": [
    "def join_dataframe(base,new_df):\n",
    "    \"\"\"\n",
    "        Joins new dataframe to base dataframe\n",
    "        ARGS: \n",
    "            - base: Sparkdataframe\n",
    "        RETURNS:\n",
    "            - new_df: newly created dataframe to megre with base data frame\n",
    "    \"\"\"\n",
    "    base_df = base.join(new_df,on='userId',how='left')\n",
    "    return base_df"
   ]
  },
  {
   "cell_type": "code",
   "execution_count": 90,
   "metadata": {},
   "outputs": [],
   "source": [
    "feature_list_df = [user_stats_df,artists_per_user_df,songs_per_session_df,\\\n",
    "                   session_stats_df,os_df,level_df,gender_encoded_df,label_df]\n",
    "def create_final_dataset(base_df,feature_list_df):\n",
    "    \"\"\"\n",
    "        Merges all the features to one final Spark dataframe            \n",
    "    \"\"\"\n",
    "    print('Dimentions before joining')\n",
    "    df_dimentions(base_df)\n",
    "    joined = base_df\n",
    "    for i,feature in enumerate(feature_list_df):\n",
    "        joined = join_dataframe(joined,feature)\n",
    "        print(\"Newly added features: \",[x for x in feature.columns if x not in ['userId']])\n",
    "    print('Dimentions after joining')\n",
    "    df_dimentions(joined)\n",
    "    return joined"
   ]
  },
  {
   "cell_type": "code",
   "execution_count": 91,
   "metadata": {},
   "outputs": [
    {
     "name": "stdout",
     "output_type": "stream",
     "text": [
      "Dimentions before joining\n",
      "row count: 225, column count: 18\n",
      "Newly added features:  ['meanHours', 'stdevHours']\n",
      "Newly added features:  ['artistLiked']\n",
      "Newly added features:  ['meanSongs', 'stdevSongs']\n",
      "Newly added features:  ['meanSession', 'stdevSession']\n",
      "Newly added features:  ['OS_iPad', 'OS_iPhone', 'OS_Windows 8.1', 'OS_Linux', 'OS_Windows Vista', 'OS_Windows 8.0', 'OS_MacOS', 'OS_Windows XP', 'OS_Windows 7']\n",
      "Newly added features:  ['level']\n",
      "Newly added features:  ['gender']\n",
      "Newly added features:  ['label']\n",
      "Dimentions after joining\n",
      "row count: 505708, column count: 37\n"
     ]
    }
   ],
   "source": [
    "joined = create_final_dataset(user_page_distribution,feature_list_df)"
   ]
  },
  {
   "cell_type": "code",
   "execution_count": 92,
   "metadata": {},
   "outputs": [],
   "source": [
    "joined = joined.dropDuplicates()"
   ]
  },
  {
   "cell_type": "code",
   "execution_count": 93,
   "metadata": {},
   "outputs": [],
   "source": [
    "final_df = joined.toPandas()"
   ]
  },
  {
   "cell_type": "code",
   "execution_count": 94,
   "metadata": {},
   "outputs": [
    {
     "data": {
      "text/html": [
       "<div>\n",
       "<style scoped>\n",
       "    .dataframe tbody tr th:only-of-type {\n",
       "        vertical-align: middle;\n",
       "    }\n",
       "\n",
       "    .dataframe tbody tr th {\n",
       "        vertical-align: top;\n",
       "    }\n",
       "\n",
       "    .dataframe thead th {\n",
       "        text-align: right;\n",
       "    }\n",
       "</style>\n",
       "<table border=\"1\" class=\"dataframe\">\n",
       "  <thead>\n",
       "    <tr style=\"text-align: right;\">\n",
       "      <th></th>\n",
       "      <th>userId</th>\n",
       "      <th>About</th>\n",
       "      <th>Add Friend</th>\n",
       "      <th>Add to Playlist</th>\n",
       "      <th>Downgrade</th>\n",
       "      <th>Error</th>\n",
       "      <th>Help</th>\n",
       "      <th>Home</th>\n",
       "      <th>Logout</th>\n",
       "      <th>NextSong</th>\n",
       "      <th>Roll Advert</th>\n",
       "      <th>Save Settings</th>\n",
       "      <th>Settings</th>\n",
       "      <th>Submit Downgrade</th>\n",
       "      <th>Submit Upgrade</th>\n",
       "      <th>Thumbs Down</th>\n",
       "      <th>Thumbs Up</th>\n",
       "      <th>Upgrade</th>\n",
       "      <th>meanHours</th>\n",
       "      <th>stdevHours</th>\n",
       "      <th>artistLiked</th>\n",
       "      <th>meanSongs</th>\n",
       "      <th>stdevSongs</th>\n",
       "      <th>meanSession</th>\n",
       "      <th>stdevSession</th>\n",
       "      <th>OS_iPad</th>\n",
       "      <th>OS_iPhone</th>\n",
       "      <th>OS_Windows 8.1</th>\n",
       "      <th>OS_Linux</th>\n",
       "      <th>OS_Windows Vista</th>\n",
       "      <th>OS_Windows 8.0</th>\n",
       "      <th>OS_MacOS</th>\n",
       "      <th>OS_Windows XP</th>\n",
       "      <th>OS_Windows 7</th>\n",
       "      <th>level</th>\n",
       "      <th>gender</th>\n",
       "      <th>label</th>\n",
       "    </tr>\n",
       "  </thead>\n",
       "  <tbody>\n",
       "    <tr>\n",
       "      <th>0</th>\n",
       "      <td>100010</td>\n",
       "      <td>0.262467</td>\n",
       "      <td>1.049869</td>\n",
       "      <td>1.837270</td>\n",
       "      <td>0.000000</td>\n",
       "      <td>0.000000</td>\n",
       "      <td>0.524934</td>\n",
       "      <td>2.887139</td>\n",
       "      <td>1.312336</td>\n",
       "      <td>72.178478</td>\n",
       "      <td>13.648294</td>\n",
       "      <td>0.000000</td>\n",
       "      <td>0.000000</td>\n",
       "      <td>0.0</td>\n",
       "      <td>0.00000</td>\n",
       "      <td>1.312336</td>\n",
       "      <td>4.461942</td>\n",
       "      <td>0.524934</td>\n",
       "      <td>2.656385</td>\n",
       "      <td>1.594089</td>\n",
       "      <td>253</td>\n",
       "      <td>39.285714</td>\n",
       "      <td>22.961666</td>\n",
       "      <td>55.0</td>\n",
       "      <td>0.0</td>\n",
       "      <td>0</td>\n",
       "      <td>1</td>\n",
       "      <td>0</td>\n",
       "      <td>0</td>\n",
       "      <td>0</td>\n",
       "      <td>0</td>\n",
       "      <td>0</td>\n",
       "      <td>0</td>\n",
       "      <td>0</td>\n",
       "      <td>0</td>\n",
       "      <td>0</td>\n",
       "      <td>0</td>\n",
       "    </tr>\n",
       "    <tr>\n",
       "      <th>1</th>\n",
       "      <td>200002</td>\n",
       "      <td>0.632911</td>\n",
       "      <td>0.843882</td>\n",
       "      <td>1.687764</td>\n",
       "      <td>1.054852</td>\n",
       "      <td>0.000000</td>\n",
       "      <td>0.421941</td>\n",
       "      <td>4.219409</td>\n",
       "      <td>1.054852</td>\n",
       "      <td>81.645570</td>\n",
       "      <td>1.476793</td>\n",
       "      <td>0.000000</td>\n",
       "      <td>0.632911</td>\n",
       "      <td>0.0</td>\n",
       "      <td>0.21097</td>\n",
       "      <td>1.265823</td>\n",
       "      <td>4.430380</td>\n",
       "      <td>0.421941</td>\n",
       "      <td>4.352263</td>\n",
       "      <td>3.481087</td>\n",
       "      <td>340</td>\n",
       "      <td>64.500000</td>\n",
       "      <td>51.309843</td>\n",
       "      <td>70.0</td>\n",
       "      <td>0.0</td>\n",
       "      <td>0</td>\n",
       "      <td>1</td>\n",
       "      <td>0</td>\n",
       "      <td>0</td>\n",
       "      <td>0</td>\n",
       "      <td>0</td>\n",
       "      <td>0</td>\n",
       "      <td>0</td>\n",
       "      <td>0</td>\n",
       "      <td>0</td>\n",
       "      <td>1</td>\n",
       "      <td>0</td>\n",
       "    </tr>\n",
       "    <tr>\n",
       "      <th>2</th>\n",
       "      <td>200002</td>\n",
       "      <td>0.632911</td>\n",
       "      <td>0.843882</td>\n",
       "      <td>1.687764</td>\n",
       "      <td>1.054852</td>\n",
       "      <td>0.000000</td>\n",
       "      <td>0.421941</td>\n",
       "      <td>4.219409</td>\n",
       "      <td>1.054852</td>\n",
       "      <td>81.645570</td>\n",
       "      <td>1.476793</td>\n",
       "      <td>0.000000</td>\n",
       "      <td>0.632911</td>\n",
       "      <td>0.0</td>\n",
       "      <td>0.21097</td>\n",
       "      <td>1.265823</td>\n",
       "      <td>4.430380</td>\n",
       "      <td>0.421941</td>\n",
       "      <td>4.352263</td>\n",
       "      <td>3.481087</td>\n",
       "      <td>340</td>\n",
       "      <td>64.500000</td>\n",
       "      <td>51.309843</td>\n",
       "      <td>70.0</td>\n",
       "      <td>0.0</td>\n",
       "      <td>0</td>\n",
       "      <td>1</td>\n",
       "      <td>0</td>\n",
       "      <td>0</td>\n",
       "      <td>0</td>\n",
       "      <td>0</td>\n",
       "      <td>0</td>\n",
       "      <td>0</td>\n",
       "      <td>0</td>\n",
       "      <td>1</td>\n",
       "      <td>1</td>\n",
       "      <td>0</td>\n",
       "    </tr>\n",
       "    <tr>\n",
       "      <th>3</th>\n",
       "      <td>125</td>\n",
       "      <td>0.000000</td>\n",
       "      <td>0.000000</td>\n",
       "      <td>0.000000</td>\n",
       "      <td>0.000000</td>\n",
       "      <td>0.000000</td>\n",
       "      <td>0.000000</td>\n",
       "      <td>0.000000</td>\n",
       "      <td>0.000000</td>\n",
       "      <td>88.888889</td>\n",
       "      <td>11.111111</td>\n",
       "      <td>0.000000</td>\n",
       "      <td>0.000000</td>\n",
       "      <td>0.0</td>\n",
       "      <td>0.00000</td>\n",
       "      <td>0.000000</td>\n",
       "      <td>0.000000</td>\n",
       "      <td>0.000000</td>\n",
       "      <td>0.580309</td>\n",
       "      <td>0.000000</td>\n",
       "      <td>9</td>\n",
       "      <td>8.000000</td>\n",
       "      <td>0.000000</td>\n",
       "      <td>71.0</td>\n",
       "      <td>0.0</td>\n",
       "      <td>0</td>\n",
       "      <td>0</td>\n",
       "      <td>0</td>\n",
       "      <td>0</td>\n",
       "      <td>0</td>\n",
       "      <td>0</td>\n",
       "      <td>1</td>\n",
       "      <td>0</td>\n",
       "      <td>0</td>\n",
       "      <td>0</td>\n",
       "      <td>1</td>\n",
       "      <td>1</td>\n",
       "    </tr>\n",
       "    <tr>\n",
       "      <th>4</th>\n",
       "      <td>124</td>\n",
       "      <td>0.145078</td>\n",
       "      <td>1.533679</td>\n",
       "      <td>2.445596</td>\n",
       "      <td>0.849741</td>\n",
       "      <td>0.124352</td>\n",
       "      <td>0.476684</td>\n",
       "      <td>3.647668</td>\n",
       "      <td>1.222798</td>\n",
       "      <td>84.538860</td>\n",
       "      <td>0.082902</td>\n",
       "      <td>0.124352</td>\n",
       "      <td>0.414508</td>\n",
       "      <td>0.0</td>\n",
       "      <td>0.00000</td>\n",
       "      <td>0.849741</td>\n",
       "      <td>3.544041</td>\n",
       "      <td>0.000000</td>\n",
       "      <td>10.042779</td>\n",
       "      <td>9.370878</td>\n",
       "      <td>2233</td>\n",
       "      <td>145.678571</td>\n",
       "      <td>137.405874</td>\n",
       "      <td>131.0</td>\n",
       "      <td>0.0</td>\n",
       "      <td>0</td>\n",
       "      <td>0</td>\n",
       "      <td>0</td>\n",
       "      <td>0</td>\n",
       "      <td>0</td>\n",
       "      <td>0</td>\n",
       "      <td>1</td>\n",
       "      <td>0</td>\n",
       "      <td>0</td>\n",
       "      <td>1</td>\n",
       "      <td>0</td>\n",
       "      <td>0</td>\n",
       "    </tr>\n",
       "  </tbody>\n",
       "</table>\n",
       "</div>"
      ],
      "text/plain": [
       "   userId     About  Add Friend  Add to Playlist  Downgrade     Error      Help      Home    Logout   NextSong  Roll Advert  Save Settings  Settings  Submit Downgrade  Submit Upgrade  Thumbs Down  Thumbs Up   Upgrade  meanHours  stdevHours  artistLiked   meanSongs  stdevSongs  meanSession  stdevSession  OS_iPad  OS_iPhone  OS_Windows 8.1  OS_Linux  OS_Windows Vista  OS_Windows 8.0  OS_MacOS  OS_Windows XP  OS_Windows 7  level  gender  label\n",
       "0  100010  0.262467  1.049869    1.837270         0.000000   0.000000  0.524934  2.887139  1.312336  72.178478  13.648294    0.000000       0.000000  0.0               0.00000         1.312336     4.461942   0.524934  2.656385   1.594089    253          39.285714   22.961666   55.0         0.0           0        1          0               0         0                 0               0         0              0             0      0       0    \n",
       "1  200002  0.632911  0.843882    1.687764         1.054852   0.000000  0.421941  4.219409  1.054852  81.645570  1.476793     0.000000       0.632911  0.0               0.21097         1.265823     4.430380   0.421941  4.352263   3.481087    340          64.500000   51.309843   70.0         0.0           0        1          0               0         0                 0               0         0              0             0      1       0    \n",
       "2  200002  0.632911  0.843882    1.687764         1.054852   0.000000  0.421941  4.219409  1.054852  81.645570  1.476793     0.000000       0.632911  0.0               0.21097         1.265823     4.430380   0.421941  4.352263   3.481087    340          64.500000   51.309843   70.0         0.0           0        1          0               0         0                 0               0         0              0             1      1       0    \n",
       "3  125     0.000000  0.000000    0.000000         0.000000   0.000000  0.000000  0.000000  0.000000  88.888889  11.111111    0.000000       0.000000  0.0               0.00000         0.000000     0.000000   0.000000  0.580309   0.000000    9            8.000000    0.000000    71.0         0.0           0        0          0               0         0                 0               1         0              0             0      1       1    \n",
       "4  124     0.145078  1.533679    2.445596         0.849741   0.124352  0.476684  3.647668  1.222798  84.538860  0.082902     0.124352       0.414508  0.0               0.00000         0.849741     3.544041   0.000000  10.042779  9.370878    2233         145.678571  137.405874  131.0        0.0           0        0          0               0         0                 0               1         0              0             1      0       0    "
      ]
     },
     "execution_count": 94,
     "metadata": {},
     "output_type": "execute_result"
    }
   ],
   "source": [
    "final_df.head()"
   ]
  },
  {
   "cell_type": "code",
   "execution_count": 95,
   "metadata": {},
   "outputs": [],
   "source": [
    "final_df.to_csv('final_dataset.CSV', index=False)"
   ]
  },
  {
   "cell_type": "markdown",
   "metadata": {},
   "source": [
    "# Modeling\n",
    "Split the full dataset into train, test, and validation sets. Test out several of the machine learning methods you learned. Evaluate the accuracy of the various models, tuning parameters as necessary. Determine your winning model based on test accuracy and report results on the validation set. Since the churned users are a fairly small subset, I suggest using F1 score as the metric to optimize."
   ]
  },
  {
   "cell_type": "markdown",
   "metadata": {},
   "source": [
    "### Load the filtered dataset"
   ]
  },
  {
   "cell_type": "code",
   "execution_count": 96,
   "metadata": {},
   "outputs": [
    {
     "name": "stdout",
     "output_type": "stream",
     "text": [
      "+------+-------------------+------------------+------------------+------------------+--------------------+-------------------+------------------+------------------+-----------------+--------------------+-------------------+-------------------+--------------------+--------------------+-------------------+------------------+--------------------+------------------+------------------+-----------+------------------+------------------+-----------+------------+-------+---------+--------------+--------+----------------+--------------+--------+-------------+------------+-----+------+-----+\n",
      "|userId|              About|        Add Friend|   Add to Playlist|         Downgrade|               Error|               Help|              Home|            Logout|         NextSong|         Roll Advert|      Save Settings|           Settings|    Submit Downgrade|      Submit Upgrade|        Thumbs Down|         Thumbs Up|             Upgrade|         meanHours|        stdevHours|artistLiked|         meanSongs|        stdevSongs|meanSession|stdevSession|OS_iPad|OS_iPhone|OS_Windows 8.1|OS_Linux|OS_Windows Vista|OS_Windows 8.0|OS_MacOS|OS_Windows XP|OS_Windows 7|level|gender|label|\n",
      "+------+-------------------+------------------+------------------+------------------+--------------------+-------------------+------------------+------------------+-----------------+--------------------+-------------------+-------------------+--------------------+--------------------+-------------------+------------------+--------------------+------------------+------------------+-----------+------------------+------------------+-----------+------------+-------+---------+--------------+--------+----------------+--------------+--------+-------------+------------+-----+------+-----+\n",
      "|100010|0.26246719160104987|1.0498687664041995| 1.837270341207349|               0.0|                 0.0| 0.5249343832020997|2.8871391076115485|1.3123359580052494|72.17847769028872|  13.648293963254593|                0.0|                0.0|                 0.0|                 0.0| 1.3123359580052494|4.4619422572178475|  0.5249343832020997| 2.656384815476191|1.5940891633984364|        253|39.285714285714285|22.961665776639446|       55.0|         0.0|      0|        1|             0|       0|               0|             0|       0|            0|           0|    0|     0|    0|\n",
      "|200002| 0.6329113924050633|0.8438818565400843|1.6877637130801686|1.0548523206751055|                 0.0|0.42194092827004215| 4.219409282700422|1.0548523206751055|81.64556962025317|  1.4767932489451476|                0.0| 0.6329113924050633|                 0.0| 0.21097046413502107| 1.2658227848101267| 4.430379746835443| 0.42194092827004215|       4.352262775|3.4810872536286213|        340|              64.5|51.309843110264914|       70.0|         0.0|      0|        1|             0|       0|               0|             0|       0|            0|           0|    0|     1|    0|\n",
      "|200002| 0.6329113924050633|0.8438818565400843|1.6877637130801686|1.0548523206751055|                 0.0|0.42194092827004215| 4.219409282700422|1.0548523206751055|81.64556962025317|  1.4767932489451476|                0.0| 0.6329113924050633|                 0.0| 0.21097046413502107| 1.2658227848101267| 4.430379746835443| 0.42194092827004215|       4.352262775|3.4810872536286213|        340|              64.5|51.309843110264914|       70.0|         0.0|      0|        1|             0|       0|               0|             0|       0|            0|           0|    1|     1|    0|\n",
      "|   125|                0.0|               0.0|               0.0|               0.0|                 0.0|                0.0|               0.0|               0.0|88.88888888888889|   11.11111111111111|                0.0|                0.0|                 0.0|                 0.0|                0.0|               0.0|                 0.0|0.5803091944444445|               0.0|          9|               8.0|               0.0|       71.0|         0.0|      0|        0|             0|       0|               0|             0|       1|            0|           0|    0|     1|    1|\n",
      "|   124| 0.1450777202072539| 1.533678756476684|  2.44559585492228|0.8497409326424871|  0.1243523316062176|0.47668393782383417|3.6476683937823835|  1.22279792746114|84.53886010362694| 0.08290155440414508| 0.1243523316062176|0.41450777202072536|                 0.0|                 0.0| 0.8497409326424871|3.5440414507772022|                 0.0|10.042778698313493|  9.37087810126876|       2233|145.67857142857142|137.40587446912284|      131.0|         0.0|      0|        0|             0|       0|               0|             0|       1|            0|           0|    1|     0|    0|\n",
      "|    51|0.08123476848090982|1.1372867587327375|2.1121039805036554| 0.934199837530463| 0.04061738424045491|  0.487408610885459|3.0463038180341186| 0.974817221770918|85.74329813160033|                 0.0|0.04061738424045491|  0.487408610885459|                 0.0|                 0.0| 0.8529650690495532| 4.061738424045491|                 0.0|14.535440077777782|11.600663366034107|       1386|             211.1|168.14838024131478|       19.0|         0.0|      0|        0|             0|       0|               0|             0|       0|            0|           1|    1|     1|    1|\n",
      "|     7|                0.0|0.4975124378109453|2.4875621890547266|               0.0|  0.4975124378109453| 0.4975124378109453| 4.975124378109453|1.4925373134328357| 74.6268656716418|   7.960199004975125| 0.4975124378109453| 1.4925373134328357|                 0.0|                 0.0| 0.4975124378109453| 3.482587064676617|  0.9950248756218906|1.5092891706349205|1.7372572756564075|        143|21.428571428571427| 23.85970901510985|       73.0|         0.0|      0|        0|             0|       0|               0|             0|       0|            0|           1|    0|     1|    0|\n",
      "|    15|0.08779631255487269|1.3608428446005267|2.5899912203687445|1.2291483757682178| 0.08779631255487269|0.35118525021949076| 4.082528533801581|1.1852502194907815|84.02107111501317|0.043898156277436345|0.08779631255487269| 0.7023705004389815|                 0.0|                 0.0| 0.6145741878841089| 3.555750658472344|                 0.0| 9.470389004166666| 6.159367750898715|       1303|136.71428571428572| 88.69084470262945|       57.0|         0.0|      0|        0|             0|       0|               0|             0|       0|            0|           1|    1|     1|    0|\n",
      "|    54| 0.1455604075691412|0.9606986899563319| 2.096069868995633|1.1353711790393013|0.029112081513828242| 0.4949053857350801| 3.755458515283843|1.0480349344978166|82.70742358078603|  1.3682678311499272|0.08733624454148471| 0.4949053857350801|0.029112081513828242|0.029112081513828242| 0.8442503639010189| 4.745269286754003|0.029112081513828242|  5.64559459952381|6.7241639034102025|       1745| 81.17142857142858| 98.41104843350422|      111.0|         0.0|      0|        0|             0|       0|               0|             0|       0|            0|           1|    0|     0|    1|\n",
      "|    54| 0.1455604075691412|0.9606986899563319| 2.096069868995633|1.1353711790393013|0.029112081513828242| 0.4949053857350801| 3.755458515283843|1.0480349344978166|82.70742358078603|  1.3682678311499272|0.08733624454148471| 0.4949053857350801|0.029112081513828242|0.029112081513828242| 0.8442503639010189| 4.745269286754003|0.029112081513828242|  5.64559459952381|6.7241639034102025|       1745| 81.17142857142858| 98.41104843350422|      111.0|         0.0|      0|        0|             0|       0|               0|             0|       0|            0|           1|    1|     0|    1|\n",
      "|   155|0.19960079840319359| 1.097804391217565|2.3952095808383236|1.1976047904191618| 0.29940119760479045| 0.8982035928143712|2.9940119760479043|1.3972055888223553|81.83632734530939|  0.7984031936127743|                0.0|  0.499001996007984|                 0.0| 0.09980039920159679|0.29940119760479045| 5.788423153692615| 0.19960079840319359| 9.202744995370372| 6.528671599395435|        644|136.66666666666666| 96.74433661288224|       23.0|         0.0|      0|        0|             0|       0|               0|             0|       0|            0|           1|    0|     0|    0|\n",
      "|   155|0.19960079840319359| 1.097804391217565|2.3952095808383236|1.1976047904191618| 0.29940119760479045| 0.8982035928143712|2.9940119760479043|1.3972055888223553|81.83632734530939|  0.7984031936127743|                0.0|  0.499001996007984|                 0.0| 0.09980039920159679|0.29940119760479045| 5.788423153692615| 0.19960079840319359| 9.202744995370372| 6.528671599395435|        644|136.66666666666666| 96.74433661288224|       23.0|         0.0|      0|        0|             0|       0|               0|             0|       0|            0|           1|    1|     0|    0|\n",
      "|100014|                0.0| 1.948051948051948| 2.272727272727273| 0.974025974025974|                 0.0| 0.6493506493506493| 2.272727272727273| 0.974025974025974|83.44155844155844|  0.6493506493506493|                0.0| 0.3246753246753247|                 0.0|                 0.0|  0.974025974025974|  5.51948051948052|                 0.0| 3.134420003703704|1.7543652306205215|        234|42.833333333333336| 24.40013661163942|       86.0|         0.0|      0|        0|             0|       0|               0|             0|       0|            0|           1|    1|     1|    1|\n",
      "|   132| 0.1736111111111111|1.7795138888888888|1.6493055555555556|0.8246527777777778| 0.13020833333333331| 0.6944444444444444|3.6024305555555554|1.4756944444444444|83.68055555555556| 0.08680555555555555| 0.1736111111111111| 0.7378472222222222|                 0.0|0.043402777777777776| 0.7378472222222222| 4.166666666666666|0.043402777777777776| 8.387480969444443| 8.411844077944693|       1300|             120.5|119.66397397156199|       67.0|         0.0|      0|        0|             0|       0|               0|             0|       1|            0|           0|    0|     0|    0|\n",
      "|   132| 0.1736111111111111|1.7795138888888888|1.6493055555555556|0.8246527777777778| 0.13020833333333331| 0.6944444444444444|3.6024305555555554|1.4756944444444444|83.68055555555556| 0.08680555555555555| 0.1736111111111111| 0.7378472222222222|                 0.0|0.043402777777777776| 0.7378472222222222| 4.166666666666666|0.043402777777777776| 8.387480969444443| 8.411844077944693|       1300|             120.5|119.66397397156199|       67.0|         0.0|      0|        0|             0|       0|               0|             0|       1|            0|           0|    1|     0|    0|\n",
      "|   154|                0.0|2.5423728813559325| 0.847457627118644|               0.0|                 0.0|  0.847457627118644| 5.084745762711865| 1.694915254237288| 71.1864406779661|    8.47457627118644|                0.0|                0.0|                 0.0|                 0.0|                0.0| 9.322033898305085|                 0.0|1.9129651768518519|0.8567096079055881|         79|              28.0|13.892443989449804|       24.0|         0.0|      0|        0|             0|       0|               0|             0|       0|            0|           1|    0|     0|    0|\n",
      "|   101|0.09315323707498836|1.3507219375873312| 2.841173730787145|1.0246856078248718| 0.13972985561248255| 0.5589194224499302|3.4466697717745696|1.1178388448998604|83.69818351187703| 0.37261294829995345|0.09315323707498836|0.41918956683744757|                 0.0| 0.04657661853749418| 0.7452258965999069| 4.005589194224499| 0.04657661853749418|12.429555963055552|14.927890067408041|       1242|             179.7|216.24320156301386|       54.0|         0.0|      0|        0|             0|       0|               0|             1|       0|            0|           0|    0|     1|    1|\n",
      "|   101|0.09315323707498836|1.3507219375873312| 2.841173730787145|1.0246856078248718| 0.13972985561248255| 0.5589194224499302|3.4466697717745696|1.1178388448998604|83.69818351187703| 0.37261294829995345|0.09315323707498836|0.41918956683744757|                 0.0| 0.04657661853749418| 0.7452258965999069| 4.005589194224499| 0.04657661853749418|12.429555963055552|14.927890067408041|       1242|             179.7|216.24320156301386|       54.0|         0.0|      0|        0|             0|       0|               0|             1|       0|            0|           0|    1|     1|    1|\n",
      "|    11| 0.8254716981132075|0.7075471698113208| 2.358490566037736| 0.589622641509434|  0.1179245283018868| 0.3537735849056604| 4.363207547169811| 1.650943396226415|76.29716981132076|   4.599056603773585| 0.2358490566037736| 0.7075471698113208|  0.1179245283018868|  0.2358490566037736| 1.0613207547169812| 4.716981132075472|  1.0613207547169812|2.7720479694444453|2.7543830502181774|        535|           40.4375| 38.78826068112189|      124.0|         0.0|      0|        0|             0|       0|               0|             0|       0|            0|           1|    0|     0|    0|\n",
      "|    11| 0.8254716981132075|0.7075471698113208| 2.358490566037736| 0.589622641509434|  0.1179245283018868| 0.3537735849056604| 4.363207547169811| 1.650943396226415|76.29716981132076|   4.599056603773585| 0.2358490566037736| 0.7075471698113208|  0.1179245283018868|  0.2358490566037736| 1.0613207547169812| 4.716981132075472|  1.0613207547169812|2.7720479694444453|2.7543830502181774|        535|           40.4375| 38.78826068112189|      124.0|         0.0|      0|        0|             0|       0|               0|             0|       0|            0|           1|    1|     0|    0|\n",
      "+------+-------------------+------------------+------------------+------------------+--------------------+-------------------+------------------+------------------+-----------------+--------------------+-------------------+-------------------+--------------------+--------------------+-------------------+------------------+--------------------+------------------+------------------+-----------+------------------+------------------+-----------+------------+-------+---------+--------------+--------+----------------+--------------+--------+-------------+------------+-----+------+-----+\n",
      "only showing top 20 rows\n",
      "\n"
     ]
    }
   ],
   "source": [
    "raw_df = sc.read.csv('final_dataset.CSV', header = True)\n",
    "raw_df.show()"
   ]
  },
  {
   "cell_type": "code",
   "execution_count": 97,
   "metadata": {},
   "outputs": [],
   "source": [
    "# convert string column to numeric\n",
    "def convert_dtype(df,col_name,data_type):\n",
    "    \"\"\"\n",
    "        Converts String values to numeric\n",
    "        ARGS:\n",
    "            - df: Spark Dataframe\n",
    "    \"\"\"\n",
    "    df = df.select(col_name, df[col_name].cast(data_type))\n",
    "    return df"
   ]
  },
  {
   "cell_type": "code",
   "execution_count": 99,
   "metadata": {},
   "outputs": [
    {
     "name": "stdout",
     "output_type": "stream",
     "text": [
      "0 userId\n",
      "1 About\n",
      "2 Add_Friend\n",
      "3 Add_to_Playlist\n",
      "4 Downgrade\n",
      "5 Error\n",
      "6 Help\n",
      "7 Home\n",
      "8 Logout\n",
      "9 NextSong\n",
      "10 Roll_Advert\n",
      "11 Save_Settings\n",
      "12 Settings\n",
      "13 Submit_Downgrade\n",
      "14 Submit_Upgrade\n",
      "15 Thumbs_Down\n",
      "16 Thumbs_Up\n",
      "17 Upgrade\n",
      "18 meanHours\n",
      "19 stdevHours\n",
      "20 artistLiked\n",
      "21 meanSongs\n",
      "22 stdevSongs\n",
      "23 meanSession\n",
      "24 stdevSession\n",
      "25 OS_iPad\n",
      "26 OS_iPhone\n",
      "27 OS_Windows_8.1\n",
      "28 OS_Linux\n",
      "29 OS_Windows_Vista\n",
      "30 OS_Windows_8.0\n",
      "31 OS_MacOS\n",
      "32 OS_Windows_XP\n",
      "33 OS_Windows_7\n",
      "34 level\n",
      "35 gender\n",
      "36 label\n"
     ]
    }
   ],
   "source": [
    "for idx,col in enumerate(raw_df.columns):\n",
    "    print(idx,col)"
   ]
  },
  {
   "cell_type": "code",
   "execution_count": 100,
   "metadata": {},
   "outputs": [],
   "source": [
    "final_df = raw_df.withColumn('userId',raw_df.userId.cast(IntegerType()))\n",
    "final_df = final_df.withColumn('label',raw_df.label.cast(IntegerType()))\n",
    "final_df = final_df.withColumn('level',raw_df.level.cast(IntegerType()))\n",
    "final_df = final_df.withColumn('gender',raw_df.gender.cast(IntegerType()))"
   ]
  },
  {
   "cell_type": "code",
   "execution_count": 104,
   "metadata": {},
   "outputs": [],
   "source": [
    "final_df = rename_columns(final_df)"
   ]
  },
  {
   "cell_type": "code",
   "execution_count": 105,
   "metadata": {},
   "outputs": [
    {
     "data": {
      "text/plain": [
       "['OS_iPad',\n",
       " 'OS_iPhone',\n",
       " 'OS_Windows_81',\n",
       " 'OS_Linux',\n",
       " 'OS_Windows_Vista',\n",
       " 'OS_Windows_80',\n",
       " 'OS_MacOS',\n",
       " 'OS_Windows_XP',\n",
       " 'OS_Windows_7']"
      ]
     },
     "execution_count": 105,
     "metadata": {},
     "output_type": "execute_result"
    }
   ],
   "source": [
    "final_df.columns[25:34]"
   ]
  },
  {
   "cell_type": "code",
   "execution_count": 106,
   "metadata": {},
   "outputs": [],
   "source": [
    "# convert data type to Integer\n",
    "for col_name in final_df.columns[25:34]:\n",
    "    final_df = final_df.withColumn(col_name,final_df[col_name].cast(IntegerType()))"
   ]
  },
  {
   "cell_type": "code",
   "execution_count": 107,
   "metadata": {},
   "outputs": [],
   "source": [
    "# convert data type to Float\n",
    "for col_name in final_df.columns[1:25]:\n",
    "    final_df = final_df.withColumn(col_name,final_df[col_name].cast(FloatType()))"
   ]
  },
  {
   "cell_type": "code",
   "execution_count": 108,
   "metadata": {},
   "outputs": [
    {
     "name": "stdout",
     "output_type": "stream",
     "text": [
      "root\n",
      " |-- userId: integer (nullable = true)\n",
      " |-- About: float (nullable = true)\n",
      " |-- Add_Friend: float (nullable = true)\n",
      " |-- Add_to_Playlist: float (nullable = true)\n",
      " |-- Downgrade: float (nullable = true)\n",
      " |-- Error: float (nullable = true)\n",
      " |-- Help: float (nullable = true)\n",
      " |-- Home: float (nullable = true)\n",
      " |-- Logout: float (nullable = true)\n",
      " |-- NextSong: float (nullable = true)\n",
      " |-- Roll_Advert: float (nullable = true)\n",
      " |-- Save_Settings: float (nullable = true)\n",
      " |-- Settings: float (nullable = true)\n",
      " |-- Submit_Downgrade: float (nullable = true)\n",
      " |-- Submit_Upgrade: float (nullable = true)\n",
      " |-- Thumbs_Down: float (nullable = true)\n",
      " |-- Thumbs_Up: float (nullable = true)\n",
      " |-- Upgrade: float (nullable = true)\n",
      " |-- meanHours: float (nullable = true)\n",
      " |-- stdevHours: float (nullable = true)\n",
      " |-- artistLiked: float (nullable = true)\n",
      " |-- meanSongs: float (nullable = true)\n",
      " |-- stdevSongs: float (nullable = true)\n",
      " |-- meanSession: float (nullable = true)\n",
      " |-- stdevSession: float (nullable = true)\n",
      " |-- OS_iPad: integer (nullable = true)\n",
      " |-- OS_iPhone: integer (nullable = true)\n",
      " |-- OS_Windows_81: integer (nullable = true)\n",
      " |-- OS_Linux: integer (nullable = true)\n",
      " |-- OS_Windows_Vista: integer (nullable = true)\n",
      " |-- OS_Windows_80: integer (nullable = true)\n",
      " |-- OS_MacOS: integer (nullable = true)\n",
      " |-- OS_Windows_XP: integer (nullable = true)\n",
      " |-- OS_Windows_7: integer (nullable = true)\n",
      " |-- level: integer (nullable = true)\n",
      " |-- gender: integer (nullable = true)\n",
      " |-- label: integer (nullable = true)\n",
      "\n"
     ]
    }
   ],
   "source": [
    "final_df.printSchema()"
   ]
  },
  {
   "cell_type": "code",
   "execution_count": 110,
   "metadata": {},
   "outputs": [],
   "source": [
    "# Remove  nulls from anywhere replacing them by zeros\n",
    "final_df = final_df.na.fill(0)"
   ]
  },
  {
   "cell_type": "code",
   "execution_count": 111,
   "metadata": {},
   "outputs": [],
   "source": [
    "# Get features labels \n",
    "features_labels = final_df.columns[1:36]"
   ]
  },
  {
   "cell_type": "code",
   "execution_count": 112,
   "metadata": {},
   "outputs": [],
   "source": [
    "features_vector = VectorAssembler(inputCols=final_df.columns[1:36], outputCol='features')"
   ]
  },
  {
   "cell_type": "code",
   "execution_count": 114,
   "metadata": {},
   "outputs": [],
   "source": [
    "input_data = features_vector.transform(final_df)"
   ]
  },
  {
   "cell_type": "code",
   "execution_count": 115,
   "metadata": {},
   "outputs": [],
   "source": [
    "# Feature Scaling\n",
    "features_scaler = StandardScaler(withMean=True, withStd=True, inputCol='features', outputCol='scaled_features')\n",
    "features_scaler_fit = features_scaler.fit(input_data)\n",
    "scaled_inputs = features_scaler_fit.transform(input_data)"
   ]
  },
  {
   "cell_type": "code",
   "execution_count": 117,
   "metadata": {},
   "outputs": [],
   "source": [
    "# Select features and target\n",
    "train_df = scaled_inputs.select(scaled_inputs.label, scaled_inputs.scaled_features.alias('features'))"
   ]
  },
  {
   "cell_type": "code",
   "execution_count": 118,
   "metadata": {},
   "outputs": [],
   "source": [
    "# split dataset for training and validation\n",
    "train, test = train_df.randomSplit([0.80, 0.20], seed=123)"
   ]
  },
  {
   "cell_type": "code",
   "execution_count": 119,
   "metadata": {},
   "outputs": [],
   "source": [
    "#cache training data\n",
    "train = train.cache()"
   ]
  },
  {
   "cell_type": "markdown",
   "metadata": {},
   "source": [
    "### Train Model"
   ]
  },
  {
   "cell_type": "code",
   "execution_count": 178,
   "metadata": {},
   "outputs": [],
   "source": [
    "def model_evalution(pred):\n",
    "    \"\"\"\n",
    "        Calculates Presision, Recall and f1 scrore\n",
    "        ARGS:\n",
    "            - pred: Prediction of the model\n",
    "    \"\"\"\n",
    "    tp = pred.filter(\"label = 1 and prediction = 1\").count()\n",
    "    fp = pred.filter(\"label = 0 and prediction = 1\").count()\n",
    "    fn = pred.filter(\"label = 1 and prediction = 0\").count()\n",
    "    precision = tp / (tp + fp) \n",
    "    recall = tp / (tp + fn)\n",
    "    f1 = 2*precision*recall / (precision+recall)\n",
    "    print('precision: ',precision)\n",
    "    print('recall: ',recall)\n",
    "    print('f1: ',f1)"
   ]
  },
  {
   "cell_type": "code",
   "execution_count": 179,
   "metadata": {},
   "outputs": [],
   "source": [
    "#Applying Linear Regression\n",
    "lr =  LogisticRegression()\n",
    "paramGrid = ParamGridBuilder() \\\n",
    "    .addGrid(lr.elasticNetParam,[0.0, 0.1, 0.5, 1.0]) \\\n",
    "    .addGrid(lr.regParam,[0.0, 0.05, 0.1]) \\\n",
    "    .build()\n",
    "\n",
    "crossval = CrossValidator(estimator=lr,\n",
    "                          estimatorParamMaps=paramGrid,\n",
    "                          evaluator=MulticlassClassificationEvaluator(),\n",
    "                          numFolds=3)\n",
    "cvModel_lr = crossval.fit(train)"
   ]
  },
  {
   "cell_type": "code",
   "execution_count": 180,
   "metadata": {},
   "outputs": [],
   "source": [
    "#saving th model\n",
    "cvModel_lr.write().overwrite().save('cvModel_lr.model')"
   ]
  },
  {
   "cell_type": "code",
   "execution_count": 181,
   "metadata": {},
   "outputs": [
    {
     "data": {
      "text/plain": [
       "[0.7945168853240032,\n",
       " 0.7972173475675657,\n",
       " 0.7436124380362086,\n",
       " 0.7945168853240032,\n",
       " 0.7739326962088952,\n",
       " 0.7423588935060683,\n",
       " 0.7945168853240032,\n",
       " 0.7423588935060683,\n",
       " 0.714167971338579,\n",
       " 0.7945168853240032,\n",
       " 0.7323905727198786,\n",
       " 0.6899594528450256]"
      ]
     },
     "execution_count": 181,
     "metadata": {},
     "output_type": "execute_result"
    }
   ],
   "source": [
    "# model stats\n",
    "cvModel_lr.avgMetrics"
   ]
  },
  {
   "cell_type": "code",
   "execution_count": 183,
   "metadata": {},
   "outputs": [
    {
     "name": "stdout",
     "output_type": "stream",
     "text": [
      "Linear Regression Evaluation Metrics\n",
      "precision:  0.3333333333333333\n",
      "recall:  0.13043478260869565\n",
      "f1:  0.18750000000000003\n"
     ]
    }
   ],
   "source": [
    "lr_pred = cvModel_lr.transform(test)\n",
    "print('Linear Regression Evaluation Metrics')\n",
    "model_evalution(lr_pred)"
   ]
  },
  {
   "cell_type": "code",
   "execution_count": 174,
   "metadata": {},
   "outputs": [],
   "source": [
    "# Applying Decision Tree\n",
    "dt = DecisionTreeClassifier()\n",
    "paramGrid = ParamGridBuilder() \\\n",
    "    .addGrid(dt.impurity,['entropy', 'gini']) \\\n",
    "    .addGrid(dt.maxDepth,[2, 3, 4, 5, 6, 7, 8]) \\\n",
    "    .build()\n",
    "\n",
    "crossval_dt = CrossValidator(estimator=dt,\n",
    "                          estimatorParamMaps=paramGrid,\n",
    "                          evaluator=MulticlassClassificationEvaluator(),\n",
    "                          numFolds=3)\n",
    "\n",
    "cvModel_dt = crossval_dt.fit(train)"
   ]
  },
  {
   "cell_type": "code",
   "execution_count": 175,
   "metadata": {},
   "outputs": [],
   "source": [
    "#saving model\n",
    "cvModel_dt.write().overwrite().save('cvModel_dt.model')"
   ]
  },
  {
   "cell_type": "code",
   "execution_count": 176,
   "metadata": {},
   "outputs": [
    {
     "data": {
      "text/plain": [
       "[0.7914407155124774,\n",
       " 0.7974319508805574,\n",
       " 0.7864836895755176,\n",
       " 0.7885795273782921,\n",
       " 0.792533167076352,\n",
       " 0.8030149991063495,\n",
       " 0.8030149991063495,\n",
       " 0.7886072751642366,\n",
       " 0.811422286660296,\n",
       " 0.8312457828966153,\n",
       " 0.8251706613238354,\n",
       " 0.8323074963172221,\n",
       " 0.8354742251025407,\n",
       " 0.8354742251025407]"
      ]
     },
     "execution_count": 176,
     "metadata": {},
     "output_type": "execute_result"
    }
   ],
   "source": [
    "#model stats\n",
    "cvModel_dt.avgMetrics"
   ]
  },
  {
   "cell_type": "code",
   "execution_count": 185,
   "metadata": {},
   "outputs": [
    {
     "name": "stdout",
     "output_type": "stream",
     "text": [
      "Decision Tree Evaluation Metrics\n",
      "precision:  0.7307692307692307\n",
      "recall:  0.8260869565217391\n",
      "f1:  0.7755102040816326\n"
     ]
    }
   ],
   "source": [
    "dt_pred = cvModel_dt.transform(test)\n",
    "print('Decision Tree Evaluation Metrics')\n",
    "model_evalution(dt_pred)"
   ]
  },
  {
   "cell_type": "code",
   "execution_count": 186,
   "metadata": {},
   "outputs": [],
   "source": [
    "# Applying Gradient Boosted Tree Model\n",
    "gbt = GBTClassifier()\n",
    "\n",
    "paramGrid = ParamGridBuilder() \\\n",
    "    .addGrid(gbt.maxIter,[3, 10, 20]) \\\n",
    "    .addGrid(gbt.maxDepth,[2, 4, 6, 8]) \\\n",
    "    .build()\n",
    "\n",
    "crossval_gbt = CrossValidator(estimator=gbt,\n",
    "                          estimatorParamMaps=paramGrid,\n",
    "                          evaluator=MulticlassClassificationEvaluator(),\n",
    "                          numFolds=3)\n",
    "\n",
    "cvModel_gbt = crossval_gbt.fit(train)"
   ]
  },
  {
   "cell_type": "code",
   "execution_count": 187,
   "metadata": {},
   "outputs": [],
   "source": [
    "cvModel_gbt.write().overwrite().save('cvModel_gbt.model')"
   ]
  },
  {
   "cell_type": "code",
   "execution_count": 188,
   "metadata": {},
   "outputs": [
    {
     "data": {
      "text/plain": [
       "[0.8083874422208097,\n",
       " 0.8430605890008317,\n",
       " 0.8354742251025407,\n",
       " 0.8395222061507985,\n",
       " 0.8103938172924954,\n",
       " 0.8473385916722309,\n",
       " 0.8434609526880679,\n",
       " 0.8434609526880679,\n",
       " 0.8300147399321305,\n",
       " 0.8588156528071107,\n",
       " 0.8434609526880679,\n",
       " 0.8434609526880679]"
      ]
     },
     "execution_count": 188,
     "metadata": {},
     "output_type": "execute_result"
    }
   ],
   "source": [
    "cvModel_gbt.avgMetrics"
   ]
  },
  {
   "cell_type": "code",
   "execution_count": 190,
   "metadata": {},
   "outputs": [
    {
     "name": "stdout",
     "output_type": "stream",
     "text": [
      "gradient boosted Tree Evaluation Metrics\n",
      "precision:  0.8333333333333334\n",
      "recall:  0.8695652173913043\n",
      "f1:  0.851063829787234\n"
     ]
    }
   ],
   "source": [
    "gbt_pred = cvModel_gbt.transform(test)\n",
    "print('gradient boosted Tree Evaluation Metrics')\n",
    "model_evalution(gbt_pred)"
   ]
  },
  {
   "cell_type": "code",
   "execution_count": 134,
   "metadata": {},
   "outputs": [
    {
     "name": "stdout",
     "output_type": "stream",
     "text": [
      "+-----+-----+\n",
      "|label|count|\n",
      "+-----+-----+\n",
      "|    1|   59|\n",
      "|    0|   65|\n",
      "+-----+-----+\n",
      "\n"
     ]
    }
   ],
   "source": [
    "stratified_train = train.sampleBy('label', fractions={0: 99/349, 1: 1.0}).cache()\n",
    "stratified_train.groupby(\"label\").count().show()"
   ]
  },
  {
   "cell_type": "code",
   "execution_count": 135,
   "metadata": {},
   "outputs": [
    {
     "data": {
      "text/plain": [
       "[0.7388639287033083,\n",
       " 0.6628613532484158,\n",
       " 0.6166155975418417,\n",
       " 0.7388639287033083,\n",
       " 0.6472404690379944,\n",
       " 0.624460550545932,\n",
       " 0.7388639287033083,\n",
       " 0.6470936931316109,\n",
       " 0.6855168422246106,\n",
       " 0.7388639287033083,\n",
       " 0.6792508300089416,\n",
       " 0.5678843986019666]"
      ]
     },
     "execution_count": 135,
     "metadata": {},
     "output_type": "execute_result"
    }
   ],
   "source": [
    "lrs =  LogisticRegression()\n",
    "paramGrid = ParamGridBuilder() \\\n",
    "    .addGrid(lrs.elasticNetParam,[0.0, 0.1, 0.5, 1.0]) \\\n",
    "    .addGrid(lrs.regParam,[0.0, 0.05, 0.1]) \\\n",
    "    .build()\n",
    "\n",
    "crossval_lrs = CrossValidator(estimator=lrs,\n",
    "                          estimatorParamMaps=paramGrid,\n",
    "                          evaluator=MulticlassClassificationEvaluator(),\n",
    "                          numFolds=3)\n",
    "cvModel_lrs = crossval_lrs.fit(stratified_train)\n",
    "cvModel_lrs.avgMetrics"
   ]
  },
  {
   "cell_type": "code",
   "execution_count": 136,
   "metadata": {},
   "outputs": [],
   "source": [
    "cvModel_lrs.save('cvModel_lrs.model')"
   ]
  },
  {
   "cell_type": "code",
   "execution_count": 193,
   "metadata": {},
   "outputs": [
    {
     "name": "stdout",
     "output_type": "stream",
     "text": [
      "Linear Regression Evaluation Metrics\n",
      "precision:  0.3617021276595745\n",
      "recall:  0.7391304347826086\n",
      "f1:  0.4857142857142858\n"
     ]
    }
   ],
   "source": [
    "lr_pred_us = cvModel_lrs.transform(test)\n",
    "print('Linear Regression Evaluation Metrics')\n",
    "model_evalution(lr_pred_us)"
   ]
  },
  {
   "cell_type": "code",
   "execution_count": 137,
   "metadata": {},
   "outputs": [
    {
     "data": {
      "text/plain": [
       "[0.6105166255637875,\n",
       " 0.6641700731863994,\n",
       " 0.6860673175413365,\n",
       " 0.7185828860620957,\n",
       " 0.7354165169925115,\n",
       " 0.743270028985709,\n",
       " 0.7359105881387566,\n",
       " 0.6333687459768835,\n",
       " 0.688103192219281,\n",
       " 0.6529505891289958,\n",
       " 0.6716616559224139,\n",
       " 0.6716616559224139,\n",
       " 0.6716616559224139,\n",
       " 0.6716616559224139]"
      ]
     },
     "execution_count": 137,
     "metadata": {},
     "output_type": "execute_result"
    }
   ],
   "source": [
    "dts = DecisionTreeClassifier()\n",
    "paramGrid = ParamGridBuilder() \\\n",
    "    .addGrid(dts.impurity,['entropy', 'gini']) \\\n",
    "    .addGrid(dts.maxDepth,[2, 3, 4, 5, 6, 7, 8]) \\\n",
    "    .build()\n",
    "crossval_dts = CrossValidator(estimator=dts,\n",
    "                          estimatorParamMaps=paramGrid,\n",
    "                          evaluator=MulticlassClassificationEvaluator(),\n",
    "                          numFolds=3)\n",
    "cvModel_dts = crossval_dts.fit(stratified_train)\n",
    "cvModel_dts.avgMetrics"
   ]
  },
  {
   "cell_type": "code",
   "execution_count": 138,
   "metadata": {},
   "outputs": [],
   "source": [
    "cvModel_dts.save('cvModel_dts.model')"
   ]
  },
  {
   "cell_type": "code",
   "execution_count": 196,
   "metadata": {},
   "outputs": [
    {
     "name": "stdout",
     "output_type": "stream",
     "text": [
      "Decision Tree Evaluation Metrics\n",
      "precision:  0.5588235294117647\n",
      "recall:  0.8260869565217391\n",
      "f1:  0.6666666666666667\n"
     ]
    }
   ],
   "source": [
    "dt_pred_us = cvModel_dts.transform(test)\n",
    "print('Decision Tree Evaluation Metrics')\n",
    "model_evalution(dt_pred_us)"
   ]
  },
  {
   "cell_type": "code",
   "execution_count": 149,
   "metadata": {},
   "outputs": [
    {
     "data": {
      "text/plain": [
       "[0.6343172554619784,\n",
       " 0.6611360810896735,\n",
       " 0.6716616559224139,\n",
       " 0.6716616559224139,\n",
       " 0.6209740187205723,\n",
       " 0.68009253754613,\n",
       " 0.6716616559224139,\n",
       " 0.6716616559224139,\n",
       " 0.7089738649058754,\n",
       " 0.6857266617876714,\n",
       " 0.6716616559224139,\n",
       " 0.6716616559224139]"
      ]
     },
     "execution_count": 149,
     "metadata": {},
     "output_type": "execute_result"
    }
   ],
   "source": [
    "gbts = GBTClassifier()\n",
    "paramGrid = ParamGridBuilder() \\\n",
    "    .addGrid(gbts.maxIter,[3, 7, 15]) \\\n",
    "    .addGrid(gbts.maxDepth,[2, 4, 6, 8]) \\\n",
    "    .build()\n",
    "crossval_gbts = CrossValidator(estimator=gbts,\n",
    "                          estimatorParamMaps=paramGrid,\n",
    "                          evaluator=MulticlassClassificationEvaluator(),\n",
    "                          numFolds=3)\n",
    "cvModel_gbts = crossval_gbts.fit(stratified_train)\n",
    "cvModel_gbts.avgMetrics"
   ]
  },
  {
   "cell_type": "code",
   "execution_count": 151,
   "metadata": {},
   "outputs": [],
   "source": [
    "cvModel_gbts.write().overwrite().save('cvModel_gbts.model')"
   ]
  },
  {
   "cell_type": "code",
   "execution_count": 195,
   "metadata": {},
   "outputs": [
    {
     "name": "stdout",
     "output_type": "stream",
     "text": [
      "Gradient Boosted Tree Evaluation Metrics\n",
      "precision:  0.6\n",
      "recall:  0.782608695652174\n",
      "f1:  0.6792452830188679\n"
     ]
    }
   ],
   "source": [
    "gbt_pred_us = cvModel_gbts.transform(test)\n",
    "print('Gradient Boosted Tree Evaluation Metrics')\n",
    "model_evalution(gbt_pred_us)"
   ]
  },
  {
   "cell_type": "markdown",
   "metadata": {},
   "source": [
    "## Conclusion"
   ]
  },
  {
   "cell_type": "markdown",
   "metadata": {},
   "source": [
    "We can make a statement by seeing the model evaluation metrics the `Gradient Boosted Tree` has the best performance with the F1 score of 85 approx.\n",
    "Since the dataset was highly unbalanced we tried evaluating the model with under sampled dataset. but there wasn't enough improvemrnt in the model performance."
   ]
  },
  {
   "cell_type": "markdown",
   "metadata": {},
   "source": [
    "# Final Steps\n",
    "Clean up your code, adding comments and renaming variables to make the code easier to read and maintain. Refer to the Spark Project Overview page and Data Scientist Capstone Project Rubric to make sure you are including all components of the capstone project and meet all expectations. Remember, this includes thorough documentation in a README file in a Github repository, as well as a web app or blog post."
   ]
  },
  {
   "cell_type": "code",
   "execution_count": 200,
   "metadata": {},
   "outputs": [
    {
     "ename": "SyntaxError",
     "evalue": "invalid syntax (<ipython-input-200-7db48eab9a31>, line 1)",
     "output_type": "error",
     "traceback": [
      "\u001b[1;36m  File \u001b[1;32m\"<ipython-input-200-7db48eab9a31>\"\u001b[1;36m, line \u001b[1;32m1\u001b[0m\n\u001b[1;33m    jupyter nbconvert --execute --to html Sparkify.ipynb\u001b[0m\n\u001b[1;37m                    ^\u001b[0m\n\u001b[1;31mSyntaxError\u001b[0m\u001b[1;31m:\u001b[0m invalid syntax\n"
     ]
    }
   ],
   "source": [
    "jupyter nbconvert --execute --to html Sparkify.ipynb"
   ]
  },
  {
   "cell_type": "code",
   "execution_count": null,
   "metadata": {},
   "outputs": [],
   "source": []
  }
 ],
 "metadata": {
  "kernelspec": {
   "display_name": "Python 3",
   "language": "python",
   "name": "python3"
  },
  "language_info": {
   "codemirror_mode": {
    "name": "ipython",
    "version": 3
   },
   "file_extension": ".py",
   "mimetype": "text/x-python",
   "name": "python",
   "nbconvert_exporter": "python",
   "pygments_lexer": "ipython3",
   "version": "3.7.1"
  }
 },
 "nbformat": 4,
 "nbformat_minor": 4
}
