{
 "cells": [
  {
   "cell_type": "markdown",
   "metadata": {},
   "source": [
    "# Sparkify Project Workspace\n",
    "This workspace contains a tiny subset (128MB) of the full dataset available (12GB). Feel free to use this workspace to build your project, or to explore a smaller subset with Spark before deploying your cluster on the cloud. Instructions for setting up your Spark cluster is included in the last lesson of the Extracurricular Spark Course content.\n",
    "\n",
    "You can follow the steps below to guide your data analysis and model building portion of this project."
   ]
  },
  {
   "cell_type": "markdown",
   "metadata": {},
   "source": [
    "# Bussiness Understanding\n",
    "\n",
    "The dataset seems to belong to some digial music streaming Platform. Whenever a user interacts with the music streaming service the logs get generated like timestamp and the ahe activity page(i.e logOut, like, logIn etc). Tthere are basically types of user 1. free -tier and 2. subscription based. so based on the activity of the user we need to figure out which user is likely to churn out. So that, some kind of discounts can be rolled out to that specific users."
   ]
  },
  {
   "cell_type": "markdown",
   "metadata": {},
   "source": [
    "# Data Understanding\n",
    "\n",
    "the datat is contained in a file `mini_sparkify_event_data.json` \n",
    "Data description :\n",
    "* artist: string name of artist\n",
    "* auth : String authencation levels\n",
    "* firstName: string first name of user\n",
    "* gender: string Gender of user\n",
    "* itemInSession: long log count in the session\n",
    "* lastName: string last name of the user\n",
    "* length: double length of the song\n",
    "* level: string type of subscription\n",
    "* location: string location of user\n",
    "* method: string tupe of request\n",
    "* page: string type of interaction\n",
    "* registration: long registration timestamp\n",
    "* sessionId: long session id of the user\n",
    "* song: string name of song\n",
    "* status: long http status code\n",
    "* ts: long timestamp\n",
    "* userAgent: string agent used by user for straeming service\n",
    "* userId: string inique identifier of  the user\n"
   ]
  },
  {
   "cell_type": "code",
   "execution_count": 3,
   "metadata": {},
   "outputs": [],
   "source": [
    "# import libraries\n",
    "from pyspark.sql import SparkSession,Window\n",
    "from pyspark.sql.functions import avg, col, concat, desc, explode, lit, min, max, split, udf, count, when, isnull, collect_list,dayofmonth\n",
    "from pyspark.sql.types import *\n",
    "from pyspark.ml.feature import VectorAssembler, StandardScaler\n",
    "from pyspark.storagelevel import StorageLevel\n",
    "from pyspark.sql.functions import *\n",
    "from pyspark.ml.classification import LogisticRegression, GBTClassifier\n",
    "from pyspark.ml.evaluation import BinaryClassificationEvaluator\n",
    "from pyspark.ml.tuning import CrossValidator, ParamGridBuilder\n",
    "from pyspark.sql import functions as f\n",
    "import seaborn as sns\n",
    "import matplotlib.pyplot as plt\n",
    "from datetime import datetime\n",
    "%matplotlib inline"
   ]
  },
  {
   "cell_type": "code",
   "execution_count": 4,
   "metadata": {},
   "outputs": [
    {
     "name": "stderr",
     "output_type": "stream",
     "text": [
      "C:\\Users\\PRAVEEN KUMAR\\Anaconda3\\envs\\pyspark_env\\lib\\site-packages\\ipykernel_launcher.py:5: FutureWarning: Passing a negative integer is deprecated in version 1.0 and will not be supported in future version. Instead, use None to not limit the column width.\n",
      "  \"\"\"\n"
     ]
    }
   ],
   "source": [
    "import pandas as pd\n",
    "%matplotlib inline\n",
    "pd.set_option('display.max_columns', None)  \n",
    "pd.set_option('display.expand_frame_repr', False)\n",
    "pd.set_option('max_colwidth', -1)"
   ]
  },
  {
   "cell_type": "code",
   "execution_count": 5,
   "metadata": {},
   "outputs": [],
   "source": [
    "# create a Spark session\n",
    "sc =  SparkSession \\\n",
    "    .builder \\\n",
    "    .appName(\"Sparkify\") \\\n",
    "    .getOrCreate()"
   ]
  },
  {
   "cell_type": "markdown",
   "metadata": {},
   "source": [
    "# Load and Clean Dataset\n",
    "In this workspace, the mini-dataset file is `mini_sparkify_event_data.json`. Load and clean the dataset, checking for invalid or missing data - for example, records without userids or sessionids. "
   ]
  },
  {
   "cell_type": "code",
   "execution_count": 6,
   "metadata": {},
   "outputs": [
    {
     "name": "stdout",
     "output_type": "stream",
     "text": [
      "root\n",
      " |-- artist: string (nullable = true)\n",
      " |-- auth: string (nullable = true)\n",
      " |-- firstName: string (nullable = true)\n",
      " |-- gender: string (nullable = true)\n",
      " |-- itemInSession: long (nullable = true)\n",
      " |-- lastName: string (nullable = true)\n",
      " |-- length: double (nullable = true)\n",
      " |-- level: string (nullable = true)\n",
      " |-- location: string (nullable = true)\n",
      " |-- method: string (nullable = true)\n",
      " |-- page: string (nullable = true)\n",
      " |-- registration: long (nullable = true)\n",
      " |-- sessionId: long (nullable = true)\n",
      " |-- song: string (nullable = true)\n",
      " |-- status: long (nullable = true)\n",
      " |-- ts: long (nullable = true)\n",
      " |-- userAgent: string (nullable = true)\n",
      " |-- userId: string (nullable = true)\n",
      "\n"
     ]
    }
   ],
   "source": [
    "# Read dataset\n",
    "filename = 'mini_sparkify_event_data.json'\n",
    "df = sc.read.json(filename)\n",
    "df.printSchema()"
   ]
  },
  {
   "cell_type": "code",
   "execution_count": 7,
   "metadata": {},
   "outputs": [
    {
     "data": {
      "text/html": [
       "<div>\n",
       "<style scoped>\n",
       "    .dataframe tbody tr th:only-of-type {\n",
       "        vertical-align: middle;\n",
       "    }\n",
       "\n",
       "    .dataframe tbody tr th {\n",
       "        vertical-align: top;\n",
       "    }\n",
       "\n",
       "    .dataframe thead th {\n",
       "        text-align: right;\n",
       "    }\n",
       "</style>\n",
       "<table border=\"1\" class=\"dataframe\">\n",
       "  <thead>\n",
       "    <tr style=\"text-align: right;\">\n",
       "      <th></th>\n",
       "      <th>artist</th>\n",
       "      <th>auth</th>\n",
       "      <th>firstName</th>\n",
       "      <th>gender</th>\n",
       "      <th>itemInSession</th>\n",
       "      <th>lastName</th>\n",
       "      <th>length</th>\n",
       "      <th>level</th>\n",
       "      <th>location</th>\n",
       "      <th>method</th>\n",
       "      <th>page</th>\n",
       "      <th>registration</th>\n",
       "      <th>sessionId</th>\n",
       "      <th>song</th>\n",
       "      <th>status</th>\n",
       "      <th>ts</th>\n",
       "      <th>userAgent</th>\n",
       "      <th>userId</th>\n",
       "    </tr>\n",
       "  </thead>\n",
       "  <tbody>\n",
       "    <tr>\n",
       "      <th>0</th>\n",
       "      <td>Martha Tilston</td>\n",
       "      <td>Logged In</td>\n",
       "      <td>Colin</td>\n",
       "      <td>M</td>\n",
       "      <td>50</td>\n",
       "      <td>Freeman</td>\n",
       "      <td>277.89016</td>\n",
       "      <td>paid</td>\n",
       "      <td>Bakersfield, CA</td>\n",
       "      <td>PUT</td>\n",
       "      <td>NextSong</td>\n",
       "      <td>1.538173e+12</td>\n",
       "      <td>29</td>\n",
       "      <td>Rockpools</td>\n",
       "      <td>200</td>\n",
       "      <td>1538352117000</td>\n",
       "      <td>Mozilla/5.0 (Windows NT 6.1; WOW64; rv:31.0) Gecko/20100101 Firefox/31.0</td>\n",
       "      <td>30</td>\n",
       "    </tr>\n",
       "    <tr>\n",
       "      <th>1</th>\n",
       "      <td>Five Iron Frenzy</td>\n",
       "      <td>Logged In</td>\n",
       "      <td>Micah</td>\n",
       "      <td>M</td>\n",
       "      <td>79</td>\n",
       "      <td>Long</td>\n",
       "      <td>236.09424</td>\n",
       "      <td>free</td>\n",
       "      <td>Boston-Cambridge-Newton, MA-NH</td>\n",
       "      <td>PUT</td>\n",
       "      <td>NextSong</td>\n",
       "      <td>1.538332e+12</td>\n",
       "      <td>8</td>\n",
       "      <td>Canada</td>\n",
       "      <td>200</td>\n",
       "      <td>1538352180000</td>\n",
       "      <td>\"Mozilla/5.0 (Windows NT 6.1; WOW64) AppleWebKit/537.36 (KHTML, like Gecko) Chrome/37.0.2062.103 Safari/537.36\"</td>\n",
       "      <td>9</td>\n",
       "    </tr>\n",
       "    <tr>\n",
       "      <th>2</th>\n",
       "      <td>Adam Lambert</td>\n",
       "      <td>Logged In</td>\n",
       "      <td>Colin</td>\n",
       "      <td>M</td>\n",
       "      <td>51</td>\n",
       "      <td>Freeman</td>\n",
       "      <td>282.82730</td>\n",
       "      <td>paid</td>\n",
       "      <td>Bakersfield, CA</td>\n",
       "      <td>PUT</td>\n",
       "      <td>NextSong</td>\n",
       "      <td>1.538173e+12</td>\n",
       "      <td>29</td>\n",
       "      <td>Time For Miracles</td>\n",
       "      <td>200</td>\n",
       "      <td>1538352394000</td>\n",
       "      <td>Mozilla/5.0 (Windows NT 6.1; WOW64; rv:31.0) Gecko/20100101 Firefox/31.0</td>\n",
       "      <td>30</td>\n",
       "    </tr>\n",
       "    <tr>\n",
       "      <th>3</th>\n",
       "      <td>Enigma</td>\n",
       "      <td>Logged In</td>\n",
       "      <td>Micah</td>\n",
       "      <td>M</td>\n",
       "      <td>80</td>\n",
       "      <td>Long</td>\n",
       "      <td>262.71302</td>\n",
       "      <td>free</td>\n",
       "      <td>Boston-Cambridge-Newton, MA-NH</td>\n",
       "      <td>PUT</td>\n",
       "      <td>NextSong</td>\n",
       "      <td>1.538332e+12</td>\n",
       "      <td>8</td>\n",
       "      <td>Knocking On Forbidden Doors</td>\n",
       "      <td>200</td>\n",
       "      <td>1538352416000</td>\n",
       "      <td>\"Mozilla/5.0 (Windows NT 6.1; WOW64) AppleWebKit/537.36 (KHTML, like Gecko) Chrome/37.0.2062.103 Safari/537.36\"</td>\n",
       "      <td>9</td>\n",
       "    </tr>\n",
       "    <tr>\n",
       "      <th>4</th>\n",
       "      <td>Daft Punk</td>\n",
       "      <td>Logged In</td>\n",
       "      <td>Colin</td>\n",
       "      <td>M</td>\n",
       "      <td>52</td>\n",
       "      <td>Freeman</td>\n",
       "      <td>223.60771</td>\n",
       "      <td>paid</td>\n",
       "      <td>Bakersfield, CA</td>\n",
       "      <td>PUT</td>\n",
       "      <td>NextSong</td>\n",
       "      <td>1.538173e+12</td>\n",
       "      <td>29</td>\n",
       "      <td>Harder Better Faster Stronger</td>\n",
       "      <td>200</td>\n",
       "      <td>1538352676000</td>\n",
       "      <td>Mozilla/5.0 (Windows NT 6.1; WOW64; rv:31.0) Gecko/20100101 Firefox/31.0</td>\n",
       "      <td>30</td>\n",
       "    </tr>\n",
       "    <tr>\n",
       "      <th>...</th>\n",
       "      <td>...</td>\n",
       "      <td>...</td>\n",
       "      <td>...</td>\n",
       "      <td>...</td>\n",
       "      <td>...</td>\n",
       "      <td>...</td>\n",
       "      <td>...</td>\n",
       "      <td>...</td>\n",
       "      <td>...</td>\n",
       "      <td>...</td>\n",
       "      <td>...</td>\n",
       "      <td>...</td>\n",
       "      <td>...</td>\n",
       "      <td>...</td>\n",
       "      <td>...</td>\n",
       "      <td>...</td>\n",
       "      <td>...</td>\n",
       "      <td>...</td>\n",
       "    </tr>\n",
       "    <tr>\n",
       "      <th>286495</th>\n",
       "      <td>None</td>\n",
       "      <td>Logged Out</td>\n",
       "      <td>None</td>\n",
       "      <td>None</td>\n",
       "      <td>41</td>\n",
       "      <td>None</td>\n",
       "      <td>NaN</td>\n",
       "      <td>paid</td>\n",
       "      <td>None</td>\n",
       "      <td>GET</td>\n",
       "      <td>Home</td>\n",
       "      <td>NaN</td>\n",
       "      <td>500</td>\n",
       "      <td>None</td>\n",
       "      <td>200</td>\n",
       "      <td>1543622240000</td>\n",
       "      <td>None</td>\n",
       "      <td></td>\n",
       "    </tr>\n",
       "    <tr>\n",
       "      <th>286496</th>\n",
       "      <td>None</td>\n",
       "      <td>Logged Out</td>\n",
       "      <td>None</td>\n",
       "      <td>None</td>\n",
       "      <td>42</td>\n",
       "      <td>None</td>\n",
       "      <td>NaN</td>\n",
       "      <td>paid</td>\n",
       "      <td>None</td>\n",
       "      <td>PUT</td>\n",
       "      <td>Login</td>\n",
       "      <td>NaN</td>\n",
       "      <td>500</td>\n",
       "      <td>None</td>\n",
       "      <td>307</td>\n",
       "      <td>1543622241000</td>\n",
       "      <td>None</td>\n",
       "      <td></td>\n",
       "    </tr>\n",
       "    <tr>\n",
       "      <th>286497</th>\n",
       "      <td>None</td>\n",
       "      <td>Logged In</td>\n",
       "      <td>Emilia</td>\n",
       "      <td>F</td>\n",
       "      <td>43</td>\n",
       "      <td>House</td>\n",
       "      <td>NaN</td>\n",
       "      <td>paid</td>\n",
       "      <td>New York-Newark-Jersey City, NY-NJ-PA</td>\n",
       "      <td>GET</td>\n",
       "      <td>Home</td>\n",
       "      <td>1.538337e+12</td>\n",
       "      <td>500</td>\n",
       "      <td>None</td>\n",
       "      <td>200</td>\n",
       "      <td>1543622248000</td>\n",
       "      <td>Mozilla/5.0 (compatible; MSIE 9.0; Windows NT 6.1; WOW64; Trident/5.0)</td>\n",
       "      <td>300011</td>\n",
       "    </tr>\n",
       "    <tr>\n",
       "      <th>286498</th>\n",
       "      <td>None</td>\n",
       "      <td>Logged In</td>\n",
       "      <td>Emilia</td>\n",
       "      <td>F</td>\n",
       "      <td>44</td>\n",
       "      <td>House</td>\n",
       "      <td>NaN</td>\n",
       "      <td>paid</td>\n",
       "      <td>New York-Newark-Jersey City, NY-NJ-PA</td>\n",
       "      <td>GET</td>\n",
       "      <td>About</td>\n",
       "      <td>1.538337e+12</td>\n",
       "      <td>500</td>\n",
       "      <td>None</td>\n",
       "      <td>200</td>\n",
       "      <td>1543622398000</td>\n",
       "      <td>Mozilla/5.0 (compatible; MSIE 9.0; Windows NT 6.1; WOW64; Trident/5.0)</td>\n",
       "      <td>300011</td>\n",
       "    </tr>\n",
       "    <tr>\n",
       "      <th>286499</th>\n",
       "      <td>Camera Obscura</td>\n",
       "      <td>Logged In</td>\n",
       "      <td>Emilia</td>\n",
       "      <td>F</td>\n",
       "      <td>45</td>\n",
       "      <td>House</td>\n",
       "      <td>170.89261</td>\n",
       "      <td>paid</td>\n",
       "      <td>New York-Newark-Jersey City, NY-NJ-PA</td>\n",
       "      <td>PUT</td>\n",
       "      <td>NextSong</td>\n",
       "      <td>1.538337e+12</td>\n",
       "      <td>500</td>\n",
       "      <td>The Sun On His Back</td>\n",
       "      <td>200</td>\n",
       "      <td>1543622411000</td>\n",
       "      <td>Mozilla/5.0 (compatible; MSIE 9.0; Windows NT 6.1; WOW64; Trident/5.0)</td>\n",
       "      <td>300011</td>\n",
       "    </tr>\n",
       "  </tbody>\n",
       "</table>\n",
       "<p>286500 rows × 18 columns</p>\n",
       "</div>"
      ],
      "text/plain": [
       "                  artist        auth firstName gender  itemInSession lastName     length level                               location method      page  registration  sessionId                           song  status             ts                                                                                                        userAgent  userId\n",
       "0       Martha Tilston    Logged In   Colin     M      50             Freeman  277.89016  paid  Bakersfield, CA                        PUT    NextSong  1.538173e+12  29         Rockpools                      200     1538352117000  Mozilla/5.0 (Windows NT 6.1; WOW64; rv:31.0) Gecko/20100101 Firefox/31.0                                         30    \n",
       "1       Five Iron Frenzy  Logged In   Micah     M      79             Long     236.09424  free  Boston-Cambridge-Newton, MA-NH         PUT    NextSong  1.538332e+12  8          Canada                         200     1538352180000  \"Mozilla/5.0 (Windows NT 6.1; WOW64) AppleWebKit/537.36 (KHTML, like Gecko) Chrome/37.0.2062.103 Safari/537.36\"  9     \n",
       "2       Adam Lambert      Logged In   Colin     M      51             Freeman  282.82730  paid  Bakersfield, CA                        PUT    NextSong  1.538173e+12  29         Time For Miracles              200     1538352394000  Mozilla/5.0 (Windows NT 6.1; WOW64; rv:31.0) Gecko/20100101 Firefox/31.0                                         30    \n",
       "3       Enigma            Logged In   Micah     M      80             Long     262.71302  free  Boston-Cambridge-Newton, MA-NH         PUT    NextSong  1.538332e+12  8          Knocking On Forbidden Doors    200     1538352416000  \"Mozilla/5.0 (Windows NT 6.1; WOW64) AppleWebKit/537.36 (KHTML, like Gecko) Chrome/37.0.2062.103 Safari/537.36\"  9     \n",
       "4       Daft Punk         Logged In   Colin     M      52             Freeman  223.60771  paid  Bakersfield, CA                        PUT    NextSong  1.538173e+12  29         Harder Better Faster Stronger  200     1538352676000  Mozilla/5.0 (Windows NT 6.1; WOW64; rv:31.0) Gecko/20100101 Firefox/31.0                                         30    \n",
       "...           ...               ...     ...    ..      ..                 ...        ...   ...              ...                        ...         ...           ...  ..                                   ...  ...               ...                                                                       ...                                         ..    \n",
       "286495  None              Logged Out  None      None   41             None    NaN         paid  None                                   GET    Home     NaN            500        None                           200     1543622240000  None                                                                                                                   \n",
       "286496  None              Logged Out  None      None   42             None    NaN         paid  None                                   PUT    Login    NaN            500        None                           307     1543622241000  None                                                                                                                   \n",
       "286497  None              Logged In   Emilia    F      43             House   NaN         paid  New York-Newark-Jersey City, NY-NJ-PA  GET    Home      1.538337e+12  500        None                           200     1543622248000  Mozilla/5.0 (compatible; MSIE 9.0; Windows NT 6.1; WOW64; Trident/5.0)                                           300011\n",
       "286498  None              Logged In   Emilia    F      44             House   NaN         paid  New York-Newark-Jersey City, NY-NJ-PA  GET    About     1.538337e+12  500        None                           200     1543622398000  Mozilla/5.0 (compatible; MSIE 9.0; Windows NT 6.1; WOW64; Trident/5.0)                                           300011\n",
       "286499  Camera Obscura    Logged In   Emilia    F      45             House    170.89261  paid  New York-Newark-Jersey City, NY-NJ-PA  PUT    NextSong  1.538337e+12  500        The Sun On His Back            200     1543622411000  Mozilla/5.0 (compatible; MSIE 9.0; Windows NT 6.1; WOW64; Trident/5.0)                                           300011\n",
       "\n",
       "[286500 rows x 18 columns]"
      ]
     },
     "execution_count": 7,
     "metadata": {},
     "output_type": "execute_result"
    }
   ],
   "source": [
    "def show_df(df):\n",
    "    \"\"\"\n",
    "        ARGS:\n",
    "            - spark Dataframe\n",
    "        RETURNS:\n",
    "            - Prints dataframe\n",
    "    \"\"\"\n",
    "    return df.toPandas()\n",
    "show_df(df)"
   ]
  },
  {
   "cell_type": "code",
   "execution_count": 8,
   "metadata": {},
   "outputs": [
    {
     "name": "stdout",
     "output_type": "stream",
     "text": [
      "row count: 286500, column count: 18\n"
     ]
    }
   ],
   "source": [
    "def df_dimentions(df):\n",
    "    \"\"\"\n",
    "        Prints number of Rows and Columns\n",
    "        ARGS:\n",
    "            - Dataframe\n",
    "    \"\"\"\n",
    "    print(f\"row count: {df.count()}, column count: {len(df.columns)}\")\n",
    "df_dimentions(df)"
   ]
  },
  {
   "cell_type": "code",
   "execution_count": 9,
   "metadata": {},
   "outputs": [
    {
     "data": {
      "text/html": [
       "<div>\n",
       "<style scoped>\n",
       "    .dataframe tbody tr th:only-of-type {\n",
       "        vertical-align: middle;\n",
       "    }\n",
       "\n",
       "    .dataframe tbody tr th {\n",
       "        vertical-align: top;\n",
       "    }\n",
       "\n",
       "    .dataframe thead th {\n",
       "        text-align: right;\n",
       "    }\n",
       "</style>\n",
       "<table border=\"1\" class=\"dataframe\">\n",
       "  <thead>\n",
       "    <tr style=\"text-align: right;\">\n",
       "      <th></th>\n",
       "      <th>artist</th>\n",
       "      <th>auth</th>\n",
       "      <th>firstName</th>\n",
       "      <th>gender</th>\n",
       "      <th>itemInSession</th>\n",
       "      <th>lastName</th>\n",
       "      <th>length</th>\n",
       "      <th>level</th>\n",
       "      <th>location</th>\n",
       "      <th>method</th>\n",
       "      <th>page</th>\n",
       "      <th>registration</th>\n",
       "      <th>sessionId</th>\n",
       "      <th>song</th>\n",
       "      <th>status</th>\n",
       "      <th>ts</th>\n",
       "      <th>userAgent</th>\n",
       "      <th>userId</th>\n",
       "    </tr>\n",
       "  </thead>\n",
       "  <tbody>\n",
       "    <tr>\n",
       "      <th>0</th>\n",
       "      <td>MarthaTilston</td>\n",
       "      <td>LoggedIn</td>\n",
       "      <td>Colin</td>\n",
       "      <td>M</td>\n",
       "      <td>50</td>\n",
       "      <td>Freeman</td>\n",
       "      <td>277.89016</td>\n",
       "      <td>paid</td>\n",
       "      <td>Bakersfield,CA</td>\n",
       "      <td>PUT</td>\n",
       "      <td>NextSong</td>\n",
       "      <td>1.538173e+12</td>\n",
       "      <td>29</td>\n",
       "      <td>Rockpools</td>\n",
       "      <td>200</td>\n",
       "      <td>1538352117000</td>\n",
       "      <td>Mozilla50WindowsNT61WOW64rv310Gecko20100101Firefox310</td>\n",
       "      <td>30</td>\n",
       "    </tr>\n",
       "    <tr>\n",
       "      <th>1</th>\n",
       "      <td>FiveIronFrenzy</td>\n",
       "      <td>LoggedIn</td>\n",
       "      <td>Micah</td>\n",
       "      <td>M</td>\n",
       "      <td>79</td>\n",
       "      <td>Long</td>\n",
       "      <td>236.09424</td>\n",
       "      <td>free</td>\n",
       "      <td>Boston-Cambridge-Newton,MA-NH</td>\n",
       "      <td>PUT</td>\n",
       "      <td>NextSong</td>\n",
       "      <td>1.538332e+12</td>\n",
       "      <td>8</td>\n",
       "      <td>Canada</td>\n",
       "      <td>200</td>\n",
       "      <td>1538352180000</td>\n",
       "      <td>Mozilla50WindowsNT61WOW64AppleWebKit53736KHTML,likeGeckoChrome3702062103Safari53736</td>\n",
       "      <td>9</td>\n",
       "    </tr>\n",
       "    <tr>\n",
       "      <th>2</th>\n",
       "      <td>AdamLambert</td>\n",
       "      <td>LoggedIn</td>\n",
       "      <td>Colin</td>\n",
       "      <td>M</td>\n",
       "      <td>51</td>\n",
       "      <td>Freeman</td>\n",
       "      <td>282.82730</td>\n",
       "      <td>paid</td>\n",
       "      <td>Bakersfield,CA</td>\n",
       "      <td>PUT</td>\n",
       "      <td>NextSong</td>\n",
       "      <td>1.538173e+12</td>\n",
       "      <td>29</td>\n",
       "      <td>TimeForMiracles</td>\n",
       "      <td>200</td>\n",
       "      <td>1538352394000</td>\n",
       "      <td>Mozilla50WindowsNT61WOW64rv310Gecko20100101Firefox310</td>\n",
       "      <td>30</td>\n",
       "    </tr>\n",
       "    <tr>\n",
       "      <th>3</th>\n",
       "      <td>Enigma</td>\n",
       "      <td>LoggedIn</td>\n",
       "      <td>Micah</td>\n",
       "      <td>M</td>\n",
       "      <td>80</td>\n",
       "      <td>Long</td>\n",
       "      <td>262.71302</td>\n",
       "      <td>free</td>\n",
       "      <td>Boston-Cambridge-Newton,MA-NH</td>\n",
       "      <td>PUT</td>\n",
       "      <td>NextSong</td>\n",
       "      <td>1.538332e+12</td>\n",
       "      <td>8</td>\n",
       "      <td>KnockingOnForbiddenDoors</td>\n",
       "      <td>200</td>\n",
       "      <td>1538352416000</td>\n",
       "      <td>Mozilla50WindowsNT61WOW64AppleWebKit53736KHTML,likeGeckoChrome3702062103Safari53736</td>\n",
       "      <td>9</td>\n",
       "    </tr>\n",
       "    <tr>\n",
       "      <th>4</th>\n",
       "      <td>DaftPunk</td>\n",
       "      <td>LoggedIn</td>\n",
       "      <td>Colin</td>\n",
       "      <td>M</td>\n",
       "      <td>52</td>\n",
       "      <td>Freeman</td>\n",
       "      <td>223.60771</td>\n",
       "      <td>paid</td>\n",
       "      <td>Bakersfield,CA</td>\n",
       "      <td>PUT</td>\n",
       "      <td>NextSong</td>\n",
       "      <td>1.538173e+12</td>\n",
       "      <td>29</td>\n",
       "      <td>HarderBetterFasterStronger</td>\n",
       "      <td>200</td>\n",
       "      <td>1538352676000</td>\n",
       "      <td>Mozilla50WindowsNT61WOW64rv310Gecko20100101Firefox310</td>\n",
       "      <td>30</td>\n",
       "    </tr>\n",
       "    <tr>\n",
       "      <th>...</th>\n",
       "      <td>...</td>\n",
       "      <td>...</td>\n",
       "      <td>...</td>\n",
       "      <td>...</td>\n",
       "      <td>...</td>\n",
       "      <td>...</td>\n",
       "      <td>...</td>\n",
       "      <td>...</td>\n",
       "      <td>...</td>\n",
       "      <td>...</td>\n",
       "      <td>...</td>\n",
       "      <td>...</td>\n",
       "      <td>...</td>\n",
       "      <td>...</td>\n",
       "      <td>...</td>\n",
       "      <td>...</td>\n",
       "      <td>...</td>\n",
       "      <td>...</td>\n",
       "    </tr>\n",
       "    <tr>\n",
       "      <th>286495</th>\n",
       "      <td>None</td>\n",
       "      <td>LoggedOut</td>\n",
       "      <td>None</td>\n",
       "      <td>None</td>\n",
       "      <td>41</td>\n",
       "      <td>None</td>\n",
       "      <td>NaN</td>\n",
       "      <td>paid</td>\n",
       "      <td>None</td>\n",
       "      <td>GET</td>\n",
       "      <td>Home</td>\n",
       "      <td>NaN</td>\n",
       "      <td>500</td>\n",
       "      <td>None</td>\n",
       "      <td>200</td>\n",
       "      <td>1543622240000</td>\n",
       "      <td>None</td>\n",
       "      <td></td>\n",
       "    </tr>\n",
       "    <tr>\n",
       "      <th>286496</th>\n",
       "      <td>None</td>\n",
       "      <td>LoggedOut</td>\n",
       "      <td>None</td>\n",
       "      <td>None</td>\n",
       "      <td>42</td>\n",
       "      <td>None</td>\n",
       "      <td>NaN</td>\n",
       "      <td>paid</td>\n",
       "      <td>None</td>\n",
       "      <td>PUT</td>\n",
       "      <td>Login</td>\n",
       "      <td>NaN</td>\n",
       "      <td>500</td>\n",
       "      <td>None</td>\n",
       "      <td>307</td>\n",
       "      <td>1543622241000</td>\n",
       "      <td>None</td>\n",
       "      <td></td>\n",
       "    </tr>\n",
       "    <tr>\n",
       "      <th>286497</th>\n",
       "      <td>None</td>\n",
       "      <td>LoggedIn</td>\n",
       "      <td>Emilia</td>\n",
       "      <td>F</td>\n",
       "      <td>43</td>\n",
       "      <td>House</td>\n",
       "      <td>NaN</td>\n",
       "      <td>paid</td>\n",
       "      <td>NewYork-Newark-JerseyCity,NY-NJ-PA</td>\n",
       "      <td>GET</td>\n",
       "      <td>Home</td>\n",
       "      <td>1.538337e+12</td>\n",
       "      <td>500</td>\n",
       "      <td>None</td>\n",
       "      <td>200</td>\n",
       "      <td>1543622248000</td>\n",
       "      <td>Mozilla50compatibleMSIE90WindowsNT61WOW64Trident50</td>\n",
       "      <td>300011</td>\n",
       "    </tr>\n",
       "    <tr>\n",
       "      <th>286498</th>\n",
       "      <td>None</td>\n",
       "      <td>LoggedIn</td>\n",
       "      <td>Emilia</td>\n",
       "      <td>F</td>\n",
       "      <td>44</td>\n",
       "      <td>House</td>\n",
       "      <td>NaN</td>\n",
       "      <td>paid</td>\n",
       "      <td>NewYork-Newark-JerseyCity,NY-NJ-PA</td>\n",
       "      <td>GET</td>\n",
       "      <td>About</td>\n",
       "      <td>1.538337e+12</td>\n",
       "      <td>500</td>\n",
       "      <td>None</td>\n",
       "      <td>200</td>\n",
       "      <td>1543622398000</td>\n",
       "      <td>Mozilla50compatibleMSIE90WindowsNT61WOW64Trident50</td>\n",
       "      <td>300011</td>\n",
       "    </tr>\n",
       "    <tr>\n",
       "      <th>286499</th>\n",
       "      <td>CameraObscura</td>\n",
       "      <td>LoggedIn</td>\n",
       "      <td>Emilia</td>\n",
       "      <td>F</td>\n",
       "      <td>45</td>\n",
       "      <td>House</td>\n",
       "      <td>170.89261</td>\n",
       "      <td>paid</td>\n",
       "      <td>NewYork-Newark-JerseyCity,NY-NJ-PA</td>\n",
       "      <td>PUT</td>\n",
       "      <td>NextSong</td>\n",
       "      <td>1.538337e+12</td>\n",
       "      <td>500</td>\n",
       "      <td>TheSunOnHisBack</td>\n",
       "      <td>200</td>\n",
       "      <td>1543622411000</td>\n",
       "      <td>Mozilla50compatibleMSIE90WindowsNT61WOW64Trident50</td>\n",
       "      <td>300011</td>\n",
       "    </tr>\n",
       "  </tbody>\n",
       "</table>\n",
       "<p>286500 rows × 18 columns</p>\n",
       "</div>"
      ],
      "text/plain": [
       "                artist       auth firstName gender  itemInSession lastName     length level                            location method      page  registration  sessionId                        song  status             ts                                                                            userAgent  userId\n",
       "0       MarthaTilston   LoggedIn   Colin     M      50             Freeman  277.89016  paid  Bakersfield,CA                      PUT    NextSong  1.538173e+12  29         Rockpools                   200     1538352117000  Mozilla50WindowsNT61WOW64rv310Gecko20100101Firefox310                                30    \n",
       "1       FiveIronFrenzy  LoggedIn   Micah     M      79             Long     236.09424  free  Boston-Cambridge-Newton,MA-NH       PUT    NextSong  1.538332e+12  8          Canada                      200     1538352180000  Mozilla50WindowsNT61WOW64AppleWebKit53736KHTML,likeGeckoChrome3702062103Safari53736  9     \n",
       "2       AdamLambert     LoggedIn   Colin     M      51             Freeman  282.82730  paid  Bakersfield,CA                      PUT    NextSong  1.538173e+12  29         TimeForMiracles             200     1538352394000  Mozilla50WindowsNT61WOW64rv310Gecko20100101Firefox310                                30    \n",
       "3       Enigma          LoggedIn   Micah     M      80             Long     262.71302  free  Boston-Cambridge-Newton,MA-NH       PUT    NextSong  1.538332e+12  8          KnockingOnForbiddenDoors    200     1538352416000  Mozilla50WindowsNT61WOW64AppleWebKit53736KHTML,likeGeckoChrome3702062103Safari53736  9     \n",
       "4       DaftPunk        LoggedIn   Colin     M      52             Freeman  223.60771  paid  Bakersfield,CA                      PUT    NextSong  1.538173e+12  29         HarderBetterFasterStronger  200     1538352676000  Mozilla50WindowsNT61WOW64rv310Gecko20100101Firefox310                                30    \n",
       "...          ...             ...     ...    ..      ..                 ...        ...   ...             ...                      ...         ...           ...  ..                                ...  ...               ...                                                    ...                                ..    \n",
       "286495  None            LoggedOut  None      None   41             None    NaN         paid  None                                GET    Home     NaN            500        None                        200     1543622240000  None                                                                                       \n",
       "286496  None            LoggedOut  None      None   42             None    NaN         paid  None                                PUT    Login    NaN            500        None                        307     1543622241000  None                                                                                       \n",
       "286497  None            LoggedIn   Emilia    F      43             House   NaN         paid  NewYork-Newark-JerseyCity,NY-NJ-PA  GET    Home      1.538337e+12  500        None                        200     1543622248000  Mozilla50compatibleMSIE90WindowsNT61WOW64Trident50                                   300011\n",
       "286498  None            LoggedIn   Emilia    F      44             House   NaN         paid  NewYork-Newark-JerseyCity,NY-NJ-PA  GET    About     1.538337e+12  500        None                        200     1543622398000  Mozilla50compatibleMSIE90WindowsNT61WOW64Trident50                                   300011\n",
       "286499  CameraObscura   LoggedIn   Emilia    F      45             House    170.89261  paid  NewYork-Newark-JerseyCity,NY-NJ-PA  PUT    NextSong  1.538337e+12  500        TheSunOnHisBack             200     1543622411000  Mozilla50compatibleMSIE90WindowsNT61WOW64Trident50                                   300011\n",
       "\n",
       "[286500 rows x 18 columns]"
      ]
     },
     "execution_count": 9,
     "metadata": {},
     "output_type": "execute_result"
    }
   ],
   "source": [
    "## remove special characters from column\n",
    "def remove_special_chars(df):\n",
    "    \"\"\"\n",
    "        removes special characters from data\n",
    "        ARGS:\n",
    "            - Dataframe\n",
    "        RETURNS:\n",
    "            - clear Dataframe\n",
    "    \"\"\"\n",
    "    for field in df.schema.fields:\n",
    "        if field.dataType == StringType():\n",
    "            df = df.withColumn(field.name,regexp_replace(field.name,'[^a-zA-Z0-9\\,\\-]',''))\n",
    "    \n",
    "    return df\n",
    "df = remove_special_chars(df)\n",
    "show_df(df)"
   ]
  },
  {
   "cell_type": "code",
   "execution_count": 10,
   "metadata": {},
   "outputs": [],
   "source": [
    "def convert_unixtimestamp(df,ts_col):\n",
    "    \"\"\"\n",
    "        converts unix timestamp to date time\n",
    "        ARGS:\n",
    "            - df: Dataframe with Unixtimestamp\n",
    "            - ts: unixtimestamp column name\n",
    "        RETURNS:\n",
    "            - dataframe with new datetime column\n",
    "    \"\"\"\n",
    "   \n",
    "    df = df.withColumn(\"dateTime\",from_unixtime(col(ts_col).cast(LongType())/1000).cast(TimestampType()))\n",
    "    df = df.withColumn(\"month\",month(col('dateTime')))\n",
    "    df = df.withColumn(\"dayOfMonth\",dayofmonth(col('dateTime')))\n",
    "    df = df.withColumn(\"hour\",hour(col('dateTime')))\n",
    "    df = df.withColumn(\"date\",from_unixtime(col(ts_col)/1000).cast(DateType()))\n",
    "    df = df.withColumn(\"location\",split(col('location'),',').getItem(1))\n",
    "    df = df.filter(col('userId').isNotNull())\n",
    "    return df\n"
   ]
  },
  {
   "cell_type": "code",
   "execution_count": 11,
   "metadata": {},
   "outputs": [],
   "source": [
    "# create time series columns\n",
    "df = convert_unixtimestamp(df,'ts')"
   ]
  },
  {
   "cell_type": "code",
   "execution_count": 12,
   "metadata": {},
   "outputs": [
    {
     "data": {
      "text/plain": [
       "0"
      ]
     },
     "execution_count": 12,
     "metadata": {},
     "output_type": "execute_result"
    }
   ],
   "source": [
    "df.filter(col('userId').isNull()).count()"
   ]
  },
  {
   "cell_type": "code",
   "execution_count": 13,
   "metadata": {},
   "outputs": [
    {
     "data": {
      "text/plain": [
       "0"
      ]
     },
     "execution_count": 13,
     "metadata": {},
     "output_type": "execute_result"
    }
   ],
   "source": [
    "# Dropping the missing User's ID rows\n",
    "df = df.filter(df.userId != '')\n",
    "# Check\n",
    "df.filter(df.userId == '').count()"
   ]
  },
  {
   "cell_type": "markdown",
   "metadata": {},
   "source": [
    "# Exploratory Data Analysis\n",
    "When you're working with the full dataset, perform EDA by loading a small subset of the data and doing basic manipulations within Spark. In this workspace, you are already provided a small subset of data you can explore.\n",
    "\n",
    "### Define Churn\n",
    "\n",
    "Once you've done some preliminary analysis, create a column `Churn` to use as the label for your model. I suggest using the `Cancellation Confirmation` events to define your churn, which happen for both paid and free users. As a bonus task, you can also look into the `Downgrade` events.\n",
    "\n",
    "### Explore Data\n",
    "Once you've defined churn, perform some exploratory data analysis to observe the behavior for users who stayed vs users who churned. You can start by exploring aggregates on these two groups of users, observing how much of a specific action they experienced per a certain time unit or number of songs played."
   ]
  },
  {
   "cell_type": "code",
   "execution_count": 14,
   "metadata": {},
   "outputs": [],
   "source": [
    "def bar_plot(df,col1,col2=None,hue=None,labels=None):\n",
    "    \"\"\"\n",
    "        plots using the data \n",
    "        ARGS:\n",
    "            - df: Pandas Dataframe\n",
    "    \"\"\"\n",
    "    plt.figure(figsize=(15,5))\n",
    "    plot = sns.barplot(data=df,x=col1,y=col2,hue=hue)\n",
    "    plot.set_xticklabels(labels)\n",
    "    plt.show()\n",
    "    "
   ]
  },
  {
   "cell_type": "code",
   "execution_count": 15,
   "metadata": {},
   "outputs": [],
   "source": [
    "def distinct_attributes(df,col_name):\n",
    "    \"\"\"\n",
    "        Prints all the distinct attributes/values of a single column\n",
    "        ARGS:\n",
    "            - df: Dataframe\n",
    "            - col_name: Name of the column for distinct attributes\n",
    "        \n",
    "    \"\"\"\n",
    "    print(df.select(col_name).distinct().collect())"
   ]
  },
  {
   "cell_type": "code",
   "execution_count": 16,
   "metadata": {},
   "outputs": [
    {
     "name": "stdout",
     "output_type": "stream",
     "text": [
      "auth\n",
      "[Row(auth='Cancelled'), Row(auth='LoggedIn')]\n",
      "**************************************************\n",
      "gender\n",
      "[Row(gender='F'), Row(gender='M')]\n",
      "**************************************************\n",
      "level\n",
      "[Row(level='free'), Row(level='paid')]\n",
      "**************************************************\n",
      "location\n",
      "[Row(location='UT-ID'), Row(location='AZ'), Row(location='SC'), Row(location='GA-AL'), Row(location='LA'), Row(location='RI-MA'), Row(location='NJ'), Row(location='IL-MO'), Row(location='MN-WI'), Row(location='OR'), Row(location='SC-NC'), Row(location='PA-NJ'), Row(location='MD-WV'), Row(location='VA'), Row(location='NY-NJ-PA'), Row(location='KY'), Row(location='NH'), Row(location='MI'), Row(location='NV'), Row(location='WI'), Row(location='CA'), Row(location='CT'), Row(location='MT'), Row(location='NC'), Row(location='MD'), Row(location='NE-IA'), Row(location='IL'), Row(location='WA'), Row(location='MS'), Row(location='AL'), Row(location='IN'), Row(location='OH'), Row(location='TN'), Row(location='IA'), Row(location='PA'), Row(location='DC-VA-MD-WV'), Row(location='NY'), Row(location='MO-KS'), Row(location='KY-IN'), Row(location='PA-NJ-DE-MD'), Row(location='TX'), Row(location='WV'), Row(location='VA-NC'), Row(location='OR-WA'), Row(location='GA'), Row(location='IL-IN-WI'), Row(location='OH-KY-IN'), Row(location='MO-IL'), Row(location='FL'), Row(location='CO'), Row(location='AK'), Row(location='MA-NH'), Row(location='AR'), Row(location='OK'), Row(location='TN-MS-AR'), Row(location='TN-VA'), Row(location='UT'), Row(location='NC-SC')]\n",
      "**************************************************\n",
      "method\n",
      "[Row(method='PUT'), Row(method='GET')]\n",
      "**************************************************\n",
      "page\n",
      "[Row(page='Cancel'), Row(page='CancellationConfirmation'), Row(page='ThumbsDown'), Row(page='Home'), Row(page='Downgrade'), Row(page='ThumbsUp'), Row(page='SubmitDowngrade'), Row(page='Logout'), Row(page='About'), Row(page='Settings'), Row(page='SaveSettings'), Row(page='NextSong'), Row(page='RollAdvert'), Row(page='AddtoPlaylist'), Row(page='Help'), Row(page='Upgrade'), Row(page='SubmitUpgrade'), Row(page='Error'), Row(page='AddFriend')]\n",
      "**************************************************\n"
     ]
    }
   ],
   "source": [
    "def categorical_columns(df):\n",
    "    \"\"\"\n",
    "        prints distinct values of categorical columns\n",
    "        ARGS:\n",
    "            - df: Dataframe\n",
    "    \"\"\"\n",
    "    for field in df.schema.fields:\n",
    "        if ((field.dataType == StringType()) and (field.name not in ['userId','lastName','userAgent','firstName','artist','song'] )):\n",
    "            print(field.name)\n",
    "            distinct_attributes(df,field.name)\n",
    "            print(\"*\"*50)\n",
    "categorical_columns(df)"
   ]
  },
  {
   "cell_type": "code",
   "execution_count": null,
   "metadata": {},
   "outputs": [],
   "source": [
    "#filter pages of type CancellationConfirmation\n",
    "df.filter(df.page==\"CancellationConfirmation\").select(\"userId\").dropDuplicates().show(10)"
   ]
  },
  {
   "cell_type": "code",
   "execution_count": null,
   "metadata": {},
   "outputs": [],
   "source": [
    "def create_label(df):\n",
    "    \"\"\"\n",
    "        Create label columns containing 1,0 for cancellation page and auth is cancled\n",
    "        ARGS:\n",
    "            - df: Dataframe \n",
    "        RETURNS:\n",
    "            - Dataframe with labeled columns\n",
    "    \"\"\"\n",
    "    \n",
    "    flag_cancelation_event = udf(lambda x: 1 if x == \"CancellationConfirmation\" else 0, IntegerType())\n",
    "    # apply to the dataframe\n",
    "    df = df.withColumn(\"label\", flag_cancelation_event(\"page\"))\n",
    "    #Define window bounds\n",
    "    windowval = Window.partitionBy(\"userId\").rangeBetween(Window.unboundedPreceding, Window.unboundedFollowing)\n",
    "    # Applying the window\n",
    "    df = df.withColumn(\"label\", sum(\"label\").over(windowval))\n",
    "    return df\n",
    "# Create Label as churn Column\n",
    "df = create_label(df)\n",
    "show_df(df)"
   ]
  },
  {
   "cell_type": "code",
   "execution_count": null,
   "metadata": {},
   "outputs": [],
   "source": [
    "show_df(df)"
   ]
  },
  {
   "cell_type": "code",
   "execution_count": null,
   "metadata": {},
   "outputs": [],
   "source": [
    "# Number of users in Dataset\n",
    "df.select('userId').dropDuplicates().count()"
   ]
  },
  {
   "cell_type": "code",
   "execution_count": null,
   "metadata": {},
   "outputs": [],
   "source": [
    "# create dataframe for plotting count of different labels of all the users\n",
    "label_df = df.dropDuplicates(['userId']).groupby(['label']).count()\n",
    "label_df = label_df.toPandas()"
   ]
  },
  {
   "cell_type": "code",
   "execution_count": null,
   "metadata": {},
   "outputs": [],
   "source": [
    "# the data set is highly imbalanced\n",
    "bar_plot(label_df,'label','count',labels=['active','cancelled'])"
   ]
  },
  {
   "cell_type": "code",
   "execution_count": null,
   "metadata": {},
   "outputs": [],
   "source": [
    "# types of user churn by gender\n",
    "gender_df = df.dropDuplicates(['userId', 'gender']).groupby(['label', 'gender']).count()\n",
    "gender_df = gender_df.toPandas()"
   ]
  },
  {
   "cell_type": "code",
   "execution_count": null,
   "metadata": {},
   "outputs": [],
   "source": [
    "bar_plot(gender_df,'label','count','gender',labels=['active','cancelled'])"
   ]
  },
  {
   "cell_type": "code",
   "execution_count": null,
   "metadata": {},
   "outputs": [],
   "source": [
    "# User status by paid level\n",
    "paid_df = df.dropDuplicates(['userId', 'level']).groupby(['label', 'level']).count()\n",
    "paid_df = paid_df.toPandas()"
   ]
  },
  {
   "cell_type": "code",
   "execution_count": 85,
   "metadata": {},
   "outputs": [
    {
     "data": {
      "image/png": "[encoded data removed]",
      "text/plain": [
       "<Figure size 1080x360 with 1 Axes>"
      ]
     },
     "metadata": {
      "needs_background": "light"
     },
     "output_type": "display_data"
    }
   ],
   "source": [
    "bar_plot(paid_df,'label','count','level',labels=['active','cancelled'])"
   ]
  },
  {
   "cell_type": "markdown",
   "metadata": {},
   "source": [
    "* free users are more likely to cancel subscription "
   ]
  },
  {
   "cell_type": "code",
   "execution_count": 86,
   "metadata": {},
   "outputs": [
    {
     "data": {
      "text/html": [
       "<div>\n",
       "<style scoped>\n",
       "    .dataframe tbody tr th:only-of-type {\n",
       "        vertical-align: middle;\n",
       "    }\n",
       "\n",
       "    .dataframe tbody tr th {\n",
       "        vertical-align: top;\n",
       "    }\n",
       "\n",
       "    .dataframe thead th {\n",
       "        text-align: right;\n",
       "    }\n",
       "</style>\n",
       "<table border=\"1\" class=\"dataframe\">\n",
       "  <thead>\n",
       "    <tr style=\"text-align: right;\">\n",
       "      <th></th>\n",
       "      <th>location</th>\n",
       "      <th>count</th>\n",
       "    </tr>\n",
       "  </thead>\n",
       "  <tbody>\n",
       "    <tr>\n",
       "      <th>0</th>\n",
       "      <td>UT-ID</td>\n",
       "      <td>317</td>\n",
       "    </tr>\n",
       "    <tr>\n",
       "      <th>1</th>\n",
       "      <td>AZ</td>\n",
       "      <td>4846</td>\n",
       "    </tr>\n",
       "    <tr>\n",
       "      <th>2</th>\n",
       "      <td>SC</td>\n",
       "      <td>668</td>\n",
       "    </tr>\n",
       "    <tr>\n",
       "      <th>3</th>\n",
       "      <td>GA-AL</td>\n",
       "      <td>2716</td>\n",
       "    </tr>\n",
       "    <tr>\n",
       "      <th>4</th>\n",
       "      <td>LA</td>\n",
       "      <td>1171</td>\n",
       "    </tr>\n",
       "  </tbody>\n",
       "</table>\n",
       "</div>"
      ],
      "text/plain": [
       "  location  count\n",
       "0  UT-ID    317  \n",
       "1  AZ       4846 \n",
       "2  SC       668  \n",
       "3  GA-AL    2716 \n",
       "4  LA       1171 "
      ]
     },
     "execution_count": 86,
     "metadata": {},
     "output_type": "execute_result"
    }
   ],
   "source": [
    "# count of user location wise \n",
    "location_df = df.dropDuplicates().groupBy(['location']).agg(count('location').alias('count'))\n",
    "location_df = location_df.toPandas()\n",
    "location_df.head()"
   ]
  },
  {
   "cell_type": "code",
   "execution_count": 87,
   "metadata": {},
   "outputs": [
    {
     "data": {
      "image/png": "[encoded data removed]",
      "text/plain": [
       "<Figure size 1440x360 with 1 Axes>"
      ]
     },
     "metadata": {
      "needs_background": "light"
     },
     "output_type": "display_data"
    }
   ],
   "source": [
    "#plot to 10 location\n",
    "plt.figure(figsize=(20,5))\n",
    "sns.barplot(data=location_df.sort_values(by='count',ascending=False).head(10),x='location',y='count')\n",
    "plt.title('User count by location')\n",
    "plt.show()"
   ]
  },
  {
   "cell_type": "markdown",
   "metadata": {},
   "source": [
    "* CA , NY, TX, MA, FL, NC has top 5 locations based on user"
   ]
  },
  {
   "cell_type": "code",
   "execution_count": 88,
   "metadata": {},
   "outputs": [],
   "source": [
    "active_df = df.drop_duplicates().groupby(['auth']).agg(count('auth').alias('count'))\n",
    "active_df = active_df.toPandas()"
   ]
  },
  {
   "cell_type": "code",
   "execution_count": 89,
   "metadata": {},
   "outputs": [
    {
     "name": "stdout",
     "output_type": "stream",
     "text": [
      "count based on type of auth\n"
     ]
    },
    {
     "data": {
      "image/png": "[encoded data removed]",
      "text/plain": [
       "<Figure size 432x288 with 1 Axes>"
      ]
     },
     "metadata": {
      "needs_background": "light"
     },
     "output_type": "display_data"
    }
   ],
   "source": [
    "sns.barplot(x='auth',y='count',data=active_df)\n",
    "print('count based on type of auth')"
   ]
  },
  {
   "cell_type": "markdown",
   "metadata": {},
   "source": [
    "* most of the data belonged to LoggedIn user"
   ]
  },
  {
   "cell_type": "code",
   "execution_count": 90,
   "metadata": {},
   "outputs": [
    {
     "data": {
      "text/html": [
       "<div>\n",
       "<style scoped>\n",
       "    .dataframe tbody tr th:only-of-type {\n",
       "        vertical-align: middle;\n",
       "    }\n",
       "\n",
       "    .dataframe tbody tr th {\n",
       "        vertical-align: top;\n",
       "    }\n",
       "\n",
       "    .dataframe thead th {\n",
       "        text-align: right;\n",
       "    }\n",
       "</style>\n",
       "<table border=\"1\" class=\"dataframe\">\n",
       "  <thead>\n",
       "    <tr style=\"text-align: right;\">\n",
       "      <th></th>\n",
       "      <th>page</th>\n",
       "      <th>userCount</th>\n",
       "    </tr>\n",
       "  </thead>\n",
       "  <tbody>\n",
       "    <tr>\n",
       "      <th>11</th>\n",
       "      <td>NextSong</td>\n",
       "      <td>228108</td>\n",
       "    </tr>\n",
       "    <tr>\n",
       "      <th>5</th>\n",
       "      <td>ThumbsUp</td>\n",
       "      <td>12551</td>\n",
       "    </tr>\n",
       "    <tr>\n",
       "      <th>3</th>\n",
       "      <td>Home</td>\n",
       "      <td>10082</td>\n",
       "    </tr>\n",
       "    <tr>\n",
       "      <th>13</th>\n",
       "      <td>AddtoPlaylist</td>\n",
       "      <td>6526</td>\n",
       "    </tr>\n",
       "    <tr>\n",
       "      <th>18</th>\n",
       "      <td>AddFriend</td>\n",
       "      <td>4277</td>\n",
       "    </tr>\n",
       "    <tr>\n",
       "      <th>12</th>\n",
       "      <td>RollAdvert</td>\n",
       "      <td>3933</td>\n",
       "    </tr>\n",
       "    <tr>\n",
       "      <th>7</th>\n",
       "      <td>Logout</td>\n",
       "      <td>3226</td>\n",
       "    </tr>\n",
       "    <tr>\n",
       "      <th>2</th>\n",
       "      <td>ThumbsDown</td>\n",
       "      <td>2546</td>\n",
       "    </tr>\n",
       "    <tr>\n",
       "      <th>4</th>\n",
       "      <td>Downgrade</td>\n",
       "      <td>2055</td>\n",
       "    </tr>\n",
       "    <tr>\n",
       "      <th>9</th>\n",
       "      <td>Settings</td>\n",
       "      <td>1514</td>\n",
       "    </tr>\n",
       "    <tr>\n",
       "      <th>14</th>\n",
       "      <td>Help</td>\n",
       "      <td>1454</td>\n",
       "    </tr>\n",
       "    <tr>\n",
       "      <th>15</th>\n",
       "      <td>Upgrade</td>\n",
       "      <td>499</td>\n",
       "    </tr>\n",
       "    <tr>\n",
       "      <th>8</th>\n",
       "      <td>About</td>\n",
       "      <td>495</td>\n",
       "    </tr>\n",
       "    <tr>\n",
       "      <th>10</th>\n",
       "      <td>SaveSettings</td>\n",
       "      <td>310</td>\n",
       "    </tr>\n",
       "    <tr>\n",
       "      <th>17</th>\n",
       "      <td>Error</td>\n",
       "      <td>252</td>\n",
       "    </tr>\n",
       "    <tr>\n",
       "      <th>16</th>\n",
       "      <td>SubmitUpgrade</td>\n",
       "      <td>159</td>\n",
       "    </tr>\n",
       "    <tr>\n",
       "      <th>6</th>\n",
       "      <td>SubmitDowngrade</td>\n",
       "      <td>63</td>\n",
       "    </tr>\n",
       "    <tr>\n",
       "      <th>1</th>\n",
       "      <td>CancellationConfirmation</td>\n",
       "      <td>52</td>\n",
       "    </tr>\n",
       "    <tr>\n",
       "      <th>0</th>\n",
       "      <td>Cancel</td>\n",
       "      <td>52</td>\n",
       "    </tr>\n",
       "  </tbody>\n",
       "</table>\n",
       "</div>"
      ],
      "text/plain": [
       "                        page  userCount\n",
       "11  NextSong                  228108   \n",
       "5   ThumbsUp                  12551    \n",
       "3   Home                      10082    \n",
       "13  AddtoPlaylist             6526     \n",
       "18  AddFriend                 4277     \n",
       "12  RollAdvert                3933     \n",
       "7   Logout                    3226     \n",
       "2   ThumbsDown                2546     \n",
       "4   Downgrade                 2055     \n",
       "9   Settings                  1514     \n",
       "14  Help                      1454     \n",
       "15  Upgrade                   499      \n",
       "8   About                     495      \n",
       "10  SaveSettings              310      \n",
       "17  Error                     252      \n",
       "16  SubmitUpgrade             159      \n",
       "6   SubmitDowngrade           63       \n",
       "1   CancellationConfirmation  52       \n",
       "0   Cancel                    52       "
      ]
     },
     "execution_count": 90,
     "metadata": {},
     "output_type": "execute_result"
    }
   ],
   "source": [
    "# user by  page\n",
    "user_page_df = df.groupBy(['page']).agg(count('userId').alias('userCount')).drop('NextSong')\n",
    "user_page_df = user_page_df.toPandas().sort_values(by='userCount',ascending=False) \n",
    "user_page_df                       "
   ]
  },
  {
   "cell_type": "code",
   "execution_count": 91,
   "metadata": {},
   "outputs": [
    {
     "data": {
      "image/png": "[encoded data removed]",
      "text/plain": [
       "<Figure size 1080x360 with 1 Axes>"
      ]
     },
     "metadata": {
      "needs_background": "light"
     },
     "output_type": "display_data"
    }
   ],
   "source": [
    "plt.figure(figsize=(15,5))\n",
    "sns.barplot(x='page',y='userCount',data=user_page_df.head(3))\n",
    "plt.title('page Top 3 page access by user')\n",
    "plt.show()"
   ]
  },
  {
   "cell_type": "markdown",
   "metadata": {},
   "source": [
    "* NestSong was the most used page which is quite obvious in music streaming app"
   ]
  },
  {
   "cell_type": "code",
   "execution_count": 31,
   "metadata": {},
   "outputs": [],
   "source": [
    "def count_missings(spark_df,sort=True):\n",
    "    \"\"\"\n",
    "        Counts number of nulls and nans in each column\n",
    "        ARGS:\n",
    "            - spark_df: RDD dataframe \n",
    "    \"\"\"\n",
    "    df = spark_df.select([f.count(f.when(f.isnan(c) | f.isnull(c), c)).alias(c) for (c,c_type) in spark_df.dtypes if c_type not in ('timestamp', 'string', 'date')]).toPandas()\n",
    "\n",
    "    if len(df) == 0:\n",
    "        print(\"There are no any missing values!\")\n",
    "        return None\n",
    "\n",
    "    if sort:\n",
    "        return df.rename(index={0: 'missing_value_count'}).T.sort_values(\"missing_value_count\",ascending=False)\n",
    "\n",
    "    return df"
   ]
  },
  {
   "cell_type": "code",
   "execution_count": null,
   "metadata": {},
   "outputs": [],
   "source": [
    "count_missings(df)"
   ]
  },
  {
   "cell_type": "code",
   "execution_count": null,
   "metadata": {},
   "outputs": [],
   "source": [
    "def plot_spark_df(df,col_name):\n",
    "    \"\"\"\n",
    "        Plots histogram for from spark dataframe\n",
    "        ARGS:\n",
    "            - df: Spark dataframe\n",
    "    \"\"\"\n",
    "    pd_df = df.toPandas()\n",
    "    plt.figure(figsize=(15,5))\n",
    "    sns.barplot(x=col_name,data=pd_df)"
   ]
  },
  {
   "cell_type": "markdown",
   "metadata": {},
   "source": [
    "## Timeline Analysis"
   ]
  },
  {
   "cell_type": "code",
   "execution_count": null,
   "metadata": {},
   "outputs": [],
   "source": [
    "# defining udf to get weekday\n",
    "# reference: https://stackoverflow.com/questions/38928919/how-to-get-the-weekday-from-day-of-month-using-pyspark\n",
    "\n",
    "funcWeekDay =  udf(lambda x: datetime.strptime(x, '%Y-%m-%d').strftime('%w'))     \n",
    "\n",
    "df = df.withColumn('shortdate',col('dateTime').substr(1, 10))\\\n",
    "     .withColumn('weekDay', funcWeekDay(col('shortdate')))\\\n",
    "     .drop('shortdate')\n",
    "show_df(df)"
   ]
  },
  {
   "cell_type": "code",
   "execution_count": 35,
   "metadata": {},
   "outputs": [],
   "source": [
    "# lets see month wise analysis of churned user\n",
    "month1_user_df = df.filter(col('label') == 1).groupby(col('month')).agg(count(col('userId')).alias('churnedUserCount'))\n",
    "month2_user_df = df.filter(col('label') == 0).groupby(col('month')).agg(count(col('userId')).alias('unChurnedUserCount'))\n",
    "month_churn_df = month1_user_df.join(month2_user_df,on='month',how='full').fillna(0).toPandas().melt(id_vars='month')"
   ]
  },
  {
   "cell_type": "code",
   "execution_count": 36,
   "metadata": {},
   "outputs": [
    {
     "data": {
      "image/png": "[encoded data removed]",
      "text/plain": [
       "<Figure size 1080x360 with 1 Axes>"
      ]
     },
     "metadata": {
      "needs_background": "light"
     },
     "output_type": "display_data"
    }
   ],
   "source": [
    "seab = bar_plot(month_churn_df,col2='value',col1='month',hue='variable',labels=['October','November','December'])"
   ]
  },
  {
   "cell_type": "markdown",
   "metadata": {},
   "source": [
    "* churn count is high in October but reduced in November"
   ]
  },
  {
   "cell_type": "code",
   "execution_count": 37,
   "metadata": {},
   "outputs": [
    {
     "data": {
      "text/html": [
       "<div>\n",
       "<style scoped>\n",
       "    .dataframe tbody tr th:only-of-type {\n",
       "        vertical-align: middle;\n",
       "    }\n",
       "\n",
       "    .dataframe tbody tr th {\n",
       "        vertical-align: top;\n",
       "    }\n",
       "\n",
       "    .dataframe thead th {\n",
       "        text-align: right;\n",
       "    }\n",
       "</style>\n",
       "<table border=\"1\" class=\"dataframe\">\n",
       "  <thead>\n",
       "    <tr style=\"text-align: right;\">\n",
       "      <th></th>\n",
       "      <th>weekDay</th>\n",
       "      <th>gender</th>\n",
       "      <th>userCount</th>\n",
       "    </tr>\n",
       "  </thead>\n",
       "  <tbody>\n",
       "    <tr>\n",
       "      <th>0</th>\n",
       "      <td>0</td>\n",
       "      <td>M</td>\n",
       "      <td>9411</td>\n",
       "    </tr>\n",
       "    <tr>\n",
       "      <th>1</th>\n",
       "      <td>4</td>\n",
       "      <td>F</td>\n",
       "      <td>23811</td>\n",
       "    </tr>\n",
       "    <tr>\n",
       "      <th>2</th>\n",
       "      <td>1</td>\n",
       "      <td>M</td>\n",
       "      <td>17570</td>\n",
       "    </tr>\n",
       "    <tr>\n",
       "      <th>3</th>\n",
       "      <td>3</td>\n",
       "      <td>M</td>\n",
       "      <td>20360</td>\n",
       "    </tr>\n",
       "    <tr>\n",
       "      <th>4</th>\n",
       "      <td>6</td>\n",
       "      <td>F</td>\n",
       "      <td>18303</td>\n",
       "    </tr>\n",
       "    <tr>\n",
       "      <th>5</th>\n",
       "      <td>2</td>\n",
       "      <td>F</td>\n",
       "      <td>25374</td>\n",
       "    </tr>\n",
       "    <tr>\n",
       "      <th>6</th>\n",
       "      <td>0</td>\n",
       "      <td>F</td>\n",
       "      <td>13091</td>\n",
       "    </tr>\n",
       "    <tr>\n",
       "      <th>7</th>\n",
       "      <td>2</td>\n",
       "      <td>M</td>\n",
       "      <td>20553</td>\n",
       "    </tr>\n",
       "    <tr>\n",
       "      <th>8</th>\n",
       "      <td>6</td>\n",
       "      <td>M</td>\n",
       "      <td>14651</td>\n",
       "    </tr>\n",
       "    <tr>\n",
       "      <th>9</th>\n",
       "      <td>1</td>\n",
       "      <td>F</td>\n",
       "      <td>18530</td>\n",
       "    </tr>\n",
       "    <tr>\n",
       "      <th>10</th>\n",
       "      <td>5</td>\n",
       "      <td>F</td>\n",
       "      <td>27220</td>\n",
       "    </tr>\n",
       "    <tr>\n",
       "      <th>11</th>\n",
       "      <td>5</td>\n",
       "      <td>M</td>\n",
       "      <td>21547</td>\n",
       "    </tr>\n",
       "    <tr>\n",
       "      <th>12</th>\n",
       "      <td>4</td>\n",
       "      <td>M</td>\n",
       "      <td>19484</td>\n",
       "    </tr>\n",
       "    <tr>\n",
       "      <th>13</th>\n",
       "      <td>3</td>\n",
       "      <td>F</td>\n",
       "      <td>28249</td>\n",
       "    </tr>\n",
       "  </tbody>\n",
       "</table>\n",
       "</div>"
      ],
      "text/plain": [
       "   weekDay gender  userCount\n",
       "0   0       M      9411     \n",
       "1   4       F      23811    \n",
       "2   1       M      17570    \n",
       "3   3       M      20360    \n",
       "4   6       F      18303    \n",
       "5   2       F      25374    \n",
       "6   0       F      13091    \n",
       "7   2       M      20553    \n",
       "8   6       M      14651    \n",
       "9   1       F      18530    \n",
       "10  5       F      27220    \n",
       "11  5       M      21547    \n",
       "12  4       M      19484    \n",
       "13  3       F      28249    "
      ]
     },
     "execution_count": 37,
     "metadata": {},
     "output_type": "execute_result"
    }
   ],
   "source": [
    "weekday_gender_df = df.groupby('weekDay','gender').agg(count('userId').alias('userCount'))\n",
    "weekday_gender_df = weekday_gender_df.toPandas()\n",
    "weekday_gender_df"
   ]
  },
  {
   "cell_type": "code",
   "execution_count": 38,
   "metadata": {},
   "outputs": [
    {
     "data": {
      "image/png": "[encoded data removed]",
      "text/plain": [
       "<Figure size 1080x360 with 1 Axes>"
      ]
     },
     "metadata": {
      "needs_background": "light"
     },
     "output_type": "display_data"
    },
    {
     "name": "stdout",
     "output_type": "stream",
     "text": [
      "                                        daywise churn count of user comparison male vs Female\n"
     ]
    }
   ],
   "source": [
    "labels = ['Sunday','Monday','Tuesday','Wednesday','Thrusday','Friday','Saturday']\n",
    "bar_plot(weekday_gender_df,col1='weekDay',col2='userCount',hue='gender',labels=labels)\n",
    "print(\" \"*40+'daywise churn count of user comparison male vs Female')"
   ]
  },
  {
   "cell_type": "markdown",
   "metadata": {},
   "source": [
    "* churn rate is low on Sunday and Saturday, Females have high Churn rate"
   ]
  },
  {
   "cell_type": "code",
   "execution_count": 39,
   "metadata": {},
   "outputs": [],
   "source": [
    "day_and_gender_df = df.groupby('gender','dayOfMonth').agg(count('userId').alias('userCount'))\n",
    "day_and_gender_df = day_and_gender_df.toPandas()"
   ]
  },
  {
   "cell_type": "code",
   "execution_count": 40,
   "metadata": {},
   "outputs": [
    {
     "ename": "TypeError",
     "evalue": "'NoneType' object is not iterable",
     "output_type": "error",
     "traceback": [
      "\u001b[1;31m---------------------------------------------------------------------------\u001b[0m",
      "\u001b[1;31mTypeError\u001b[0m                                 Traceback (most recent call last)",
      "\u001b[1;32m<ipython-input-40-b135c3e3c529>\u001b[0m in \u001b[0;36m<module>\u001b[1;34m\u001b[0m\n\u001b[1;32m----> 1\u001b[1;33m \u001b[0mbar_plot\u001b[0m\u001b[1;33m(\u001b[0m\u001b[0mday_and_gender_df\u001b[0m\u001b[1;33m,\u001b[0m\u001b[0mcol1\u001b[0m\u001b[1;33m=\u001b[0m\u001b[1;34m'dayOfMonth'\u001b[0m\u001b[1;33m,\u001b[0m\u001b[0mhue\u001b[0m\u001b[1;33m=\u001b[0m\u001b[1;34m'gender'\u001b[0m\u001b[1;33m,\u001b[0m\u001b[0mcol2\u001b[0m\u001b[1;33m=\u001b[0m\u001b[1;34m'userCount'\u001b[0m\u001b[1;33m)\u001b[0m\u001b[1;33m\u001b[0m\u001b[1;33m\u001b[0m\u001b[0m\n\u001b[0m",
      "\u001b[1;32m<ipython-input-12-a1c0eacf3034>\u001b[0m in \u001b[0;36mbar_plot\u001b[1;34m(df, col1, col2, hue, labels)\u001b[0m\n\u001b[0;32m      7\u001b[0m     \u001b[0mplt\u001b[0m\u001b[1;33m.\u001b[0m\u001b[0mfigure\u001b[0m\u001b[1;33m(\u001b[0m\u001b[0mfigsize\u001b[0m\u001b[1;33m=\u001b[0m\u001b[1;33m(\u001b[0m\u001b[1;36m15\u001b[0m\u001b[1;33m,\u001b[0m\u001b[1;36m5\u001b[0m\u001b[1;33m)\u001b[0m\u001b[1;33m)\u001b[0m\u001b[1;33m\u001b[0m\u001b[1;33m\u001b[0m\u001b[0m\n\u001b[0;32m      8\u001b[0m     \u001b[0mplot\u001b[0m \u001b[1;33m=\u001b[0m \u001b[0msns\u001b[0m\u001b[1;33m.\u001b[0m\u001b[0mbarplot\u001b[0m\u001b[1;33m(\u001b[0m\u001b[0mdata\u001b[0m\u001b[1;33m=\u001b[0m\u001b[0mdf\u001b[0m\u001b[1;33m,\u001b[0m\u001b[0mx\u001b[0m\u001b[1;33m=\u001b[0m\u001b[0mcol1\u001b[0m\u001b[1;33m,\u001b[0m\u001b[0my\u001b[0m\u001b[1;33m=\u001b[0m\u001b[0mcol2\u001b[0m\u001b[1;33m,\u001b[0m\u001b[0mhue\u001b[0m\u001b[1;33m=\u001b[0m\u001b[0mhue\u001b[0m\u001b[1;33m)\u001b[0m\u001b[1;33m\u001b[0m\u001b[1;33m\u001b[0m\u001b[0m\n\u001b[1;32m----> 9\u001b[1;33m     \u001b[0mplot\u001b[0m\u001b[1;33m.\u001b[0m\u001b[0mset_xticklabels\u001b[0m\u001b[1;33m(\u001b[0m\u001b[0mlabels\u001b[0m\u001b[1;33m)\u001b[0m\u001b[1;33m\u001b[0m\u001b[1;33m\u001b[0m\u001b[0m\n\u001b[0m\u001b[0;32m     10\u001b[0m     \u001b[0mplt\u001b[0m\u001b[1;33m.\u001b[0m\u001b[0mshow\u001b[0m\u001b[1;33m(\u001b[0m\u001b[1;33m)\u001b[0m\u001b[1;33m\u001b[0m\u001b[1;33m\u001b[0m\u001b[0m\n\u001b[0;32m     11\u001b[0m \u001b[1;33m\u001b[0m\u001b[0m\n",
      "\u001b[1;32m~\\Anaconda3\\envs\\pyspark_env\\lib\\site-packages\\matplotlib\\axes\\_base.py\u001b[0m in \u001b[0;36mset_xticklabels\u001b[1;34m(self, labels, fontdict, minor, **kwargs)\u001b[0m\n\u001b[0;32m   3384\u001b[0m             \u001b[0mkwargs\u001b[0m\u001b[1;33m.\u001b[0m\u001b[0mupdate\u001b[0m\u001b[1;33m(\u001b[0m\u001b[0mfontdict\u001b[0m\u001b[1;33m)\u001b[0m\u001b[1;33m\u001b[0m\u001b[1;33m\u001b[0m\u001b[0m\n\u001b[0;32m   3385\u001b[0m         ret = self.xaxis.set_ticklabels(labels,\n\u001b[1;32m-> 3386\u001b[1;33m                                         minor=minor, **kwargs)\n\u001b[0m\u001b[0;32m   3387\u001b[0m         \u001b[0mself\u001b[0m\u001b[1;33m.\u001b[0m\u001b[0mstale\u001b[0m \u001b[1;33m=\u001b[0m \u001b[1;32mTrue\u001b[0m\u001b[1;33m\u001b[0m\u001b[1;33m\u001b[0m\u001b[0m\n\u001b[0;32m   3388\u001b[0m         \u001b[1;32mreturn\u001b[0m \u001b[0mret\u001b[0m\u001b[1;33m\u001b[0m\u001b[1;33m\u001b[0m\u001b[0m\n",
      "\u001b[1;32m~\\Anaconda3\\envs\\pyspark_env\\lib\\site-packages\\matplotlib\\axis.py\u001b[0m in \u001b[0;36mset_ticklabels\u001b[1;34m(self, ticklabels, minor, *args, **kwargs)\u001b[0m\n\u001b[0;32m   1714\u001b[0m                 \"3.1; passing them will raise a TypeError in Matplotlib 3.3.\")\n\u001b[0;32m   1715\u001b[0m         \u001b[0mget_labels\u001b[0m \u001b[1;33m=\u001b[0m \u001b[1;33m[\u001b[0m\u001b[1;33m]\u001b[0m\u001b[1;33m\u001b[0m\u001b[1;33m\u001b[0m\u001b[0m\n\u001b[1;32m-> 1716\u001b[1;33m         \u001b[1;32mfor\u001b[0m \u001b[0mt\u001b[0m \u001b[1;32min\u001b[0m \u001b[0mticklabels\u001b[0m\u001b[1;33m:\u001b[0m\u001b[1;33m\u001b[0m\u001b[1;33m\u001b[0m\u001b[0m\n\u001b[0m\u001b[0;32m   1717\u001b[0m             \u001b[1;31m# try calling get_text() to check whether it is Text object\u001b[0m\u001b[1;33m\u001b[0m\u001b[1;33m\u001b[0m\u001b[1;33m\u001b[0m\u001b[0m\n\u001b[0;32m   1718\u001b[0m             \u001b[1;31m# if it is Text, get label content\u001b[0m\u001b[1;33m\u001b[0m\u001b[1;33m\u001b[0m\u001b[1;33m\u001b[0m\u001b[0m\n",
      "\u001b[1;31mTypeError\u001b[0m: 'NoneType' object is not iterable"
     ]
    },
    {
     "data": {
      "image/png": "[encoded data removed]",
      "text/plain": [
       "<Figure size 1080x360 with 1 Axes>"
      ]
     },
     "metadata": {
      "needs_background": "light"
     },
     "output_type": "display_data"
    }
   ],
   "source": [
    "bar_plot(day_and_gender_df,col1='dayOfMonth',hue='gender',col2='userCount')"
   ]
  },
  {
   "cell_type": "markdown",
   "metadata": {},
   "source": [
    "Churn count is high in the Females for starting days of month. 1st of the month the churn count is high in male. since the dataset contains few months of data concrete results can be drawn. "
   ]
  },
  {
   "cell_type": "markdown",
   "metadata": {},
   "source": [
    "# Feature Engineering\n",
    "Once you've familiarized yourself with the data, build out the features you find promising to train your model on. To work with the full dataset, you can follow the following steps.\n",
    "- Write a script to extract the necessary features from the smaller subset of data\n",
    "- Ensure that your script is scalable, using the best practices discussed in Lesson 3\n",
    "- Try your script on the full data set, debugging your script if necessary\n",
    "\n",
    "If you are working in the classroom workspace, you can just extract features based on the small subset of data contained here. Be sure to transfer over this work to the larger dataset when you work on your Spark cluster."
   ]
  },
  {
   "cell_type": "code",
   "execution_count": null,
   "metadata": {},
   "outputs": [],
   "source": [
    "def convert_cat(df,col,val):\n",
    "    \"\"\"\n",
    "        encodes categorical column \n",
    "        ARGS:\n",
    "            df: Spark Dataframe\n",
    "            col: Column to be encoded\n",
    "            val: Dictonary for encoding values\n",
    "        RETURNS:\n",
    "            - SparkDataframe Encoded variable\n",
    "    \"\"\"\n",
    "    temp_df = df.select('userId',col).dropDuplicates().replace(val,subset=col)\n",
    "    temp_df= temp_df.select('userId', temp_df[col].cast('int'))\n",
    "    print(temp_df.show(3))\n",
    "    df.drop('gender')\n",
    "    df = df.join(temp_df,on='userId')\n",
    "    return df\n",
    "convert_cat(df,'genderEncoded',{'M':'1','F':'0'})\n"
   ]
  },
  {
   "cell_type": "code",
   "execution_count": 45,
   "metadata": {},
   "outputs": [
    {
     "ename": "ValueError",
     "evalue": "The truth value of a Series is ambiguous. Use a.empty, a.bool(), a.item(), a.any() or a.all().",
     "output_type": "error",
     "traceback": [
      "\u001b[1;31m---------------------------------------------------------------------------\u001b[0m",
      "\u001b[1;31mValueError\u001b[0m                                Traceback (most recent call last)",
      "\u001b[1;32m<ipython-input-45-a298530f78b6>\u001b[0m in \u001b[0;36m<module>\u001b[1;34m\u001b[0m\n\u001b[0;32m      1\u001b[0m \u001b[1;31m# lets investigate the type of os used by user to access the Song streaming platform\u001b[0m\u001b[1;33m\u001b[0m\u001b[1;33m\u001b[0m\u001b[1;33m\u001b[0m\u001b[0m\n\u001b[0;32m      2\u001b[0m \u001b[1;31m# Nuber of unique platforms\u001b[0m\u001b[1;33m\u001b[0m\u001b[1;33m\u001b[0m\u001b[1;33m\u001b[0m\u001b[0m\n\u001b[1;32m----> 3\u001b[1;33m \u001b[0mdfp\u001b[0m \u001b[1;33m=\u001b[0m \u001b[0mdf\u001b[0m\u001b[1;33m.\u001b[0m\u001b[0mtoPandas\u001b[0m\u001b[1;33m(\u001b[0m\u001b[1;33m)\u001b[0m\u001b[1;33m\u001b[0m\u001b[1;33m\u001b[0m\u001b[0m\n\u001b[0m",
      "\u001b[1;32m~\\Anaconda3\\envs\\pyspark_env\\lib\\site-packages\\pyspark\\sql\\dataframe.py\u001b[0m in \u001b[0;36mtoPandas\u001b[1;34m(self)\u001b[0m\n\u001b[0;32m   2159\u001b[0m             \u001b[1;32mif\u001b[0m \u001b[0mpandas_type\u001b[0m \u001b[1;32mis\u001b[0m \u001b[1;32mnot\u001b[0m \u001b[1;32mNone\u001b[0m \u001b[1;32mand\u001b[0m\u001b[0;31m \u001b[0m\u001b[0;31m\\\u001b[0m\u001b[1;33m\u001b[0m\u001b[1;33m\u001b[0m\u001b[0m\n\u001b[0;32m   2160\u001b[0m                 not(isinstance(field.dataType, IntegralType) and field.nullable and\n\u001b[1;32m-> 2161\u001b[1;33m                     pdf[field.name].isnull().any()):\n\u001b[0m\u001b[0;32m   2162\u001b[0m                 \u001b[0mdtype\u001b[0m\u001b[1;33m[\u001b[0m\u001b[0mfield\u001b[0m\u001b[1;33m.\u001b[0m\u001b[0mname\u001b[0m\u001b[1;33m]\u001b[0m \u001b[1;33m=\u001b[0m \u001b[0mpandas_type\u001b[0m\u001b[1;33m\u001b[0m\u001b[1;33m\u001b[0m\u001b[0m\n\u001b[0;32m   2163\u001b[0m \u001b[1;33m\u001b[0m\u001b[0m\n",
      "\u001b[1;32m~\\Anaconda3\\envs\\pyspark_env\\lib\\site-packages\\pandas\\core\\generic.py\u001b[0m in \u001b[0;36m__nonzero__\u001b[1;34m(self)\u001b[0m\n\u001b[0;32m   1477\u001b[0m     \u001b[1;32mdef\u001b[0m \u001b[0m__nonzero__\u001b[0m\u001b[1;33m(\u001b[0m\u001b[0mself\u001b[0m\u001b[1;33m)\u001b[0m\u001b[1;33m:\u001b[0m\u001b[1;33m\u001b[0m\u001b[1;33m\u001b[0m\u001b[0m\n\u001b[0;32m   1478\u001b[0m         raise ValueError(\n\u001b[1;32m-> 1479\u001b[1;33m             \u001b[1;34mf\"The truth value of a {type(self).__name__} is ambiguous. \"\u001b[0m\u001b[1;33m\u001b[0m\u001b[1;33m\u001b[0m\u001b[0m\n\u001b[0m\u001b[0;32m   1480\u001b[0m             \u001b[1;34m\"Use a.empty, a.bool(), a.item(), a.any() or a.all().\"\u001b[0m\u001b[1;33m\u001b[0m\u001b[1;33m\u001b[0m\u001b[0m\n\u001b[0;32m   1481\u001b[0m         )\n",
      "\u001b[1;31mValueError\u001b[0m: The truth value of a Series is ambiguous. Use a.empty, a.bool(), a.item(), a.any() or a.all()."
     ]
    }
   ],
   "source": [
    "# lets investigate the type of os used by user to access the Song streaming platform\n",
    "# Nuber of unique platforms\n",
    "dfp = df.toPandas()"
   ]
  },
  {
   "cell_type": "code",
   "execution_count": 48,
   "metadata": {},
   "outputs": [],
   "source": [
    "test_str = 'Mozilla50iPhoneCPUiPhoneOS712likeMacOSXAppleWebKit537512KHTML,likeGeckoVersion70Mobile11D257Safari953753'"
   ]
  },
  {
   "cell_type": "code",
   "execution_count": 58,
   "metadata": {},
   "outputs": [
    {
     "data": {
      "text/plain": [
       "<_sre.SRE_Match object; span=(10, 26), match='PhoneCPUiPhoneOS'>"
      ]
     },
     "execution_count": 58,
     "metadata": {},
     "output_type": "execute_result"
    }
   ],
   "source": [
    "import re\n",
    "reg = re.compile('[^Mozilla50+]+[a-zA-Z]+')\n",
    "reg.search(test_str)"
   ]
  },
  {
   "cell_type": "code",
   "execution_count": 64,
   "metadata": {},
   "outputs": [
    {
     "data": {
      "text/plain": [
       "['userId',\n",
       " 'artist',\n",
       " 'auth',\n",
       " 'firstName',\n",
       " 'gender',\n",
       " 'itemInSession',\n",
       " 'lastName',\n",
       " 'length',\n",
       " 'level',\n",
       " 'location',\n",
       " 'method',\n",
       " 'page',\n",
       " 'registration',\n",
       " 'sessionId',\n",
       " 'song',\n",
       " 'status',\n",
       " 'ts',\n",
       " 'userAgent',\n",
       " 'dateTime',\n",
       " 'month',\n",
       " 'dayOfMonth',\n",
       " 'hour',\n",
       " 'date',\n",
       " 'label',\n",
       " 'weekDay',\n",
       " 'gender']"
      ]
     },
     "execution_count": 64,
     "metadata": {},
     "output_type": "execute_result"
    }
   ],
   "source": [
    "df.columns"
   ]
  },
  {
   "cell_type": "code",
   "execution_count": null,
   "metadata": {},
   "outputs": [],
   "source": [
    "# calulate the duration a user spends on Music streaming App\n",
    "def calculate_active_duration(df):\n",
    "    \"\"\"\n",
    "        Calculates number of days a user is active since the day he registerd\n",
    "        ARGS:\n",
    "            - dataframe\n",
    "        REURNS:\n",
    "            - Dataframe with new colum activeDuration\n",
    "    \"\"\"\n",
    "    df = df.withColumn('regDatetime',from_unixtime(col('registration')/1000).cast(DateType()))\n",
    "    user_duration_df = df.groupBy('UserId','regDatetime').agg(max('date').alias('lastInterationDate')) \n",
    "    diff  = (f.unix_timestamp('lastInterationDate')-f.unix_timestamp('regDatetime'))\n",
    "    duration_df = user_duration_df.withColumn('activeDuration',diff/86400)\n",
    "    \n",
    "    df = df.join(duration_df,on='UserId')\n",
    "    return df  "
   ]
  },
  {
   "cell_type": "code",
   "execution_count": null,
   "metadata": {},
   "outputs": [],
   "source": [
    "df = calculate_active_duration(df)\n",
    "show_df(df)"
   ]
  },
  {
   "cell_type": "code",
   "execution_count": null,
   "metadata": {},
   "outputs": [],
   "source": [
    "def user_session_sum():\n",
    "    \"\"\"\n",
    "        Create a column containing the sum of ItemInSession column\n",
    "        RETURNS:\n",
    "            - Dataframe containing column sumItemInSession \n",
    "    \"\"\"\n",
    "    item_sum_df = df.groupby('userId').agg(sum(col('itemInSession')).alias('sumItemInSession'))\n",
    "    df =  df.join(item_sum_df,on='userId')\n",
    "    return df"
   ]
  },
  {
   "cell_type": "code",
   "execution_count": null,
   "metadata": {},
   "outputs": [],
   "source": [
    "def user_stats(df):\n",
    "    \"\"\"\n",
    "        Calculate Song length per user per session \n",
    "        ARGS:\n",
    "            - df: SparkDataframe\n",
    "        RETURNS:\n",
    "            - Spark Dataframe with meanHours and stdevHours\n",
    "    \"\"\"\n",
    "    song_length = df.filter(df.page=='NextSong').select('userId', 'sessionId', 'length')\n",
    "    song_length = song_length.withColumn('hours', (song_length.length / 3600))\n",
    "    song_length = song_length.groupBy('userId', 'sessionId').sum('hours')\n",
    "    song_length = song_length.groupBy('userId').agg(\n",
    "                        avg('sum(hours)').alias('meanHours'), \n",
    "                        stddev('sum(hours)').alias('stdevHours')).na.fill(0)\n",
    "    \n",
    "    return song_length"
   ]
  },
  {
   "cell_type": "code",
   "execution_count": null,
   "metadata": {},
   "outputs": [],
   "source": [
    "def songs_per_session(df):\n",
    "    \"\"\"\n",
    "        number of changing songs\n",
    "        ARGS:\n",
    "            - df: Sparkdataframe\n",
    "        RETURNS:\n",
    "            - pandas dataframe with columns meanSongs, stdevSongs\n",
    "    \"\"\"\n",
    "    song_user_df = df.filter(df.page == 'NextSong').groupBy(\n",
    "                        'userId', 'sessionId').count()\n",
    "    song_user_df = song_user_df.groupBy('userId').agg(\n",
    "                        avg('count').alias('meanSongs'), \n",
    "                        stddev('count').alias('stdevSongs'))\n",
    "    song_user_df = song_user_df.na.fill(0)\n",
    "    \n",
    "    return song_user_df\n"
   ]
  },
  {
   "cell_type": "code",
   "execution_count": null,
   "metadata": {},
   "outputs": [],
   "source": [
    "def artists_per_user(df):\n",
    "    \"\"\"\n",
    "        creates the number of artists the user liked\n",
    "        ARGS:\n",
    "            - df: Spark dataframe\n",
    "        RETURNS:\n",
    "            - Pandas dataframe with artistLiked\n",
    "    \"\"\"\n",
    "    artists_user_df = df.select('userId', 'artist').dropDuplicates().groupBy('userId').count().withColumnRenamed(\"count\", \"artistLiked\")\n",
    "    \n",
    "    return artists_user_df"
   ]
  },
  {
   "cell_type": "code",
   "execution_count": null,
   "metadata": {},
   "outputs": [],
   "source": [
    "def session_stats(df):\n",
    "    \"\"\"\n",
    "        creates mean and stdev for session of each user\n",
    "        ARGS:\n",
    "            - df: Dataframe\n",
    "        RESULTS:\n",
    "            - Spark Dataframe with columns for\n",
    "    \"\"\"\n",
    "    session_user_df = df.groupBy('userId').agg(\n",
    "                        avg('activeDuration').alias('meanSession'), \n",
    "                        stddev('activeDuration').alias('stdevSession'))\n",
    "\n",
    "    session_user_df = session_user_df.na.fill(0)\n",
    "    return session_user_df"
   ]
  },
  {
   "cell_type": "markdown",
   "metadata": {},
   "source": [
    "## Join all features\n"
   ]
  },
  {
   "cell_type": "code",
   "execution_count": null,
   "metadata": {},
   "outputs": [],
   "source": [
    "user_stats_df = user_stats(df)\n",
    "artists_per_user_df = artists_per_user(df)\n",
    "songs_per_session_df = songs_per_session(df)\n",
    "session_stats_df = session_stats(df)\n"
   ]
  },
  {
   "cell_type": "code",
   "execution_count": null,
   "metadata": {},
   "outputs": [],
   "source": [
    "def join_dataframe(base,new_df):\n",
    "    \"\"\"\n",
    "        Joins new dataframe to base dataframe\n",
    "        ARGS: \n",
    "            - base: Sparkdataframe\n",
    "        RETURNS:\n",
    "            - new_df: newly created dataframe to megre with base data frame\n",
    "    \"\"\"\n",
    "    base_df = base.join(new_df,on='userId',how='left')\n",
    "    return base_df"
   ]
  },
  {
   "cell_type": "code",
   "execution_count": null,
   "metadata": {},
   "outputs": [],
   "source": [
    "feature_list_df = [user_stats_df,artists_per_user_df,songs_per_session_df,session_stats_df]\n",
    "def create_final_dataset(base_df,feature_list_df):\n",
    "    \"\"\"\n",
    "        Merges all the features to one final Spark dataframe            \n",
    "    \"\"\"\n",
    "    print('Dimentions before joining')\n",
    "    df_dimentions(df)\n",
    "    joined = base_df\n",
    "    for i,feature in enumerate(feature_list_df):\n",
    "        joined = join_dataframe(joined,feature)\n",
    "        print(\"Newly added features: \",[x for x in feature.columns if x not in ['userId']])\n",
    "    print('Dimentions after joining')\n",
    "    df_dimentions(joined)\n",
    "    return joined"
   ]
  },
  {
   "cell_type": "code",
   "execution_count": null,
   "metadata": {},
   "outputs": [],
   "source": [
    "joined = create_final_dataset(df,feature_list_df)\n"
   ]
  },
  {
   "cell_type": "code",
   "execution_count": null,
   "metadata": {},
   "outputs": [],
   "source": [
    "joined.schema.fields"
   ]
  },
  {
   "cell_type": "code",
   "execution_count": null,
   "metadata": {},
   "outputs": [],
   "source": [
    "df.columns"
   ]
  },
  {
   "cell_type": "code",
   "execution_count": null,
   "metadata": {},
   "outputs": [],
   "source": [
    "final_df.to_csv('final_dataset.CSV', index=False)"
   ]
  },
  {
   "cell_type": "markdown",
   "metadata": {},
   "source": [
    "# Modeling\n",
    "Split the full dataset into train, test, and validation sets. Test out several of the machine learning methods you learned. Evaluate the accuracy of the various models, tuning parameters as necessary. Determine your winning model based on test accuracy and report results on the validation set. Since the churned users are a fairly small subset, I suggest using F1 score as the metric to optimize."
   ]
  },
  {
   "cell_type": "code",
   "execution_count": null,
   "metadata": {},
   "outputs": [],
   "source": []
  },
  {
   "cell_type": "markdown",
   "metadata": {},
   "source": [
    "# Final Steps\n",
    "Clean up your code, adding comments and renaming variables to make the code easier to read and maintain. Refer to the Spark Project Overview page and Data Scientist Capstone Project Rubric to make sure you are including all components of the capstone project and meet all expectations. Remember, this includes thorough documentation in a README file in a Github repository, as well as a web app or blog post."
   ]
  },
  {
   "cell_type": "code",
   "execution_count": null,
   "metadata": {},
   "outputs": [],
   "source": []
  }
 ],
 "metadata": {
  "kernelspec": {
   "display_name": "Python 3",
   "language": "python",
   "name": "python3"
  },
  "language_info": {
   "codemirror_mode": {
    "name": "ipython",
    "version": 3
   },
   "file_extension": ".py",
   "mimetype": "text/x-python",
   "name": "python",
   "nbconvert_exporter": "python",
   "pygments_lexer": "ipython3",
   "version": "3.6.10"
  }
 },
 "nbformat": 4,
 "nbformat_minor": 4
}
