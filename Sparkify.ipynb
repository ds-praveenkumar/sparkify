{
 "cells": [
  {
   "cell_type": "markdown",
   "metadata": {},
   "source": [
    "# Sparkify Project Workspace\n",
    "This workspace contains a tiny subset (128MB) of the full dataset available (12GB). Feel free to use this workspace to build your project, or to explore a smaller subset with Spark before deploying your cluster on the cloud. Instructions for setting up your Spark cluster is included in the last lesson of the Extracurricular Spark Course content.\n",
    "\n",
    "You can follow the steps below to guide your data analysis and model building portion of this project."
   ]
  },
  {
   "cell_type": "markdown",
   "metadata": {},
   "source": [
    "# Bussiness Understanding\n",
    "\n",
    "The dataset seems to belong to some digial music streaming Platform. Whenever a user interacts with the music streaming service the logs get generated like timestamp and the ahe activity page(i.e logOut, like, logIn etc). Tthere are basically types of user 1. free -tier and 2. subscription based. so based on the activity of the user we need to figure out which user is likely to churn out. So that, some kind of discounts can be rolled out to that specific users."
   ]
  },
  {
   "cell_type": "markdown",
   "metadata": {},
   "source": [
    "# Data Understanding\n",
    "\n",
    "the datat is contained in a file `mini_sparkify_event_data.json` \n",
    "Data description :\n",
    "* artist: string name of artist\n",
    "* auth : String authencation levels\n",
    "* firstName: string first name of user\n",
    "* gender: string Gender of user\n",
    "* itemInSession: long log count in the session\n",
    "* lastName: string last name of the user\n",
    "* length: double length of the song\n",
    "* level: string type of subscription\n",
    "* location: string location of user\n",
    "* method: string tupe of request\n",
    "* page: string type of interaction\n",
    "* registration: long registration timestamp\n",
    "* sessionId: long session id of the user\n",
    "* song: string name of song\n",
    "* status: long http status code\n",
    "* ts: long timestamp\n",
    "* userAgent: string agent used by user for straeming service\n",
    "* userId: string inique identifier of  the user\n"
   ]
  },
  {
   "cell_type": "code",
   "execution_count": null,
   "metadata": {},
   "outputs": [],
   "source": [
    "# import libraries\n",
    "from pyspark.sql import SparkSession,Window\n",
    "from pyspark.sql.functions import avg, col, concat, desc, explode, lit, min, max, split, udf, count, when, isnull, collect_list\n",
    "from pyspark.sql.types import *\n",
    "from pyspark.ml.feature import VectorAssembler, StandardScaler\n",
    "from pyspark.storagelevel import StorageLevel\n",
    "from pyspark.sql.functions import *\n",
    "from pyspark.ml.classification import LogisticRegression, GBTClassifier\n",
    "from pyspark.ml.evaluation import BinaryClassificationEvaluator\n",
    "from pyspark.ml.tuning import CrossValidator, ParamGridBuilder\n",
    "from pyspark.sql import functions as f\n",
    "import seaborn as sns\n",
    "import matplotlib.pyplot as plt\n",
    "\n",
    "%matplotlib inline"
   ]
  },
  {
   "cell_type": "code",
   "execution_count": null,
   "metadata": {},
   "outputs": [],
   "source": [
    "import pandas as pd\n",
    "%matplotlib inline\n",
    "pd.set_option('display.max_columns', None)  \n",
    "pd.set_option('display.expand_frame_repr', False)\n",
    "pd.set_option('max_colwidth', -1)"
   ]
  },
  {
   "cell_type": "code",
   "execution_count": null,
   "metadata": {},
   "outputs": [],
   "source": [
    "# create a Spark session\n",
    "sc =  SparkSession \\\n",
    "    .builder \\\n",
    "    .appName(\"Sparkify\") \\\n",
    "    .getOrCreate()"
   ]
  },
  {
   "cell_type": "markdown",
   "metadata": {},
   "source": [
    "# Load and Clean Dataset\n",
    "In this workspace, the mini-dataset file is `mini_sparkify_event_data.json`. Load and clean the dataset, checking for invalid or missing data - for example, records without userids or sessionids. "
   ]
  },
  {
   "cell_type": "code",
   "execution_count": 20,
   "metadata": {},
   "outputs": [
    {
     "name": "stdout",
     "output_type": "stream",
     "text": [
      "root\n",
      " |-- artist: string (nullable = true)\n",
      " |-- auth: string (nullable = true)\n",
      " |-- firstName: string (nullable = true)\n",
      " |-- gender: string (nullable = true)\n",
      " |-- itemInSession: long (nullable = true)\n",
      " |-- lastName: string (nullable = true)\n",
      " |-- length: double (nullable = true)\n",
      " |-- level: string (nullable = true)\n",
      " |-- location: string (nullable = true)\n",
      " |-- method: string (nullable = true)\n",
      " |-- page: string (nullable = true)\n",
      " |-- registration: long (nullable = true)\n",
      " |-- sessionId: long (nullable = true)\n",
      " |-- song: string (nullable = true)\n",
      " |-- status: long (nullable = true)\n",
      " |-- ts: long (nullable = true)\n",
      " |-- userAgent: string (nullable = true)\n",
      " |-- userId: string (nullable = true)\n",
      "\n"
     ]
    }
   ],
   "source": [
    "filename = 'medium-sparkify-event-data.json.gz'\n",
    "df = sc.read.json(filename)\n",
    "df.printSchema()"
   ]
  },
  {
   "cell_type": "code",
   "execution_count": 21,
   "metadata": {},
   "outputs": [],
   "source": [
    "def show_df(df):\n",
    "    \"\"\"\n",
    "        ARGS:\n",
    "            - RDD\n",
    "        RETURNS:\n",
    "            - Prints dataframe\n",
    "    \"\"\"\n",
    "    return pd.DataFrame(df.take(5),columns=df.columns).head()"
   ]
  },
  {
   "cell_type": "code",
   "execution_count": 22,
   "metadata": {},
   "outputs": [
    {
     "name": "stdout",
     "output_type": "stream",
     "text": [
      "row count: 543705, column count: 18\n"
     ]
    }
   ],
   "source": [
    "def df_dimentions(df):\n",
    "    \"\"\"\n",
    "        Prints number of Rows and Columns\n",
    "        ARGS:\n",
    "            - Dataframe\n",
    "    \"\"\"\n",
    "    print(f\"row count: {df.count()}, column count: {len(df.columns)}\")\n",
    "df_dimentions(df)"
   ]
  },
  {
   "cell_type": "code",
   "execution_count": 23,
   "metadata": {},
   "outputs": [
    {
     "data": {
      "text/html": [
       "<div>\n",
       "<style scoped>\n",
       "    .dataframe tbody tr th:only-of-type {\n",
       "        vertical-align: middle;\n",
       "    }\n",
       "\n",
       "    .dataframe tbody tr th {\n",
       "        vertical-align: top;\n",
       "    }\n",
       "\n",
       "    .dataframe thead th {\n",
       "        text-align: right;\n",
       "    }\n",
       "</style>\n",
       "<table border=\"1\" class=\"dataframe\">\n",
       "  <thead>\n",
       "    <tr style=\"text-align: right;\">\n",
       "      <th></th>\n",
       "      <th>artist</th>\n",
       "      <th>auth</th>\n",
       "      <th>firstName</th>\n",
       "      <th>gender</th>\n",
       "      <th>itemInSession</th>\n",
       "      <th>lastName</th>\n",
       "      <th>length</th>\n",
       "      <th>level</th>\n",
       "      <th>location</th>\n",
       "      <th>method</th>\n",
       "      <th>page</th>\n",
       "      <th>registration</th>\n",
       "      <th>sessionId</th>\n",
       "      <th>song</th>\n",
       "      <th>status</th>\n",
       "      <th>ts</th>\n",
       "      <th>userAgent</th>\n",
       "      <th>userId</th>\n",
       "    </tr>\n",
       "  </thead>\n",
       "  <tbody>\n",
       "    <tr>\n",
       "      <th>0</th>\n",
       "      <td>MartinOrford</td>\n",
       "      <td>LoggedIn</td>\n",
       "      <td>Joseph</td>\n",
       "      <td>M</td>\n",
       "      <td>20</td>\n",
       "      <td>Morales</td>\n",
       "      <td>597.55057</td>\n",
       "      <td>free</td>\n",
       "      <td>CorpusChristi,TX</td>\n",
       "      <td>PUT</td>\n",
       "      <td>NextSong</td>\n",
       "      <td>1532063507000</td>\n",
       "      <td>292</td>\n",
       "      <td>GrandDesigns</td>\n",
       "      <td>200</td>\n",
       "      <td>1538352011000</td>\n",
       "      <td>Mozilla50MacintoshIntelMacOSX1094AppleWebKit53736KHTML,likeGeckoChrome3601985125Safari53736</td>\n",
       "      <td>293</td>\n",
       "    </tr>\n",
       "    <tr>\n",
       "      <th>1</th>\n",
       "      <td>JohnBrownsBody</td>\n",
       "      <td>LoggedIn</td>\n",
       "      <td>Sawyer</td>\n",
       "      <td>M</td>\n",
       "      <td>74</td>\n",
       "      <td>Larson</td>\n",
       "      <td>380.21179</td>\n",
       "      <td>free</td>\n",
       "      <td>Houston-TheWoodlands-SugarLand,TX</td>\n",
       "      <td>PUT</td>\n",
       "      <td>NextSong</td>\n",
       "      <td>1538069638000</td>\n",
       "      <td>97</td>\n",
       "      <td>Bulls</td>\n",
       "      <td>200</td>\n",
       "      <td>1538352025000</td>\n",
       "      <td>Mozilla50MacintoshIntelMacOSX1094AppleWebKit53736KHTML,likeGeckoChrome3601985143Safari53736</td>\n",
       "      <td>98</td>\n",
       "    </tr>\n",
       "    <tr>\n",
       "      <th>2</th>\n",
       "      <td>Afroman</td>\n",
       "      <td>LoggedIn</td>\n",
       "      <td>Maverick</td>\n",
       "      <td>M</td>\n",
       "      <td>184</td>\n",
       "      <td>Santiago</td>\n",
       "      <td>202.37016</td>\n",
       "      <td>paid</td>\n",
       "      <td>Orlando-Kissimmee-Sanford,FL</td>\n",
       "      <td>PUT</td>\n",
       "      <td>NextSong</td>\n",
       "      <td>1535953455000</td>\n",
       "      <td>178</td>\n",
       "      <td>BecauseIGotHigh</td>\n",
       "      <td>200</td>\n",
       "      <td>1538352118000</td>\n",
       "      <td>Mozilla50MacintoshIntelMacOSX1094AppleWebKit53736KHTML,likeGeckoChrome3601985143Safari53736</td>\n",
       "      <td>179</td>\n",
       "    </tr>\n",
       "    <tr>\n",
       "      <th>3</th>\n",
       "      <td>None</td>\n",
       "      <td>LoggedIn</td>\n",
       "      <td>Maverick</td>\n",
       "      <td>M</td>\n",
       "      <td>185</td>\n",
       "      <td>Santiago</td>\n",
       "      <td>NaN</td>\n",
       "      <td>paid</td>\n",
       "      <td>Orlando-Kissimmee-Sanford,FL</td>\n",
       "      <td>PUT</td>\n",
       "      <td>Logout</td>\n",
       "      <td>1535953455000</td>\n",
       "      <td>178</td>\n",
       "      <td>None</td>\n",
       "      <td>307</td>\n",
       "      <td>1538352119000</td>\n",
       "      <td>Mozilla50MacintoshIntelMacOSX1094AppleWebKit53736KHTML,likeGeckoChrome3601985143Safari53736</td>\n",
       "      <td>179</td>\n",
       "    </tr>\n",
       "    <tr>\n",
       "      <th>4</th>\n",
       "      <td>LilyAllen</td>\n",
       "      <td>LoggedIn</td>\n",
       "      <td>Gianna</td>\n",
       "      <td>F</td>\n",
       "      <td>22</td>\n",
       "      <td>Campos</td>\n",
       "      <td>194.53342</td>\n",
       "      <td>paid</td>\n",
       "      <td>Mobile,AL</td>\n",
       "      <td>PUT</td>\n",
       "      <td>NextSong</td>\n",
       "      <td>1535931018000</td>\n",
       "      <td>245</td>\n",
       "      <td>SmileRadioEdit</td>\n",
       "      <td>200</td>\n",
       "      <td>1538352124000</td>\n",
       "      <td>Mozilla50WindowsNT61WOW64rv310Gecko20100101Firefox310</td>\n",
       "      <td>246</td>\n",
       "    </tr>\n",
       "  </tbody>\n",
       "</table>\n",
       "</div>"
      ],
      "text/plain": [
       "           artist      auth firstName gender  itemInSession  lastName     length level                           location method      page   registration  sessionId             song  status             ts                                                                                    userAgent userId\n",
       "0  MartinOrford    LoggedIn  Joseph    M      20             Morales   597.55057  free  CorpusChristi,TX                   PUT    NextSong  1532063507000  292        GrandDesigns     200     1538352011000  Mozilla50MacintoshIntelMacOSX1094AppleWebKit53736KHTML,likeGeckoChrome3601985125Safari53736  293  \n",
       "1  JohnBrownsBody  LoggedIn  Sawyer    M      74             Larson    380.21179  free  Houston-TheWoodlands-SugarLand,TX  PUT    NextSong  1538069638000  97         Bulls            200     1538352025000  Mozilla50MacintoshIntelMacOSX1094AppleWebKit53736KHTML,likeGeckoChrome3601985143Safari53736  98   \n",
       "2  Afroman         LoggedIn  Maverick  M      184            Santiago  202.37016  paid  Orlando-Kissimmee-Sanford,FL       PUT    NextSong  1535953455000  178        BecauseIGotHigh  200     1538352118000  Mozilla50MacintoshIntelMacOSX1094AppleWebKit53736KHTML,likeGeckoChrome3601985143Safari53736  179  \n",
       "3  None            LoggedIn  Maverick  M      185            Santiago NaN         paid  Orlando-Kissimmee-Sanford,FL       PUT    Logout    1535953455000  178        None             307     1538352119000  Mozilla50MacintoshIntelMacOSX1094AppleWebKit53736KHTML,likeGeckoChrome3601985143Safari53736  179  \n",
       "4  LilyAllen       LoggedIn  Gianna    F      22             Campos    194.53342  paid  Mobile,AL                          PUT    NextSong  1535931018000  245        SmileRadioEdit   200     1538352124000  Mozilla50WindowsNT61WOW64rv310Gecko20100101Firefox310                                        246  "
      ]
     },
     "execution_count": 23,
     "metadata": {},
     "output_type": "execute_result"
    }
   ],
   "source": [
    "## remove special characters from column\n",
    "def remove_special_chars(df):\n",
    "    \"\"\"\n",
    "        removes special characters from data\n",
    "        ARGS:\n",
    "            - Dataframe\n",
    "        RETURNS:\n",
    "            - clear Dataframe\n",
    "    \"\"\"\n",
    "    for field in df.schema.fields:\n",
    "        if field.dataType == StringType():\n",
    "            df = df.withColumn(field.name,regexp_replace(field.name,'[^a-zA-Z0-9\\,\\-]',''))\n",
    "    \n",
    "    return df\n",
    "df = remove_special_chars(df)\n",
    "show_df(df)"
   ]
  },
  {
   "cell_type": "code",
   "execution_count": 24,
   "metadata": {},
   "outputs": [],
   "source": [
    "def convert_unixtimestamp(df,ts_col):\n",
    "    \"\"\"\n",
    "        converts unix timestamp to date time\n",
    "        ARGS:\n",
    "            - df: Dataframe with Unixtimestamp\n",
    "            - ts: unixtimestamp column name\n",
    "        RETURNS:\n",
    "            - dataframe with new datetime column\n",
    "    \"\"\"\n",
    "    df = df.withColumn(\"dateTime\",from_unixtime(col(ts_col).cast(LongType())/1000).cast(TimestampType()))\n",
    "    df = df.withColumn(\"month\",month(col('dateTime')))\n",
    "    df = df.withColumn(\"date\",from_unixtime(col(ts_col)/1000).cast(DateType()))\n",
    "    df = df.withColumn(\"location\",split(col('location'),',').getItem(1))\n",
    "    df = df.filter(col('userId').isNotNull())\n",
    "    return df\n"
   ]
  },
  {
   "cell_type": "code",
   "execution_count": 25,
   "metadata": {},
   "outputs": [],
   "source": [
    "df = convert_unixtimestamp(df,'ts')"
   ]
  },
  {
   "cell_type": "code",
   "execution_count": 26,
   "metadata": {},
   "outputs": [
    {
     "data": {
      "text/plain": [
       "0"
      ]
     },
     "execution_count": 26,
     "metadata": {},
     "output_type": "execute_result"
    }
   ],
   "source": [
    "df.filter(col('sessionId').isNull()).count()"
   ]
  },
  {
   "cell_type": "markdown",
   "metadata": {},
   "source": [
    "# Exploratory Data Analysis\n",
    "When you're working with the full dataset, perform EDA by loading a small subset of the data and doing basic manipulations within Spark. In this workspace, you are already provided a small subset of data you can explore.\n",
    "\n",
    "### Define Churn\n",
    "\n",
    "Once you've done some preliminary analysis, create a column `Churn` to use as the label for your model. I suggest using the `Cancellation Confirmation` events to define your churn, which happen for both paid and free users. As a bonus task, you can also look into the `Downgrade` events.\n",
    "\n",
    "### Explore Data\n",
    "Once you've defined churn, perform some exploratory data analysis to observe the behavior for users who stayed vs users who churned. You can start by exploring aggregates on these two groups of users, observing how much of a specific action they experienced per a certain time unit or number of songs played."
   ]
  },
  {
   "cell_type": "code",
   "execution_count": null,
   "metadata": {},
   "outputs": [],
   "source": [
    "def create_label(df):\n",
    "    \"\"\"\n",
    "        Create label columns containing 1,0 for cancellation page and auth is cancled\n",
    "        ARGS:\n",
    "            - df: Dataframe \n",
    "        RETURNS:\n",
    "            - Dataframe with labeled columns\n",
    "    \"\"\"\n",
    "    temp_label_df = df.withColumn('label', when((col('page').isin(['Cancellation Confirmation','Cancel'])) | \\\n",
    "                               (col('auth') == 'Cancelled'),0).otherwise(1)) \\\n",
    "                                .groupby('userId').agg(sum('label').alias('label')) \\\n",
    "                                .withColumn('label',when(col('label') >=1,1).otherwise(0))\n",
    "    df = df.join(temp_label_df,on='userId')\n",
    "    return df\n",
    "df = create_label(df)\n",
    "show_df(df)"
   ]
  },
  {
   "cell_type": "code",
   "execution_count": 27,
   "metadata": {},
   "outputs": [],
   "source": [
    "flag_cancelation_event = udf(lambda x: 1 if x == \"Cancellation Confirmation\" else 0, IntegerType())\n",
    "# apply to the dataframe\n",
    "df = df.withColumn(\"churn\", flag_cancelation_event(\"page\"))\n",
    "#Define window bounds\n",
    "windowval = Window.partitionBy(\"userId\").rangeBetween(Window.unboundedPreceding, Window.unboundedFollowing)\n",
    "# Applying the window\n",
    "df = df.withColumn(\"churn\", sum(\"churn\").over(windowval))"
   ]
  },
  {
   "cell_type": "code",
   "execution_count": 29,
   "metadata": {},
   "outputs": [
    {
     "name": "stdout",
     "output_type": "stream",
     "text": [
      "+-----+-----+\n",
      "|churn|count|\n",
      "+-----+-----+\n",
      "|    0|  449|\n",
      "+-----+-----+\n",
      "\n"
     ]
    }
   ],
   "source": [
    "df.dropDuplicates(['userId']).groupby(['churn']).count().show()"
   ]
  },
  {
   "cell_type": "code",
   "execution_count": null,
   "metadata": {},
   "outputs": [],
   "source": [
    "def distinct_attributes(df,col_name):\n",
    "    \"\"\"\n",
    "        Prints all the distinct attributes/values of a single column\n",
    "        ARGS:\n",
    "            - df: Dataframe\n",
    "            - col_name: Name of the column for distinct attributes\n",
    "        \n",
    "    \"\"\"\n",
    "    print(df.select(col_name).distinct().collect())"
   ]
  },
  {
   "cell_type": "code",
   "execution_count": null,
   "metadata": {},
   "outputs": [],
   "source": [
    "def categorical_columns(df):\n",
    "    \"\"\"\n",
    "        prints distinct values of categorical columns\n",
    "        ARGS:\n",
    "            - df: Dataframe\n",
    "    \"\"\"\n",
    "    for field in df.schema.fields:\n",
    "        if ((field.dataType == StringType()) and (field.name not in ['userId','lastName','userAgent','firstName','artist','song'] )):\n",
    "            print(field.name)\n",
    "            distinct_attributes(df,field.name)\n",
    "            print(\"*\"*50)\n",
    "categorical_columns(df)"
   ]
  },
  {
   "cell_type": "code",
   "execution_count": null,
   "metadata": {},
   "outputs": [],
   "source": [
    "# Number of users in Dataset\n",
    "df.select('userId').dropDuplicates().count()"
   ]
  },
  {
   "cell_type": "code",
   "execution_count": null,
   "metadata": {},
   "outputs": [],
   "source": []
  },
  {
   "cell_type": "code",
   "execution_count": null,
   "metadata": {},
   "outputs": [],
   "source": [
    "df.where(\"artist is null\").show(20)"
   ]
  },
  {
   "cell_type": "code",
   "execution_count": null,
   "metadata": {},
   "outputs": [],
   "source": [
    "set(df.select('page').distinct().collect())-set(df.where(\"artist is null\").select('page').distinct().collect())"
   ]
  },
  {
   "cell_type": "code",
   "execution_count": null,
   "metadata": {},
   "outputs": [],
   "source": [
    "distinct_attributes(df,\"auth\")    "
   ]
  },
  {
   "cell_type": "code",
   "execution_count": null,
   "metadata": {},
   "outputs": [],
   "source": [
    "distinct_attributes(df,'page')"
   ]
  },
  {
   "cell_type": "code",
   "execution_count": null,
   "metadata": {},
   "outputs": [],
   "source": [
    "def count_missings(spark_df,sort=True):\n",
    "    \"\"\"\n",
    "        Counts number of nulls and nans in each column\n",
    "        ARGS:\n",
    "            - spark_df: RDD dataframe \n",
    "    \"\"\"\n",
    "    df = spark_df.select([f.count(f.when(f.isnan(c) | f.isnull(c), c)).alias(c) for (c,c_type) in spark_df.dtypes if c_type not in ('timestamp', 'string', 'date')]).toPandas()\n",
    "\n",
    "    if len(df) == 0:\n",
    "        print(\"There are no any missing values!\")\n",
    "        return None\n",
    "\n",
    "    if sort:\n",
    "        return df.rename(index={0: 'missing_value_count'}).T.sort_values(\"missing_value_count\",ascending=False)\n",
    "\n",
    "    return df"
   ]
  },
  {
   "cell_type": "code",
   "execution_count": null,
   "metadata": {},
   "outputs": [],
   "source": [
    "count_missings(df)"
   ]
  },
  {
   "cell_type": "code",
   "execution_count": null,
   "metadata": {},
   "outputs": [],
   "source": [
    "df.select('userId').dropDuplicates().distinct().count()"
   ]
  },
  {
   "cell_type": "code",
   "execution_count": null,
   "metadata": {},
   "outputs": [],
   "source": [
    "def plot_spark_df(df,col_name):\n",
    "    \"\"\"\n",
    "        Plots histogram for from spark dataframe\n",
    "        ARGS:\n",
    "            - df: Spark dataframe\n",
    "    \"\"\"\n",
    "    pd_df = df.toPandas()\n",
    "    plt.figure(figsize=(15,5))\n",
    "    sns.barplot(x=col_name,data=pd_df)"
   ]
  },
  {
   "cell_type": "code",
   "execution_count": null,
   "metadata": {},
   "outputs": [],
   "source": [
    "pd_df = df.toPandas()\n",
    "sns.barplot(x='auth',data=pd_df)"
   ]
  },
  {
   "cell_type": "markdown",
   "metadata": {},
   "source": [
    "# Feature Engineering\n",
    "Once you've familiarized yourself with the data, build out the features you find promising to train your model on. To work with the full dataset, you can follow the following steps.\n",
    "- Write a script to extract the necessary features from the smaller subset of data\n",
    "- Ensure that your script is scalable, using the best practices discussed in Lesson 3\n",
    "- Try your script on the full data set, debugging your script if necessary\n",
    "\n",
    "If you are working in the classroom workspace, you can just extract features based on the small subset of data contained here. Be sure to transfer over this work to the larger dataset when you work on your Spark cluster."
   ]
  },
  {
   "cell_type": "code",
   "execution_count": null,
   "metadata": {},
   "outputs": [],
   "source": [
    "df = convert_unixtimestamp(df,'ts')\n",
    "df = calculate_active_duration(df)\n",
    "show_df(df)"
   ]
  },
  {
   "cell_type": "code",
   "execution_count": null,
   "metadata": {},
   "outputs": [],
   "source": [
    "def calculate_active_duration(df):\n",
    "    \"\"\"\n",
    "        Calculates number of days a user is active since the day he registerd\n",
    "        ARGS:\n",
    "            - dataframe\n",
    "        REURNS:\n",
    "            - Dataframe with new colum activeDuration\n",
    "    \"\"\"\n",
    "    df = df.withColumn('regDatetime',from_unixtime(col('registration')/1000).cast(DateType()))\n",
    "    user_duration_df = df.groupBy('UserId','regDatetime').agg(max('date').alias('lastInterationDate')) \n",
    "    diff  = (f.unix_timestamp('lastInterationDate')-f.unix_timestamp('regDatetime'))\n",
    "    duration_df = user_duration_df.withColumn('activeDuration',diff/86400)\n",
    "    \n",
    "    df = df.join(duration_df,on='UserId')\n",
    "    return df  "
   ]
  },
  {
   "cell_type": "code",
   "execution_count": null,
   "metadata": {},
   "outputs": [],
   "source": [
    "def user_session_sum():\n",
    "    \"\"\"\n",
    "        Create a column containing the sum of ItemInSession column\n",
    "        RETURNS:\n",
    "            - Dataframe containing column sumItemInSession \n",
    "    \"\"\"\n",
    "    item_sum_df = df.groupby('userId').agg(sum(col('itemInSession')).alias('sumItemInSession'))\n",
    "    df =  df.join(item_sum_df,on='userId')\n",
    "    return df"
   ]
  },
  {
   "cell_type": "code",
   "execution_count": null,
   "metadata": {},
   "outputs": [],
   "source": []
  },
  {
   "cell_type": "code",
   "execution_count": null,
   "metadata": {},
   "outputs": [],
   "source": []
  },
  {
   "cell_type": "markdown",
   "metadata": {},
   "source": [
    "# Modeling\n",
    "Split the full dataset into train, test, and validation sets. Test out several of the machine learning methods you learned. Evaluate the accuracy of the various models, tuning parameters as necessary. Determine your winning model based on test accuracy and report results on the validation set. Since the churned users are a fairly small subset, I suggest using F1 score as the metric to optimize."
   ]
  },
  {
   "cell_type": "code",
   "execution_count": null,
   "metadata": {},
   "outputs": [],
   "source": []
  },
  {
   "cell_type": "markdown",
   "metadata": {},
   "source": [
    "# Final Steps\n",
    "Clean up your code, adding comments and renaming variables to make the code easier to read and maintain. Refer to the Spark Project Overview page and Data Scientist Capstone Project Rubric to make sure you are including all components of the capstone project and meet all expectations. Remember, this includes thorough documentation in a README file in a Github repository, as well as a web app or blog post."
   ]
  },
  {
   "cell_type": "code",
   "execution_count": null,
   "metadata": {},
   "outputs": [],
   "source": []
  }
 ],
 "metadata": {
  "kernelspec": {
   "display_name": "Python 3",
   "language": "python",
   "name": "python3"
  },
  "language_info": {
   "codemirror_mode": {
    "name": "ipython",
    "version": 3
   },
   "file_extension": ".py",
   "mimetype": "text/x-python",
   "name": "python",
   "nbconvert_exporter": "python",
   "pygments_lexer": "ipython3",
   "version": "3.7.1"
  }
 },
 "nbformat": 4,
 "nbformat_minor": 2
}
