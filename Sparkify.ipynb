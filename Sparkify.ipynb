{
 "cells": [
  {
   "cell_type": "markdown",
   "metadata": {},
   "source": [
    "# Sparkify Project Workspace\n",
    "This workspace contains a tiny subset (128MB) of the full dataset available (12GB). Feel free to use this workspace to build your project, or to explore a smaller subset with Spark before deploying your cluster on the cloud. Instructions for setting up your Spark cluster is included in the last lesson of the Extracurricular Spark Course content.\n",
    "\n",
    "You can follow the steps below to guide your data analysis and model building portion of this project."
   ]
  },
  {
   "cell_type": "markdown",
   "metadata": {},
   "source": [
    "# Bussiness Understanding\n",
    "\n",
    "The dataset seems to belong to some digial music streaming Platform. Whenever a user interacts with the music streaming service the logs get generated like timestamp and the ahe activity page(i.e logOut, like, logIn etc). Tthere are basically types of user 1. free -tier and 2. subscription based. so based on the activity of the user we need to figure out which user is likely to churn out. So that, some kind of discounts can be rolled out to that specific users."
   ]
  },
  {
   "cell_type": "markdown",
   "metadata": {},
   "source": [
    "# Data Understanding\n",
    "\n",
    "the datat is contained in a file `mini_sparkify_event_data.json` \n",
    "Data description :\n",
    "* artist: string name of artist\n",
    "* auth : String authencation levels\n",
    "* firstName: string first name of user\n",
    "* gender: string Gender of user\n",
    "* itemInSession: long log count in the session\n",
    "* lastName: string last name of the user\n",
    "* length: double length of the song\n",
    "* level: string type of subscription\n",
    "* location: string location of user\n",
    "* method: string tupe of request\n",
    "* page: string type of interaction\n",
    "* registration: long registration timestamp\n",
    "* sessionId: long session id of the user\n",
    "* song: string name of song\n",
    "* status: long http status code\n",
    "* ts: long timestamp\n",
    "* userAgent: string agent used by user for straeming service\n",
    "* userId: string inique identifier of  the user\n"
   ]
  },
  {
   "cell_type": "code",
   "execution_count": 1,
   "metadata": {},
   "outputs": [],
   "source": [
    "# import libraries\n",
    "from pyspark.sql import SparkSession,Window\n",
    "from pyspark.sql.functions import avg, col, concat, desc, explode, lit, min, max, split, udf, count, when, isnull, collect_list\n",
    "from pyspark.sql.types import *\n",
    "from pyspark.ml.feature import VectorAssembler, StandardScaler\n",
    "from pyspark.storagelevel import StorageLevel\n",
    "from pyspark.sql.functions import *\n",
    "from pyspark.ml.classification import LogisticRegression, GBTClassifier\n",
    "from pyspark.ml.evaluation import BinaryClassificationEvaluator\n",
    "from pyspark.ml.tuning import CrossValidator, ParamGridBuilder\n",
    "from pyspark.sql import functions as f\n",
    "import seaborn as sns\n",
    "import matplotlib.pyplot as plt\n",
    "\n",
    "%matplotlib inline"
   ]
  },
  {
   "cell_type": "code",
   "execution_count": 2,
   "metadata": {},
   "outputs": [
    {
     "name": "stderr",
     "output_type": "stream",
     "text": [
      "C:\\Users\\PRAVEEN KUMAR\\Anaconda3\\envs\\pyspark_env\\lib\\site-packages\\ipykernel_launcher.py:5: FutureWarning: Passing a negative integer is deprecated in version 1.0 and will not be supported in future version. Instead, use None to not limit the column width.\n",
      "  \"\"\"\n"
     ]
    }
   ],
   "source": [
    "import pandas as pd\n",
    "%matplotlib inline\n",
    "pd.set_option('display.max_columns', None)  \n",
    "pd.set_option('display.expand_frame_repr', False)\n",
    "pd.set_option('max_colwidth', -1)"
   ]
  },
  {
   "cell_type": "code",
   "execution_count": 3,
   "metadata": {},
   "outputs": [],
   "source": [
    "# create a Spark session\n",
    "sc =  SparkSession \\\n",
    "    .builder \\\n",
    "    .appName(\"Sparkify\") \\\n",
    "    .getOrCreate()"
   ]
  },
  {
   "cell_type": "markdown",
   "metadata": {},
   "source": [
    "# Load and Clean Dataset\n",
    "In this workspace, the mini-dataset file is `mini_sparkify_event_data.json`. Load and clean the dataset, checking for invalid or missing data - for example, records without userids or sessionids. "
   ]
  },
  {
   "cell_type": "code",
   "execution_count": 4,
   "metadata": {},
   "outputs": [
    {
     "name": "stdout",
     "output_type": "stream",
     "text": [
      "root\n",
      " |-- artist: string (nullable = true)\n",
      " |-- auth: string (nullable = true)\n",
      " |-- firstName: string (nullable = true)\n",
      " |-- gender: string (nullable = true)\n",
      " |-- itemInSession: long (nullable = true)\n",
      " |-- lastName: string (nullable = true)\n",
      " |-- length: double (nullable = true)\n",
      " |-- level: string (nullable = true)\n",
      " |-- location: string (nullable = true)\n",
      " |-- method: string (nullable = true)\n",
      " |-- page: string (nullable = true)\n",
      " |-- registration: long (nullable = true)\n",
      " |-- sessionId: long (nullable = true)\n",
      " |-- song: string (nullable = true)\n",
      " |-- status: long (nullable = true)\n",
      " |-- ts: long (nullable = true)\n",
      " |-- userAgent: string (nullable = true)\n",
      " |-- userId: string (nullable = true)\n",
      "\n"
     ]
    }
   ],
   "source": [
    "# Read dataset\n",
    "filename = 'mini_sparkify_event_data.json'\n",
    "df = sc.read.json(filename)\n",
    "df.printSchema()"
   ]
  },
  {
   "cell_type": "code",
   "execution_count": 5,
   "metadata": {},
   "outputs": [
    {
     "data": {
      "text/html": [
       "<div>\n",
       "<style scoped>\n",
       "    .dataframe tbody tr th:only-of-type {\n",
       "        vertical-align: middle;\n",
       "    }\n",
       "\n",
       "    .dataframe tbody tr th {\n",
       "        vertical-align: top;\n",
       "    }\n",
       "\n",
       "    .dataframe thead th {\n",
       "        text-align: right;\n",
       "    }\n",
       "</style>\n",
       "<table border=\"1\" class=\"dataframe\">\n",
       "  <thead>\n",
       "    <tr style=\"text-align: right;\">\n",
       "      <th></th>\n",
       "      <th>artist</th>\n",
       "      <th>auth</th>\n",
       "      <th>firstName</th>\n",
       "      <th>gender</th>\n",
       "      <th>itemInSession</th>\n",
       "      <th>lastName</th>\n",
       "      <th>length</th>\n",
       "      <th>level</th>\n",
       "      <th>location</th>\n",
       "      <th>method</th>\n",
       "      <th>page</th>\n",
       "      <th>registration</th>\n",
       "      <th>sessionId</th>\n",
       "      <th>song</th>\n",
       "      <th>status</th>\n",
       "      <th>ts</th>\n",
       "      <th>userAgent</th>\n",
       "      <th>userId</th>\n",
       "    </tr>\n",
       "  </thead>\n",
       "  <tbody>\n",
       "    <tr>\n",
       "      <th>0</th>\n",
       "      <td>Martha Tilston</td>\n",
       "      <td>Logged In</td>\n",
       "      <td>Colin</td>\n",
       "      <td>M</td>\n",
       "      <td>50</td>\n",
       "      <td>Freeman</td>\n",
       "      <td>277.89016</td>\n",
       "      <td>paid</td>\n",
       "      <td>Bakersfield, CA</td>\n",
       "      <td>PUT</td>\n",
       "      <td>NextSong</td>\n",
       "      <td>1538173362000</td>\n",
       "      <td>29</td>\n",
       "      <td>Rockpools</td>\n",
       "      <td>200</td>\n",
       "      <td>1538352117000</td>\n",
       "      <td>Mozilla/5.0 (Windows NT 6.1; WOW64; rv:31.0) Gecko/20100101 Firefox/31.0</td>\n",
       "      <td>30</td>\n",
       "    </tr>\n",
       "    <tr>\n",
       "      <th>1</th>\n",
       "      <td>Five Iron Frenzy</td>\n",
       "      <td>Logged In</td>\n",
       "      <td>Micah</td>\n",
       "      <td>M</td>\n",
       "      <td>79</td>\n",
       "      <td>Long</td>\n",
       "      <td>236.09424</td>\n",
       "      <td>free</td>\n",
       "      <td>Boston-Cambridge-Newton, MA-NH</td>\n",
       "      <td>PUT</td>\n",
       "      <td>NextSong</td>\n",
       "      <td>1538331630000</td>\n",
       "      <td>8</td>\n",
       "      <td>Canada</td>\n",
       "      <td>200</td>\n",
       "      <td>1538352180000</td>\n",
       "      <td>\"Mozilla/5.0 (Windows NT 6.1; WOW64) AppleWebKit/537.36 (KHTML, like Gecko) Chrome/37.0.2062.103 Safari/537.36\"</td>\n",
       "      <td>9</td>\n",
       "    </tr>\n",
       "    <tr>\n",
       "      <th>2</th>\n",
       "      <td>Adam Lambert</td>\n",
       "      <td>Logged In</td>\n",
       "      <td>Colin</td>\n",
       "      <td>M</td>\n",
       "      <td>51</td>\n",
       "      <td>Freeman</td>\n",
       "      <td>282.82730</td>\n",
       "      <td>paid</td>\n",
       "      <td>Bakersfield, CA</td>\n",
       "      <td>PUT</td>\n",
       "      <td>NextSong</td>\n",
       "      <td>1538173362000</td>\n",
       "      <td>29</td>\n",
       "      <td>Time For Miracles</td>\n",
       "      <td>200</td>\n",
       "      <td>1538352394000</td>\n",
       "      <td>Mozilla/5.0 (Windows NT 6.1; WOW64; rv:31.0) Gecko/20100101 Firefox/31.0</td>\n",
       "      <td>30</td>\n",
       "    </tr>\n",
       "    <tr>\n",
       "      <th>3</th>\n",
       "      <td>Enigma</td>\n",
       "      <td>Logged In</td>\n",
       "      <td>Micah</td>\n",
       "      <td>M</td>\n",
       "      <td>80</td>\n",
       "      <td>Long</td>\n",
       "      <td>262.71302</td>\n",
       "      <td>free</td>\n",
       "      <td>Boston-Cambridge-Newton, MA-NH</td>\n",
       "      <td>PUT</td>\n",
       "      <td>NextSong</td>\n",
       "      <td>1538331630000</td>\n",
       "      <td>8</td>\n",
       "      <td>Knocking On Forbidden Doors</td>\n",
       "      <td>200</td>\n",
       "      <td>1538352416000</td>\n",
       "      <td>\"Mozilla/5.0 (Windows NT 6.1; WOW64) AppleWebKit/537.36 (KHTML, like Gecko) Chrome/37.0.2062.103 Safari/537.36\"</td>\n",
       "      <td>9</td>\n",
       "    </tr>\n",
       "    <tr>\n",
       "      <th>4</th>\n",
       "      <td>Daft Punk</td>\n",
       "      <td>Logged In</td>\n",
       "      <td>Colin</td>\n",
       "      <td>M</td>\n",
       "      <td>52</td>\n",
       "      <td>Freeman</td>\n",
       "      <td>223.60771</td>\n",
       "      <td>paid</td>\n",
       "      <td>Bakersfield, CA</td>\n",
       "      <td>PUT</td>\n",
       "      <td>NextSong</td>\n",
       "      <td>1538173362000</td>\n",
       "      <td>29</td>\n",
       "      <td>Harder Better Faster Stronger</td>\n",
       "      <td>200</td>\n",
       "      <td>1538352676000</td>\n",
       "      <td>Mozilla/5.0 (Windows NT 6.1; WOW64; rv:31.0) Gecko/20100101 Firefox/31.0</td>\n",
       "      <td>30</td>\n",
       "    </tr>\n",
       "  </tbody>\n",
       "</table>\n",
       "</div>"
      ],
      "text/plain": [
       "             artist       auth firstName gender  itemInSession lastName     length level                        location method      page   registration  sessionId                           song  status             ts                                                                                                        userAgent userId\n",
       "0  Martha Tilston    Logged In  Colin     M      50             Freeman  277.89016  paid  Bakersfield, CA                 PUT    NextSong  1538173362000  29         Rockpools                      200     1538352117000  Mozilla/5.0 (Windows NT 6.1; WOW64; rv:31.0) Gecko/20100101 Firefox/31.0                                         30   \n",
       "1  Five Iron Frenzy  Logged In  Micah     M      79             Long     236.09424  free  Boston-Cambridge-Newton, MA-NH  PUT    NextSong  1538331630000  8          Canada                         200     1538352180000  \"Mozilla/5.0 (Windows NT 6.1; WOW64) AppleWebKit/537.36 (KHTML, like Gecko) Chrome/37.0.2062.103 Safari/537.36\"  9    \n",
       "2  Adam Lambert      Logged In  Colin     M      51             Freeman  282.82730  paid  Bakersfield, CA                 PUT    NextSong  1538173362000  29         Time For Miracles              200     1538352394000  Mozilla/5.0 (Windows NT 6.1; WOW64; rv:31.0) Gecko/20100101 Firefox/31.0                                         30   \n",
       "3  Enigma            Logged In  Micah     M      80             Long     262.71302  free  Boston-Cambridge-Newton, MA-NH  PUT    NextSong  1538331630000  8          Knocking On Forbidden Doors    200     1538352416000  \"Mozilla/5.0 (Windows NT 6.1; WOW64) AppleWebKit/537.36 (KHTML, like Gecko) Chrome/37.0.2062.103 Safari/537.36\"  9    \n",
       "4  Daft Punk         Logged In  Colin     M      52             Freeman  223.60771  paid  Bakersfield, CA                 PUT    NextSong  1538173362000  29         Harder Better Faster Stronger  200     1538352676000  Mozilla/5.0 (Windows NT 6.1; WOW64; rv:31.0) Gecko/20100101 Firefox/31.0                                         30   "
      ]
     },
     "execution_count": 5,
     "metadata": {},
     "output_type": "execute_result"
    }
   ],
   "source": [
    "def show_df(df):\n",
    "    \"\"\"\n",
    "        ARGS:\n",
    "            - spark Dataframe\n",
    "        RETURNS:\n",
    "            - Prints dataframe\n",
    "    \"\"\"\n",
    "    return pd.DataFrame(df.take(5),columns=df.columns).head()\n",
    "show_df(df)"
   ]
  },
  {
   "cell_type": "code",
   "execution_count": 6,
   "metadata": {},
   "outputs": [
    {
     "name": "stdout",
     "output_type": "stream",
     "text": [
      "row count: 286500, column count: 18\n"
     ]
    }
   ],
   "source": [
    "def df_dimentions(df):\n",
    "    \"\"\"\n",
    "        Prints number of Rows and Columns\n",
    "        ARGS:\n",
    "            - Dataframe\n",
    "    \"\"\"\n",
    "    print(f\"row count: {df.count()}, column count: {len(df.columns)}\")\n",
    "df_dimentions(df)"
   ]
  },
  {
   "cell_type": "code",
   "execution_count": 7,
   "metadata": {},
   "outputs": [
    {
     "data": {
      "text/html": [
       "<div>\n",
       "<style scoped>\n",
       "    .dataframe tbody tr th:only-of-type {\n",
       "        vertical-align: middle;\n",
       "    }\n",
       "\n",
       "    .dataframe tbody tr th {\n",
       "        vertical-align: top;\n",
       "    }\n",
       "\n",
       "    .dataframe thead th {\n",
       "        text-align: right;\n",
       "    }\n",
       "</style>\n",
       "<table border=\"1\" class=\"dataframe\">\n",
       "  <thead>\n",
       "    <tr style=\"text-align: right;\">\n",
       "      <th></th>\n",
       "      <th>artist</th>\n",
       "      <th>auth</th>\n",
       "      <th>firstName</th>\n",
       "      <th>gender</th>\n",
       "      <th>itemInSession</th>\n",
       "      <th>lastName</th>\n",
       "      <th>length</th>\n",
       "      <th>level</th>\n",
       "      <th>location</th>\n",
       "      <th>method</th>\n",
       "      <th>page</th>\n",
       "      <th>registration</th>\n",
       "      <th>sessionId</th>\n",
       "      <th>song</th>\n",
       "      <th>status</th>\n",
       "      <th>ts</th>\n",
       "      <th>userAgent</th>\n",
       "      <th>userId</th>\n",
       "    </tr>\n",
       "  </thead>\n",
       "  <tbody>\n",
       "    <tr>\n",
       "      <th>0</th>\n",
       "      <td>MarthaTilston</td>\n",
       "      <td>LoggedIn</td>\n",
       "      <td>Colin</td>\n",
       "      <td>M</td>\n",
       "      <td>50</td>\n",
       "      <td>Freeman</td>\n",
       "      <td>277.89016</td>\n",
       "      <td>paid</td>\n",
       "      <td>Bakersfield,CA</td>\n",
       "      <td>PUT</td>\n",
       "      <td>NextSong</td>\n",
       "      <td>1538173362000</td>\n",
       "      <td>29</td>\n",
       "      <td>Rockpools</td>\n",
       "      <td>200</td>\n",
       "      <td>1538352117000</td>\n",
       "      <td>Mozilla50WindowsNT61WOW64rv310Gecko20100101Firefox310</td>\n",
       "      <td>30</td>\n",
       "    </tr>\n",
       "    <tr>\n",
       "      <th>1</th>\n",
       "      <td>FiveIronFrenzy</td>\n",
       "      <td>LoggedIn</td>\n",
       "      <td>Micah</td>\n",
       "      <td>M</td>\n",
       "      <td>79</td>\n",
       "      <td>Long</td>\n",
       "      <td>236.09424</td>\n",
       "      <td>free</td>\n",
       "      <td>Boston-Cambridge-Newton,MA-NH</td>\n",
       "      <td>PUT</td>\n",
       "      <td>NextSong</td>\n",
       "      <td>1538331630000</td>\n",
       "      <td>8</td>\n",
       "      <td>Canada</td>\n",
       "      <td>200</td>\n",
       "      <td>1538352180000</td>\n",
       "      <td>Mozilla50WindowsNT61WOW64AppleWebKit53736KHTML,likeGeckoChrome3702062103Safari53736</td>\n",
       "      <td>9</td>\n",
       "    </tr>\n",
       "    <tr>\n",
       "      <th>2</th>\n",
       "      <td>AdamLambert</td>\n",
       "      <td>LoggedIn</td>\n",
       "      <td>Colin</td>\n",
       "      <td>M</td>\n",
       "      <td>51</td>\n",
       "      <td>Freeman</td>\n",
       "      <td>282.82730</td>\n",
       "      <td>paid</td>\n",
       "      <td>Bakersfield,CA</td>\n",
       "      <td>PUT</td>\n",
       "      <td>NextSong</td>\n",
       "      <td>1538173362000</td>\n",
       "      <td>29</td>\n",
       "      <td>TimeForMiracles</td>\n",
       "      <td>200</td>\n",
       "      <td>1538352394000</td>\n",
       "      <td>Mozilla50WindowsNT61WOW64rv310Gecko20100101Firefox310</td>\n",
       "      <td>30</td>\n",
       "    </tr>\n",
       "    <tr>\n",
       "      <th>3</th>\n",
       "      <td>Enigma</td>\n",
       "      <td>LoggedIn</td>\n",
       "      <td>Micah</td>\n",
       "      <td>M</td>\n",
       "      <td>80</td>\n",
       "      <td>Long</td>\n",
       "      <td>262.71302</td>\n",
       "      <td>free</td>\n",
       "      <td>Boston-Cambridge-Newton,MA-NH</td>\n",
       "      <td>PUT</td>\n",
       "      <td>NextSong</td>\n",
       "      <td>1538331630000</td>\n",
       "      <td>8</td>\n",
       "      <td>KnockingOnForbiddenDoors</td>\n",
       "      <td>200</td>\n",
       "      <td>1538352416000</td>\n",
       "      <td>Mozilla50WindowsNT61WOW64AppleWebKit53736KHTML,likeGeckoChrome3702062103Safari53736</td>\n",
       "      <td>9</td>\n",
       "    </tr>\n",
       "    <tr>\n",
       "      <th>4</th>\n",
       "      <td>DaftPunk</td>\n",
       "      <td>LoggedIn</td>\n",
       "      <td>Colin</td>\n",
       "      <td>M</td>\n",
       "      <td>52</td>\n",
       "      <td>Freeman</td>\n",
       "      <td>223.60771</td>\n",
       "      <td>paid</td>\n",
       "      <td>Bakersfield,CA</td>\n",
       "      <td>PUT</td>\n",
       "      <td>NextSong</td>\n",
       "      <td>1538173362000</td>\n",
       "      <td>29</td>\n",
       "      <td>HarderBetterFasterStronger</td>\n",
       "      <td>200</td>\n",
       "      <td>1538352676000</td>\n",
       "      <td>Mozilla50WindowsNT61WOW64rv310Gecko20100101Firefox310</td>\n",
       "      <td>30</td>\n",
       "    </tr>\n",
       "  </tbody>\n",
       "</table>\n",
       "</div>"
      ],
      "text/plain": [
       "           artist      auth firstName gender  itemInSession lastName     length level                       location method      page   registration  sessionId                        song  status             ts                                                                            userAgent userId\n",
       "0  MarthaTilston   LoggedIn  Colin     M      50             Freeman  277.89016  paid  Bakersfield,CA                 PUT    NextSong  1538173362000  29         Rockpools                   200     1538352117000  Mozilla50WindowsNT61WOW64rv310Gecko20100101Firefox310                                30   \n",
       "1  FiveIronFrenzy  LoggedIn  Micah     M      79             Long     236.09424  free  Boston-Cambridge-Newton,MA-NH  PUT    NextSong  1538331630000  8          Canada                      200     1538352180000  Mozilla50WindowsNT61WOW64AppleWebKit53736KHTML,likeGeckoChrome3702062103Safari53736  9    \n",
       "2  AdamLambert     LoggedIn  Colin     M      51             Freeman  282.82730  paid  Bakersfield,CA                 PUT    NextSong  1538173362000  29         TimeForMiracles             200     1538352394000  Mozilla50WindowsNT61WOW64rv310Gecko20100101Firefox310                                30   \n",
       "3  Enigma          LoggedIn  Micah     M      80             Long     262.71302  free  Boston-Cambridge-Newton,MA-NH  PUT    NextSong  1538331630000  8          KnockingOnForbiddenDoors    200     1538352416000  Mozilla50WindowsNT61WOW64AppleWebKit53736KHTML,likeGeckoChrome3702062103Safari53736  9    \n",
       "4  DaftPunk        LoggedIn  Colin     M      52             Freeman  223.60771  paid  Bakersfield,CA                 PUT    NextSong  1538173362000  29         HarderBetterFasterStronger  200     1538352676000  Mozilla50WindowsNT61WOW64rv310Gecko20100101Firefox310                                30   "
      ]
     },
     "execution_count": 7,
     "metadata": {},
     "output_type": "execute_result"
    }
   ],
   "source": [
    "## remove special characters from column\n",
    "def remove_special_chars(df):\n",
    "    \"\"\"\n",
    "        removes special characters from data\n",
    "        ARGS:\n",
    "            - Dataframe\n",
    "        RETURNS:\n",
    "            - clear Dataframe\n",
    "    \"\"\"\n",
    "    for field in df.schema.fields:\n",
    "        if field.dataType == StringType():\n",
    "            df = df.withColumn(field.name,regexp_replace(field.name,'[^a-zA-Z0-9\\,\\-]',''))\n",
    "    \n",
    "    return df\n",
    "df = remove_special_chars(df)\n",
    "show_df(df)"
   ]
  },
  {
   "cell_type": "code",
   "execution_count": 8,
   "metadata": {},
   "outputs": [],
   "source": [
    "def convert_unixtimestamp(df,ts_col):\n",
    "    \"\"\"\n",
    "        converts unix timestamp to date time\n",
    "        ARGS:\n",
    "            - df: Dataframe with Unixtimestamp\n",
    "            - ts: unixtimestamp column name\n",
    "        RETURNS:\n",
    "            - dataframe with new datetime column\n",
    "    \"\"\"\n",
    "    df = df.withColumn(\"dateTime\",from_unixtime(col(ts_col).cast(LongType())/1000).cast(TimestampType()))\n",
    "    df = df.withColumn(\"month\",month(col('dateTime')))\n",
    "    df = df.withColumn(\"date\",from_unixtime(col(ts_col)/1000).cast(DateType()))\n",
    "    df = df.withColumn(\"location\",split(col('location'),',').getItem(1))\n",
    "    df = df.filter(col('userId').isNotNull())\n",
    "    return df\n"
   ]
  },
  {
   "cell_type": "code",
   "execution_count": 9,
   "metadata": {},
   "outputs": [],
   "source": [
    "# create time series column\n",
    "df = convert_unixtimestamp(df,'ts')"
   ]
  },
  {
   "cell_type": "code",
   "execution_count": 10,
   "metadata": {},
   "outputs": [
    {
     "data": {
      "text/plain": [
       "0"
      ]
     },
     "execution_count": 10,
     "metadata": {},
     "output_type": "execute_result"
    }
   ],
   "source": [
    "df.filter(col('userId').isNull()).count()"
   ]
  },
  {
   "cell_type": "code",
   "execution_count": 11,
   "metadata": {},
   "outputs": [
    {
     "data": {
      "text/plain": [
       "0"
      ]
     },
     "execution_count": 11,
     "metadata": {},
     "output_type": "execute_result"
    }
   ],
   "source": [
    "# Dropping the missing User's ID rows\n",
    "df = df.filter(df.userId != '')\n",
    "# Check\n",
    "df.filter(df.userId == '').count()"
   ]
  },
  {
   "cell_type": "markdown",
   "metadata": {},
   "source": [
    "# Exploratory Data Analysis\n",
    "When you're working with the full dataset, perform EDA by loading a small subset of the data and doing basic manipulations within Spark. In this workspace, you are already provided a small subset of data you can explore.\n",
    "\n",
    "### Define Churn\n",
    "\n",
    "Once you've done some preliminary analysis, create a column `Churn` to use as the label for your model. I suggest using the `Cancellation Confirmation` events to define your churn, which happen for both paid and free users. As a bonus task, you can also look into the `Downgrade` events.\n",
    "\n",
    "### Explore Data\n",
    "Once you've defined churn, perform some exploratory data analysis to observe the behavior for users who stayed vs users who churned. You can start by exploring aggregates on these two groups of users, observing how much of a specific action they experienced per a certain time unit or number of songs played."
   ]
  },
  {
   "cell_type": "code",
   "execution_count": 39,
   "metadata": {},
   "outputs": [],
   "source": [
    "def bar_plot(df,col1,col2,hue=None):\n",
    "    \"\"\"\n",
    "        plots using the data \n",
    "        ARGS:\n",
    "            - df: Pandas Dataframe\n",
    "    \"\"\"\n",
    "    plt.figure(figsize=(15,5))\n",
    "    sns.barplot(data=df,x=col1,y=col2,hue=hue)\n",
    "    "
   ]
  },
  {
   "cell_type": "code",
   "execution_count": 12,
   "metadata": {},
   "outputs": [],
   "source": [
    "def distinct_attributes(df,col_name):\n",
    "    \"\"\"\n",
    "        Prints all the distinct attributes/values of a single column\n",
    "        ARGS:\n",
    "            - df: Dataframe\n",
    "            - col_name: Name of the column for distinct attributes\n",
    "        \n",
    "    \"\"\"\n",
    "    print(df.select(col_name).distinct().collect())"
   ]
  },
  {
   "cell_type": "code",
   "execution_count": 13,
   "metadata": {},
   "outputs": [
    {
     "name": "stdout",
     "output_type": "stream",
     "text": [
      "auth\n",
      "[Row(auth='Cancelled'), Row(auth='LoggedIn')]\n",
      "**************************************************\n",
      "gender\n",
      "[Row(gender='F'), Row(gender='M')]\n",
      "**************************************************\n",
      "level\n",
      "[Row(level='free'), Row(level='paid')]\n",
      "**************************************************\n",
      "location\n",
      "[Row(location='UT-ID'), Row(location='AZ'), Row(location='SC'), Row(location='GA-AL'), Row(location='LA'), Row(location='RI-MA'), Row(location='NJ'), Row(location='IL-MO'), Row(location='MN-WI'), Row(location='OR'), Row(location='SC-NC'), Row(location='PA-NJ'), Row(location='MD-WV'), Row(location='VA'), Row(location='NY-NJ-PA'), Row(location='KY'), Row(location='NH'), Row(location='MI'), Row(location='NV'), Row(location='WI'), Row(location='CA'), Row(location='CT'), Row(location='MT'), Row(location='NC'), Row(location='MD'), Row(location='NE-IA'), Row(location='IL'), Row(location='WA'), Row(location='MS'), Row(location='AL'), Row(location='IN'), Row(location='OH'), Row(location='TN'), Row(location='IA'), Row(location='PA'), Row(location='DC-VA-MD-WV'), Row(location='NY'), Row(location='MO-KS'), Row(location='KY-IN'), Row(location='PA-NJ-DE-MD'), Row(location='TX'), Row(location='WV'), Row(location='VA-NC'), Row(location='OR-WA'), Row(location='GA'), Row(location='IL-IN-WI'), Row(location='OH-KY-IN'), Row(location='MO-IL'), Row(location='FL'), Row(location='CO'), Row(location='AK'), Row(location='MA-NH'), Row(location='AR'), Row(location='OK'), Row(location='TN-MS-AR'), Row(location='TN-VA'), Row(location='UT'), Row(location='NC-SC')]\n",
      "**************************************************\n",
      "method\n",
      "[Row(method='PUT'), Row(method='GET')]\n",
      "**************************************************\n",
      "page\n",
      "[Row(page='Cancel'), Row(page='CancellationConfirmation'), Row(page='ThumbsDown'), Row(page='Home'), Row(page='Downgrade'), Row(page='ThumbsUp'), Row(page='SubmitDowngrade'), Row(page='Logout'), Row(page='About'), Row(page='Settings'), Row(page='SaveSettings'), Row(page='NextSong'), Row(page='RollAdvert'), Row(page='AddtoPlaylist'), Row(page='Help'), Row(page='Upgrade'), Row(page='SubmitUpgrade'), Row(page='Error'), Row(page='AddFriend')]\n",
      "**************************************************\n"
     ]
    }
   ],
   "source": [
    "def categorical_columns(df):\n",
    "    \"\"\"\n",
    "        prints distinct values of categorical columns\n",
    "        ARGS:\n",
    "            - df: Dataframe\n",
    "    \"\"\"\n",
    "    for field in df.schema.fields:\n",
    "        if ((field.dataType == StringType()) and (field.name not in ['userId','lastName','userAgent','firstName','artist','song'] )):\n",
    "            print(field.name)\n",
    "            distinct_attributes(df,field.name)\n",
    "            print(\"*\"*50)\n",
    "categorical_columns(df)"
   ]
  },
  {
   "cell_type": "code",
   "execution_count": 14,
   "metadata": {},
   "outputs": [
    {
     "name": "stdout",
     "output_type": "stream",
     "text": [
      "+------+\n",
      "|userId|\n",
      "+------+\n",
      "|   125|\n",
      "|    51|\n",
      "|    54|\n",
      "|100014|\n",
      "|   101|\n",
      "|    29|\n",
      "|100021|\n",
      "|    87|\n",
      "|    73|\n",
      "|     3|\n",
      "+------+\n",
      "only showing top 10 rows\n",
      "\n"
     ]
    }
   ],
   "source": [
    "#filter pages of type CancellationConfirmation\n",
    "df.filter(df.page==\"CancellationConfirmation\").select(\"userId\").dropDuplicates().show(10)"
   ]
  },
  {
   "cell_type": "code",
   "execution_count": 15,
   "metadata": {},
   "outputs": [
    {
     "data": {
      "text/html": [
       "<div>\n",
       "<style scoped>\n",
       "    .dataframe tbody tr th:only-of-type {\n",
       "        vertical-align: middle;\n",
       "    }\n",
       "\n",
       "    .dataframe tbody tr th {\n",
       "        vertical-align: top;\n",
       "    }\n",
       "\n",
       "    .dataframe thead th {\n",
       "        text-align: right;\n",
       "    }\n",
       "</style>\n",
       "<table border=\"1\" class=\"dataframe\">\n",
       "  <thead>\n",
       "    <tr style=\"text-align: right;\">\n",
       "      <th></th>\n",
       "      <th>artist</th>\n",
       "      <th>auth</th>\n",
       "      <th>firstName</th>\n",
       "      <th>gender</th>\n",
       "      <th>itemInSession</th>\n",
       "      <th>lastName</th>\n",
       "      <th>length</th>\n",
       "      <th>level</th>\n",
       "      <th>location</th>\n",
       "      <th>method</th>\n",
       "      <th>page</th>\n",
       "      <th>registration</th>\n",
       "      <th>sessionId</th>\n",
       "      <th>song</th>\n",
       "      <th>status</th>\n",
       "      <th>ts</th>\n",
       "      <th>userAgent</th>\n",
       "      <th>userId</th>\n",
       "      <th>dateTime</th>\n",
       "      <th>month</th>\n",
       "      <th>date</th>\n",
       "      <th>label</th>\n",
       "    </tr>\n",
       "  </thead>\n",
       "  <tbody>\n",
       "    <tr>\n",
       "      <th>0</th>\n",
       "      <td>SleepingWithSirens</td>\n",
       "      <td>LoggedIn</td>\n",
       "      <td>Darianna</td>\n",
       "      <td>F</td>\n",
       "      <td>0</td>\n",
       "      <td>Carpenter</td>\n",
       "      <td>202.97098</td>\n",
       "      <td>free</td>\n",
       "      <td>CT</td>\n",
       "      <td>PUT</td>\n",
       "      <td>NextSong</td>\n",
       "      <td>1538016340000</td>\n",
       "      <td>31</td>\n",
       "      <td>CaptainTyinKnotsVSMrWalkwayNoWay</td>\n",
       "      <td>200</td>\n",
       "      <td>1539003534000</td>\n",
       "      <td>Mozilla50iPhoneCPUiPhoneOS712likeMacOSXAppleWebKit537512KHTML,likeGeckoVersion70Mobile11D257Safari953753</td>\n",
       "      <td>100010</td>\n",
       "      <td>2018-10-08 18:28:54</td>\n",
       "      <td>10</td>\n",
       "      <td>2018-10-08</td>\n",
       "      <td>0</td>\n",
       "    </tr>\n",
       "    <tr>\n",
       "      <th>1</th>\n",
       "      <td>FrancescaBattistelli</td>\n",
       "      <td>LoggedIn</td>\n",
       "      <td>Darianna</td>\n",
       "      <td>F</td>\n",
       "      <td>1</td>\n",
       "      <td>Carpenter</td>\n",
       "      <td>196.54485</td>\n",
       "      <td>free</td>\n",
       "      <td>CT</td>\n",
       "      <td>PUT</td>\n",
       "      <td>NextSong</td>\n",
       "      <td>1538016340000</td>\n",
       "      <td>31</td>\n",
       "      <td>BeautifulBeautifulAlbum</td>\n",
       "      <td>200</td>\n",
       "      <td>1539003736000</td>\n",
       "      <td>Mozilla50iPhoneCPUiPhoneOS712likeMacOSXAppleWebKit537512KHTML,likeGeckoVersion70Mobile11D257Safari953753</td>\n",
       "      <td>100010</td>\n",
       "      <td>2018-10-08 18:32:16</td>\n",
       "      <td>10</td>\n",
       "      <td>2018-10-08</td>\n",
       "      <td>0</td>\n",
       "    </tr>\n",
       "    <tr>\n",
       "      <th>2</th>\n",
       "      <td>Brutha</td>\n",
       "      <td>LoggedIn</td>\n",
       "      <td>Darianna</td>\n",
       "      <td>F</td>\n",
       "      <td>2</td>\n",
       "      <td>Carpenter</td>\n",
       "      <td>263.13098</td>\n",
       "      <td>free</td>\n",
       "      <td>CT</td>\n",
       "      <td>PUT</td>\n",
       "      <td>NextSong</td>\n",
       "      <td>1538016340000</td>\n",
       "      <td>31</td>\n",
       "      <td>ShesGone</td>\n",
       "      <td>200</td>\n",
       "      <td>1539003932000</td>\n",
       "      <td>Mozilla50iPhoneCPUiPhoneOS712likeMacOSXAppleWebKit537512KHTML,likeGeckoVersion70Mobile11D257Safari953753</td>\n",
       "      <td>100010</td>\n",
       "      <td>2018-10-08 18:35:32</td>\n",
       "      <td>10</td>\n",
       "      <td>2018-10-08</td>\n",
       "      <td>0</td>\n",
       "    </tr>\n",
       "    <tr>\n",
       "      <th>3</th>\n",
       "      <td>None</td>\n",
       "      <td>LoggedIn</td>\n",
       "      <td>Darianna</td>\n",
       "      <td>F</td>\n",
       "      <td>3</td>\n",
       "      <td>Carpenter</td>\n",
       "      <td>NaN</td>\n",
       "      <td>free</td>\n",
       "      <td>CT</td>\n",
       "      <td>PUT</td>\n",
       "      <td>ThumbsUp</td>\n",
       "      <td>1538016340000</td>\n",
       "      <td>31</td>\n",
       "      <td>None</td>\n",
       "      <td>307</td>\n",
       "      <td>1539003933000</td>\n",
       "      <td>Mozilla50iPhoneCPUiPhoneOS712likeMacOSXAppleWebKit537512KHTML,likeGeckoVersion70Mobile11D257Safari953753</td>\n",
       "      <td>100010</td>\n",
       "      <td>2018-10-08 18:35:33</td>\n",
       "      <td>10</td>\n",
       "      <td>2018-10-08</td>\n",
       "      <td>0</td>\n",
       "    </tr>\n",
       "    <tr>\n",
       "      <th>4</th>\n",
       "      <td>JoshRitter</td>\n",
       "      <td>LoggedIn</td>\n",
       "      <td>Darianna</td>\n",
       "      <td>F</td>\n",
       "      <td>4</td>\n",
       "      <td>Carpenter</td>\n",
       "      <td>316.23791</td>\n",
       "      <td>free</td>\n",
       "      <td>CT</td>\n",
       "      <td>PUT</td>\n",
       "      <td>NextSong</td>\n",
       "      <td>1538016340000</td>\n",
       "      <td>31</td>\n",
       "      <td>FolkBloodbath</td>\n",
       "      <td>200</td>\n",
       "      <td>1539004195000</td>\n",
       "      <td>Mozilla50iPhoneCPUiPhoneOS712likeMacOSXAppleWebKit537512KHTML,likeGeckoVersion70Mobile11D257Safari953753</td>\n",
       "      <td>100010</td>\n",
       "      <td>2018-10-08 18:39:55</td>\n",
       "      <td>10</td>\n",
       "      <td>2018-10-08</td>\n",
       "      <td>0</td>\n",
       "    </tr>\n",
       "  </tbody>\n",
       "</table>\n",
       "</div>"
      ],
      "text/plain": [
       "                 artist      auth firstName gender  itemInSession   lastName     length level location method      page   registration  sessionId                              song  status             ts                                                                                                 userAgent  userId            dateTime  month        date  label\n",
       "0  SleepingWithSirens    LoggedIn  Darianna  F      0              Carpenter  202.97098  free  CT       PUT    NextSong  1538016340000  31         CaptainTyinKnotsVSMrWalkwayNoWay  200     1539003534000  Mozilla50iPhoneCPUiPhoneOS712likeMacOSXAppleWebKit537512KHTML,likeGeckoVersion70Mobile11D257Safari953753  100010 2018-10-08 18:28:54  10     2018-10-08  0    \n",
       "1  FrancescaBattistelli  LoggedIn  Darianna  F      1              Carpenter  196.54485  free  CT       PUT    NextSong  1538016340000  31         BeautifulBeautifulAlbum           200     1539003736000  Mozilla50iPhoneCPUiPhoneOS712likeMacOSXAppleWebKit537512KHTML,likeGeckoVersion70Mobile11D257Safari953753  100010 2018-10-08 18:32:16  10     2018-10-08  0    \n",
       "2  Brutha                LoggedIn  Darianna  F      2              Carpenter  263.13098  free  CT       PUT    NextSong  1538016340000  31         ShesGone                          200     1539003932000  Mozilla50iPhoneCPUiPhoneOS712likeMacOSXAppleWebKit537512KHTML,likeGeckoVersion70Mobile11D257Safari953753  100010 2018-10-08 18:35:32  10     2018-10-08  0    \n",
       "3  None                  LoggedIn  Darianna  F      3              Carpenter NaN         free  CT       PUT    ThumbsUp  1538016340000  31         None                              307     1539003933000  Mozilla50iPhoneCPUiPhoneOS712likeMacOSXAppleWebKit537512KHTML,likeGeckoVersion70Mobile11D257Safari953753  100010 2018-10-08 18:35:33  10     2018-10-08  0    \n",
       "4  JoshRitter            LoggedIn  Darianna  F      4              Carpenter  316.23791  free  CT       PUT    NextSong  1538016340000  31         FolkBloodbath                     200     1539004195000  Mozilla50iPhoneCPUiPhoneOS712likeMacOSXAppleWebKit537512KHTML,likeGeckoVersion70Mobile11D257Safari953753  100010 2018-10-08 18:39:55  10     2018-10-08  0    "
      ]
     },
     "execution_count": 15,
     "metadata": {},
     "output_type": "execute_result"
    }
   ],
   "source": [
    "def create_label(df):\n",
    "    \"\"\"\n",
    "        Create label columns containing 1,0 for cancellation page and auth is cancled\n",
    "        ARGS:\n",
    "            - df: Dataframe \n",
    "        RETURNS:\n",
    "            - Dataframe with labeled columns\n",
    "    \"\"\"\n",
    "    \n",
    "    flag_cancelation_event = udf(lambda x: 1 if x == \"CancellationConfirmation\" else 0, IntegerType())\n",
    "    # apply to the dataframe\n",
    "    df = df.withColumn(\"label\", flag_cancelation_event(\"page\"))\n",
    "    #Define window bounds\n",
    "    windowval = Window.partitionBy(\"userId\").rangeBetween(Window.unboundedPreceding, Window.unboundedFollowing)\n",
    "    # Applying the window\n",
    "    df = df.withColumn(\"label\", sum(\"label\").over(windowval))\n",
    "    return df\n",
    "# Create Label as churn Column\n",
    "df = create_label(df)\n",
    "show_df(df)"
   ]
  },
  {
   "cell_type": "code",
   "execution_count": 17,
   "metadata": {},
   "outputs": [
    {
     "data": {
      "text/plain": [
       "225"
      ]
     },
     "execution_count": 17,
     "metadata": {},
     "output_type": "execute_result"
    }
   ],
   "source": [
    "# Number of users in Dataset\n",
    "df.select('userId').dropDuplicates().count()"
   ]
  },
  {
   "cell_type": "code",
   "execution_count": null,
   "metadata": {},
   "outputs": [],
   "source": [
    "# create dataframe for plotting count of different labels of all the users\n",
    "label_df = df.dropDuplicates(['userId']).groupby(['label']).count()\n",
    "label_df = label_df.toPandas()\n"
   ]
  },
  {
   "cell_type": "code",
   "execution_count": 41,
   "metadata": {},
   "outputs": [
    {
     "data": {
      "image/png": "[encoded data removed]",
      "text/plain": [
       "<Figure size 1080x360 with 1 Axes>"
      ]
     },
     "metadata": {
      "needs_background": "light"
     },
     "output_type": "display_data"
    }
   ],
   "source": [
    "# the data set is highly oi\n",
    "bar_plot(label_df,'label','count')"
   ]
  },
  {
   "cell_type": "code",
   "execution_count": 18,
   "metadata": {},
   "outputs": [
    {
     "data": {
      "text/plain": [
       "Row(artist='SleepingWithSirens', auth='LoggedIn', firstName='Darianna', gender='F', itemInSession=0, lastName='Carpenter', length=202.97098, level='free', location='CT', method='PUT', page='NextSong', registration=1538016340000, sessionId=31, song='CaptainTyinKnotsVSMrWalkwayNoWay', status=200, ts=1539003534000, userAgent='Mozilla50iPhoneCPUiPhoneOS712likeMacOSXAppleWebKit537512KHTML,likeGeckoVersion70Mobile11D257Safari953753', userId='100010', dateTime=datetime.datetime(2018, 10, 8, 18, 28, 54), month=10, date=datetime.date(2018, 10, 8), label=0)"
      ]
     },
     "execution_count": 18,
     "metadata": {},
     "output_type": "execute_result"
    }
   ],
   "source": [
    "df.head()"
   ]
  },
  {
   "cell_type": "code",
   "execution_count": 30,
   "metadata": {},
   "outputs": [
    {
     "data": {
      "text/html": [
       "<div>\n",
       "<style scoped>\n",
       "    .dataframe tbody tr th:only-of-type {\n",
       "        vertical-align: middle;\n",
       "    }\n",
       "\n",
       "    .dataframe tbody tr th {\n",
       "        vertical-align: top;\n",
       "    }\n",
       "\n",
       "    .dataframe thead th {\n",
       "        text-align: right;\n",
       "    }\n",
       "</style>\n",
       "<table border=\"1\" class=\"dataframe\">\n",
       "  <thead>\n",
       "    <tr style=\"text-align: right;\">\n",
       "      <th></th>\n",
       "      <th>label</th>\n",
       "      <th>gender</th>\n",
       "      <th>count</th>\n",
       "    </tr>\n",
       "  </thead>\n",
       "  <tbody>\n",
       "    <tr>\n",
       "      <th>0</th>\n",
       "      <td>0</td>\n",
       "      <td>F</td>\n",
       "      <td>84</td>\n",
       "    </tr>\n",
       "    <tr>\n",
       "      <th>1</th>\n",
       "      <td>1</td>\n",
       "      <td>M</td>\n",
       "      <td>32</td>\n",
       "    </tr>\n",
       "    <tr>\n",
       "      <th>2</th>\n",
       "      <td>1</td>\n",
       "      <td>F</td>\n",
       "      <td>20</td>\n",
       "    </tr>\n",
       "    <tr>\n",
       "      <th>3</th>\n",
       "      <td>0</td>\n",
       "      <td>M</td>\n",
       "      <td>89</td>\n",
       "    </tr>\n",
       "  </tbody>\n",
       "</table>\n",
       "</div>"
      ],
      "text/plain": [
       "   label gender  count\n",
       "0  0      F      84   \n",
       "1  1      M      32   \n",
       "2  1      F      20   \n",
       "3  0      M      89   "
      ]
     },
     "execution_count": 30,
     "metadata": {},
     "output_type": "execute_result"
    }
   ],
   "source": [
    "# types of user churn by gender\n",
    "gender_df = df.dropDuplicates(['userId', 'gender']).groupby(['label', 'gender']).count()\n",
    "gender_df = gender_df.toPandas()\n",
    "gender_df"
   ]
  },
  {
   "cell_type": "code",
   "execution_count": 38,
   "metadata": {},
   "outputs": [
    {
     "data": {
      "image/png": "[encoded data removed]",
      "text/plain": [
       "<Figure size 1080x360 with 1 Axes>"
      ]
     },
     "metadata": {
      "needs_background": "light"
     },
     "output_type": "display_data"
    }
   ],
   "source": [
    "bar_plot(gender_df,'label','count','gender')"
   ]
  },
  {
   "cell_type": "code",
   "execution_count": 29,
   "metadata": {},
   "outputs": [
    {
     "data": {
      "text/html": [
       "<div>\n",
       "<style scoped>\n",
       "    .dataframe tbody tr th:only-of-type {\n",
       "        vertical-align: middle;\n",
       "    }\n",
       "\n",
       "    .dataframe tbody tr th {\n",
       "        vertical-align: top;\n",
       "    }\n",
       "\n",
       "    .dataframe thead th {\n",
       "        text-align: right;\n",
       "    }\n",
       "</style>\n",
       "<table border=\"1\" class=\"dataframe\">\n",
       "  <thead>\n",
       "    <tr style=\"text-align: right;\">\n",
       "      <th></th>\n",
       "      <th>label</th>\n",
       "      <th>level</th>\n",
       "      <th>count</th>\n",
       "    </tr>\n",
       "  </thead>\n",
       "  <tbody>\n",
       "    <tr>\n",
       "      <th>0</th>\n",
       "      <td>1</td>\n",
       "      <td>paid</td>\n",
       "      <td>36</td>\n",
       "    </tr>\n",
       "    <tr>\n",
       "      <th>1</th>\n",
       "      <td>1</td>\n",
       "      <td>free</td>\n",
       "      <td>46</td>\n",
       "    </tr>\n",
       "    <tr>\n",
       "      <th>2</th>\n",
       "      <td>0</td>\n",
       "      <td>free</td>\n",
       "      <td>149</td>\n",
       "    </tr>\n",
       "    <tr>\n",
       "      <th>3</th>\n",
       "      <td>0</td>\n",
       "      <td>paid</td>\n",
       "      <td>129</td>\n",
       "    </tr>\n",
       "  </tbody>\n",
       "</table>\n",
       "</div>"
      ],
      "text/plain": [
       "   label level  count\n",
       "0  1      paid  36   \n",
       "1  1      free  46   \n",
       "2  0      free  149  \n",
       "3  0      paid  129  "
      ]
     },
     "execution_count": 29,
     "metadata": {},
     "output_type": "execute_result"
    }
   ],
   "source": [
    "# User status by paid level\n",
    "paid_df = df.dropDuplicates(['userId', 'level']).groupby(['label', 'level']).count()\n",
    "paid_df = paid_df.toPandas()\n",
    "paid_df"
   ]
  },
  {
   "cell_type": "code",
   "execution_count": 37,
   "metadata": {},
   "outputs": [
    {
     "data": {
      "image/png": "[encoded data removed]",
      "text/plain": [
       "<Figure size 1080x360 with 1 Axes>"
      ]
     },
     "metadata": {
      "needs_background": "light"
     },
     "output_type": "display_data"
    }
   ],
   "source": [
    "bar_plot(paid_df,'label','count','level')"
   ]
  },
  {
   "cell_type": "code",
   "execution_count": null,
   "metadata": {},
   "outputs": [],
   "source": [
    "def count_missings(spark_df,sort=True):\n",
    "    \"\"\"\n",
    "        Counts number of nulls and nans in each column\n",
    "        ARGS:\n",
    "            - spark_df: RDD dataframe \n",
    "    \"\"\"\n",
    "    df = spark_df.select([f.count(f.when(f.isnan(c) | f.isnull(c), c)).alias(c) for (c,c_type) in spark_df.dtypes if c_type not in ('timestamp', 'string', 'date')]).toPandas()\n",
    "\n",
    "    if len(df) == 0:\n",
    "        print(\"There are no any missing values!\")\n",
    "        return None\n",
    "\n",
    "    if sort:\n",
    "        return df.rename(index={0: 'missing_value_count'}).T.sort_values(\"missing_value_count\",ascending=False)\n",
    "\n",
    "    return df"
   ]
  },
  {
   "cell_type": "code",
   "execution_count": null,
   "metadata": {},
   "outputs": [],
   "source": [
    "count_missings(df)"
   ]
  },
  {
   "cell_type": "code",
   "execution_count": null,
   "metadata": {},
   "outputs": [],
   "source": [
    "df.select('userId').dropDuplicates().distinct().count()"
   ]
  },
  {
   "cell_type": "code",
   "execution_count": null,
   "metadata": {},
   "outputs": [],
   "source": [
    "def plot_spark_df(df,col_name):\n",
    "    \"\"\"\n",
    "        Plots histogram for from spark dataframe\n",
    "        ARGS:\n",
    "            - df: Spark dataframe\n",
    "    \"\"\"\n",
    "    pd_df = df.toPandas()\n",
    "    plt.figure(figsize=(15,5))\n",
    "    sns.barplot(x=col_name,data=pd_df)"
   ]
  },
  {
   "cell_type": "code",
   "execution_count": null,
   "metadata": {},
   "outputs": [],
   "source": [
    "pd_df = df.toPandas()\n",
    "sns.barplot(x='auth',data=pd_df)"
   ]
  },
  {
   "cell_type": "markdown",
   "metadata": {},
   "source": [
    "# Feature Engineering\n",
    "Once you've familiarized yourself with the data, build out the features you find promising to train your model on. To work with the full dataset, you can follow the following steps.\n",
    "- Write a script to extract the necessary features from the smaller subset of data\n",
    "- Ensure that your script is scalable, using the best practices discussed in Lesson 3\n",
    "- Try your script on the full data set, debugging your script if necessary\n",
    "\n",
    "If you are working in the classroom workspace, you can just extract features based on the small subset of data contained here. Be sure to transfer over this work to the larger dataset when you work on your Spark cluster."
   ]
  },
  {
   "cell_type": "code",
   "execution_count": null,
   "metadata": {},
   "outputs": [],
   "source": [
    "df = convert_unixtimestamp(df,'ts')\n",
    "df = calculate_active_duration(df)\n",
    "show_df(df)"
   ]
  },
  {
   "cell_type": "code",
   "execution_count": null,
   "metadata": {},
   "outputs": [],
   "source": [
    "def calculate_active_duration(df):\n",
    "    \"\"\"\n",
    "        Calculates number of days a user is active since the day he registerd\n",
    "        ARGS:\n",
    "            - dataframe\n",
    "        REURNS:\n",
    "            - Dataframe with new colum activeDuration\n",
    "    \"\"\"\n",
    "    df = df.withColumn('regDatetime',from_unixtime(col('registration')/1000).cast(DateType()))\n",
    "    user_duration_df = df.groupBy('UserId','regDatetime').agg(max('date').alias('lastInterationDate')) \n",
    "    diff  = (f.unix_timestamp('lastInterationDate')-f.unix_timestamp('regDatetime'))\n",
    "    duration_df = user_duration_df.withColumn('activeDuration',diff/86400)\n",
    "    \n",
    "    df = df.join(duration_df,on='UserId')\n",
    "    return df  "
   ]
  },
  {
   "cell_type": "code",
   "execution_count": null,
   "metadata": {},
   "outputs": [],
   "source": [
    "def user_session_sum():\n",
    "    \"\"\"\n",
    "        Create a column containing the sum of ItemInSession column\n",
    "        RETURNS:\n",
    "            - Dataframe containing column sumItemInSession \n",
    "    \"\"\"\n",
    "    item_sum_df = df.groupby('userId').agg(sum(col('itemInSession')).alias('sumItemInSession'))\n",
    "    df =  df.join(item_sum_df,on='userId')\n",
    "    return df"
   ]
  },
  {
   "cell_type": "code",
   "execution_count": null,
   "metadata": {},
   "outputs": [],
   "source": []
  },
  {
   "cell_type": "code",
   "execution_count": null,
   "metadata": {},
   "outputs": [],
   "source": []
  },
  {
   "cell_type": "markdown",
   "metadata": {},
   "source": [
    "# Modeling\n",
    "Split the full dataset into train, test, and validation sets. Test out several of the machine learning methods you learned. Evaluate the accuracy of the various models, tuning parameters as necessary. Determine your winning model based on test accuracy and report results on the validation set. Since the churned users are a fairly small subset, I suggest using F1 score as the metric to optimize."
   ]
  },
  {
   "cell_type": "code",
   "execution_count": null,
   "metadata": {},
   "outputs": [],
   "source": []
  },
  {
   "cell_type": "markdown",
   "metadata": {},
   "source": [
    "# Final Steps\n",
    "Clean up your code, adding comments and renaming variables to make the code easier to read and maintain. Refer to the Spark Project Overview page and Data Scientist Capstone Project Rubric to make sure you are including all components of the capstone project and meet all expectations. Remember, this includes thorough documentation in a README file in a Github repository, as well as a web app or blog post."
   ]
  },
  {
   "cell_type": "code",
   "execution_count": null,
   "metadata": {},
   "outputs": [],
   "source": []
  }
 ],
 "metadata": {
  "kernelspec": {
   "display_name": "Python 3",
   "language": "python",
   "name": "python3"
  },
  "language_info": {
   "codemirror_mode": {
    "name": "ipython",
    "version": 3
   },
   "file_extension": ".py",
   "mimetype": "text/x-python",
   "name": "python",
   "nbconvert_exporter": "python",
   "pygments_lexer": "ipython3",
   "version": "3.6.10"
  }
 },
 "nbformat": 4,
 "nbformat_minor": 4
}
